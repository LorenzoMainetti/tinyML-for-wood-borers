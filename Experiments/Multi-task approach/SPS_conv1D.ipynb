{
 "cells": [
  {
   "cell_type": "code",
   "execution_count": null,
   "metadata": {
    "collapsed": true
   },
   "outputs": [],
   "source": [
    "import sys\n",
    "\n",
    "sys.path.append('../../')\n",
    "\n",
    "import os\n",
    "import tensorflow as tf\n",
    "import numpy as np\n",
    "from sklearn.metrics import accuracy_score, classification_report\n",
    "from matplotlib import pyplot as plt\n",
    "from keras.callbacks import ReduceLROnPlateau, EarlyStopping\n",
    "import keras.backend as K\n",
    "from Pipeline.Multi_task.soft_parameter_sharing import ConstrainedMTL\n",
    "from keras.layers import Dense, Conv1D, MaxPool1D, Lambda\n",
    "from keras import Input, Model\n",
    "from keras import Sequential\n",
    "\n",
    "from Pipeline.tf_dataset_builder import DatasetBuilderRaw\n",
    "from Pipeline.evaluation import detection_report\n",
    "from Pipeline.tf_lite_utils import convert_tf_lite_mtl, predict_tflite_mtl, convert_tf_lite, compare_size\n",
    "from Pipeline.evaluation import plot_confusion_matrix"
   ]
  },
  {
   "cell_type": "code",
   "execution_count": 2,
   "outputs": [],
   "source": [
    "# Set seed for experiment reproducibility\n",
    "seed = 1\n",
    "tf.random.set_seed(seed)"
   ],
   "metadata": {
    "collapsed": false,
    "ExecuteTime": {
     "end_time": "2023-06-10T17:19:52.437564900Z",
     "start_time": "2023-06-10T17:19:52.421966500Z"
    }
   }
  },
  {
   "cell_type": "code",
   "execution_count": 3,
   "outputs": [],
   "source": [
    "# Define paths to model files\n",
    "MODELS_DIR = '../../Models/'\n",
    "if not os.path.exists(MODELS_DIR):\n",
    "    os.mkdir(MODELS_DIR)\n",
    "MODEL_TF = MODELS_DIR + 'sps_model'\n",
    "MODEL_NO_QUANT_TFLITE = MODELS_DIR + 'sps_model_no_quant.tflite'\n",
    "MODEL_TFLITE = MODELS_DIR + 'sps_model.tflite'"
   ],
   "metadata": {
    "collapsed": false,
    "ExecuteTime": {
     "end_time": "2023-06-10T17:19:52.453291600Z",
     "start_time": "2023-06-10T17:19:52.437564900Z"
    }
   }
  },
  {
   "cell_type": "code",
   "execution_count": 4,
   "outputs": [],
   "source": [
    "class_dict = {\n",
    "    'Background': 0,\n",
    "    'Big mandibles': 1,\n",
    "    'Small mandibles': 2,\n",
    "}"
   ],
   "metadata": {
    "collapsed": false,
    "ExecuteTime": {
     "end_time": "2023-06-10T17:19:52.468879800Z",
     "start_time": "2023-06-10T17:19:52.453291600Z"
    }
   }
  },
  {
   "cell_type": "code",
   "execution_count": 5,
   "outputs": [],
   "source": [
    "# Set hyperparameters\n",
    "batch_size = 64\n",
    "learning_rate = 0.001\n",
    "epochs = 100\n",
    "patience = 8\n",
    "gamma = 0.5"
   ],
   "metadata": {
    "collapsed": false,
    "ExecuteTime": {
     "end_time": "2023-06-10T17:19:52.484570600Z",
     "start_time": "2023-06-10T17:19:52.468879800Z"
    }
   }
  },
  {
   "cell_type": "code",
   "execution_count": 6,
   "outputs": [],
   "source": [
    "# Load the data: raw extraction\n",
    "DatasetBuilder = DatasetBuilderRaw(\n",
    "    #dataset_dir=\"../../Dataset/Generated dataset/Deployment/unstandardized/50ms/**/*.wav\",\n",
    "    dataset_dir=\"../../Dataset/Final dataset/Generation/Generated dataset/**/*.wav\",\n",
    "    batch_size=batch_size,\n",
    "    class_dict=class_dict,\n",
    "    augment=False,\n",
    "    balanced=False,\n",
    "    multi_task=True,\n",
    "    normalize=True,\n",
    "    seed=seed,\n",
    "    sample_rate=44100\n",
    ")\n",
    "train_dataset, val_dataset, test_dataset = DatasetBuilder.build(val_split=0.2, test_split=0.2)"
   ],
   "metadata": {
    "collapsed": false,
    "ExecuteTime": {
     "end_time": "2023-06-10T17:23:28.408592100Z",
     "start_time": "2023-06-10T17:19:52.484570600Z"
    }
   }
  },
  {
   "cell_type": "code",
   "execution_count": 7,
   "outputs": [
    {
     "data": {
      "text/plain": "(2205, 1)"
     },
     "execution_count": 7,
     "metadata": {},
     "output_type": "execute_result"
    }
   ],
   "source": [
    "input_shape = test_dataset[0][0].shape\n",
    "input_shape"
   ],
   "metadata": {
    "collapsed": false,
    "ExecuteTime": {
     "end_time": "2023-06-10T17:23:28.424079800Z",
     "start_time": "2023-06-10T17:23:28.408592100Z"
    }
   }
  },
  {
   "cell_type": "code",
   "execution_count": 8,
   "outputs": [],
   "source": [
    "input_layer = Input(shape=input_shape)\n",
    "\n",
    "detection_backbone = Sequential([\n",
    "    Conv1D(filters=8, kernel_size=80, padding=\"same\", activation='relu'),\n",
    "    MaxPool1D(pool_size=4, strides=2),\n",
    "    Conv1D(filters=8, kernel_size=3, padding=\"same\", activation='relu'),\n",
    "    MaxPool1D(pool_size=4, strides=2),\n",
    "    Conv1D(filters=8, kernel_size=3, padding=\"same\", activation='relu'),\n",
    "    MaxPool1D(pool_size=4, strides=2),\n",
    "    Lambda(lambda x: K.mean(x, axis=1)),\n",
    "    Dense(units=32, activation='relu'),\n",
    "])\n",
    "\n",
    "classification_backbone = Sequential([\n",
    "    Conv1D(filters=8, kernel_size=80, padding=\"same\", activation='relu'),\n",
    "    MaxPool1D(pool_size=4, strides=2),\n",
    "    Conv1D(filters=8, kernel_size=3, padding=\"same\", activation='relu'),\n",
    "    MaxPool1D(pool_size=4, strides=2),\n",
    "    Conv1D(filters=8, kernel_size=3, padding=\"same\", activation='relu'),\n",
    "    MaxPool1D(pool_size=4, strides=2),\n",
    "    Lambda(lambda x: K.mean(x, axis=1)),\n",
    "    Dense(units=32, activation='relu'),\n",
    "])\n",
    "\n",
    "latent = ConstrainedMTL([detection_backbone, classification_backbone], l1_regularizer=0.5, l2_regularizer=0.5)(input_layer)\n",
    "\n",
    "detection_head = Sequential([\n",
    "    Dense(32, activation='relu'),\n",
    "    Dense(1, activation='sigmoid'),\n",
    "])\n",
    "detection_head._name = 'detection'\n",
    "\n",
    "classification_head = Sequential([\n",
    "    Dense(32, activation='relu'),\n",
    "    Dense(len(class_dict), activation='softmax'),\n",
    "])\n",
    "classification_head._name = 'classification'\n",
    "\n",
    "output1 = detection_head(latent[0])\n",
    "output2 = classification_head(latent[1])\n",
    "\n",
    "multitask_model = Model(inputs=input_layer, outputs=[output1, output2])"
   ],
   "metadata": {
    "collapsed": false,
    "ExecuteTime": {
     "end_time": "2023-06-10T17:23:29.028722Z",
     "start_time": "2023-06-10T17:23:28.424079800Z"
    }
   }
  },
  {
   "cell_type": "code",
   "execution_count": 9,
   "outputs": [
    {
     "name": "stdout",
     "output_type": "stream",
     "text": [
      "Model: \"model\"\n",
      "__________________________________________________________________________________________________\n",
      " Layer (type)                   Output Shape         Param #     Connected to                     \n",
      "==================================================================================================\n",
      " input_1 (InputLayer)           [(None, 2205, 1)]    0           []                               \n",
      "                                                                                                  \n",
      " constrained_mtl (ConstrainedMT  [(None, 32),        2672        ['input_1[0][0]']                \n",
      " L)                              (None, 32)]                                                      \n",
      "|¯¯¯¯¯¯¯¯¯¯¯¯¯¯¯¯¯¯¯¯¯¯¯¯¯¯¯¯¯¯¯¯¯¯¯¯¯¯¯¯¯¯¯¯¯¯¯¯¯¯¯¯¯¯¯¯¯¯¯¯¯¯¯¯¯¯¯¯¯¯¯¯¯¯¯¯¯¯¯¯¯¯¯¯¯¯¯¯¯¯¯¯¯¯¯¯|\n",
      "| sequential (Sequential)      (None, 32)           1336        []                               |\n",
      "||¯¯¯¯¯¯¯¯¯¯¯¯¯¯¯¯¯¯¯¯¯¯¯¯¯¯¯¯¯¯¯¯¯¯¯¯¯¯¯¯¯¯¯¯¯¯¯¯¯¯¯¯¯¯¯¯¯¯¯¯¯¯¯¯¯¯¯¯¯¯¯¯¯¯¯¯¯¯¯¯¯¯¯¯¯¯¯¯¯¯¯¯¯¯||\n",
      "|| conv1d (Conv1D)            (None, 2205, 8)      648         []                               ||\n",
      "||                                                                                              ||\n",
      "|| max_pooling1d (MaxPooling1D)  (None, 1101, 8)   0           []                               ||\n",
      "||                                                                                              ||\n",
      "|| conv1d_1 (Conv1D)          (None, 1101, 8)      200         []                               ||\n",
      "||                                                                                              ||\n",
      "|| max_pooling1d_1 (MaxPooling1D)  (None, 549, 8)  0           []                               ||\n",
      "||                                                                                              ||\n",
      "|| conv1d_2 (Conv1D)          (None, 549, 8)       200         []                               ||\n",
      "||                                                                                              ||\n",
      "|| max_pooling1d_2 (MaxPooling1D)  (None, 273, 8)  0           []                               ||\n",
      "||                                                                                              ||\n",
      "|| lambda (Lambda)            (None, 8)            0           []                               ||\n",
      "||                                                                                              ||\n",
      "|| dense (Dense)              (None, 32)           288         []                               ||\n",
      "|¯¯¯¯¯¯¯¯¯¯¯¯¯¯¯¯¯¯¯¯¯¯¯¯¯¯¯¯¯¯¯¯¯¯¯¯¯¯¯¯¯¯¯¯¯¯¯¯¯¯¯¯¯¯¯¯¯¯¯¯¯¯¯¯¯¯¯¯¯¯¯¯¯¯¯¯¯¯¯¯¯¯¯¯¯¯¯¯¯¯¯¯¯¯¯¯|\n",
      "| sequential_1 (Sequential)    (None, 32)           1336        []                               |\n",
      "||¯¯¯¯¯¯¯¯¯¯¯¯¯¯¯¯¯¯¯¯¯¯¯¯¯¯¯¯¯¯¯¯¯¯¯¯¯¯¯¯¯¯¯¯¯¯¯¯¯¯¯¯¯¯¯¯¯¯¯¯¯¯¯¯¯¯¯¯¯¯¯¯¯¯¯¯¯¯¯¯¯¯¯¯¯¯¯¯¯¯¯¯¯¯||\n",
      "|| conv1d_3 (Conv1D)          (None, 2205, 8)      648         []                               ||\n",
      "||                                                                                              ||\n",
      "|| max_pooling1d_3 (MaxPooling1D)  (None, 1101, 8)  0          []                               ||\n",
      "||                                                                                              ||\n",
      "|| conv1d_4 (Conv1D)          (None, 1101, 8)      200         []                               ||\n",
      "||                                                                                              ||\n",
      "|| max_pooling1d_4 (MaxPooling1D)  (None, 549, 8)  0           []                               ||\n",
      "||                                                                                              ||\n",
      "|| conv1d_5 (Conv1D)          (None, 549, 8)       200         []                               ||\n",
      "||                                                                                              ||\n",
      "|| max_pooling1d_5 (MaxPooling1D)  (None, 273, 8)  0           []                               ||\n",
      "||                                                                                              ||\n",
      "|| lambda_1 (Lambda)          (None, 8)            0           []                               ||\n",
      "||                                                                                              ||\n",
      "|| dense_1 (Dense)            (None, 32)           288         []                               ||\n",
      "|¯¯¯¯¯¯¯¯¯¯¯¯¯¯¯¯¯¯¯¯¯¯¯¯¯¯¯¯¯¯¯¯¯¯¯¯¯¯¯¯¯¯¯¯¯¯¯¯¯¯¯¯¯¯¯¯¯¯¯¯¯¯¯¯¯¯¯¯¯¯¯¯¯¯¯¯¯¯¯¯¯¯¯¯¯¯¯¯¯¯¯¯¯¯¯¯|\n",
      "¯¯¯¯¯¯¯¯¯¯¯¯¯¯¯¯¯¯¯¯¯¯¯¯¯¯¯¯¯¯¯¯¯¯¯¯¯¯¯¯¯¯¯¯¯¯¯¯¯¯¯¯¯¯¯¯¯¯¯¯¯¯¯¯¯¯¯¯¯¯¯¯¯¯¯¯¯¯¯¯¯¯¯¯¯¯¯¯¯¯¯¯¯¯¯¯¯¯\n",
      " detection (Sequential)         (None, 1)            1089        ['constrained_mtl[0][0]']        \n",
      "|¯¯¯¯¯¯¯¯¯¯¯¯¯¯¯¯¯¯¯¯¯¯¯¯¯¯¯¯¯¯¯¯¯¯¯¯¯¯¯¯¯¯¯¯¯¯¯¯¯¯¯¯¯¯¯¯¯¯¯¯¯¯¯¯¯¯¯¯¯¯¯¯¯¯¯¯¯¯¯¯¯¯¯¯¯¯¯¯¯¯¯¯¯¯¯¯|\n",
      "| dense_2 (Dense)              (None, 32)           1056        []                               |\n",
      "|                                                                                                |\n",
      "| dense_3 (Dense)              (None, 1)            33          []                               |\n",
      "¯¯¯¯¯¯¯¯¯¯¯¯¯¯¯¯¯¯¯¯¯¯¯¯¯¯¯¯¯¯¯¯¯¯¯¯¯¯¯¯¯¯¯¯¯¯¯¯¯¯¯¯¯¯¯¯¯¯¯¯¯¯¯¯¯¯¯¯¯¯¯¯¯¯¯¯¯¯¯¯¯¯¯¯¯¯¯¯¯¯¯¯¯¯¯¯¯¯\n",
      " classification (Sequential)    (None, 3)            1155        ['constrained_mtl[0][1]']        \n",
      "|¯¯¯¯¯¯¯¯¯¯¯¯¯¯¯¯¯¯¯¯¯¯¯¯¯¯¯¯¯¯¯¯¯¯¯¯¯¯¯¯¯¯¯¯¯¯¯¯¯¯¯¯¯¯¯¯¯¯¯¯¯¯¯¯¯¯¯¯¯¯¯¯¯¯¯¯¯¯¯¯¯¯¯¯¯¯¯¯¯¯¯¯¯¯¯¯|\n",
      "| dense_4 (Dense)              (None, 32)           1056        []                               |\n",
      "|                                                                                                |\n",
      "| dense_5 (Dense)              (None, 3)            99          []                               |\n",
      "¯¯¯¯¯¯¯¯¯¯¯¯¯¯¯¯¯¯¯¯¯¯¯¯¯¯¯¯¯¯¯¯¯¯¯¯¯¯¯¯¯¯¯¯¯¯¯¯¯¯¯¯¯¯¯¯¯¯¯¯¯¯¯¯¯¯¯¯¯¯¯¯¯¯¯¯¯¯¯¯¯¯¯¯¯¯¯¯¯¯¯¯¯¯¯¯¯¯\n",
      "==================================================================================================\n",
      "Total params: 4,916\n",
      "Trainable params: 4,916\n",
      "Non-trainable params: 0\n",
      "__________________________________________________________________________________________________\n"
     ]
    }
   ],
   "source": [
    "multitask_model.summary(expand_nested=True)"
   ],
   "metadata": {
    "collapsed": false,
    "ExecuteTime": {
     "end_time": "2023-06-10T17:23:29.091631Z",
     "start_time": "2023-06-10T17:23:29.028722Z"
    }
   }
  },
  {
   "cell_type": "code",
   "execution_count": 10,
   "outputs": [
    {
     "data": {
      "image/png": "[encoded data removed]",
      "text/plain": "<IPython.core.display.Image object>"
     },
     "execution_count": 10,
     "metadata": {},
     "output_type": "execute_result"
    }
   ],
   "source": [
    "os.environ[\"PATH\"] += os.pathsep + 'C:/Program Files/Graphviz/bin/'\n",
    "tf.keras.utils.plot_model(multitask_model, expand_nested=True)"
   ],
   "metadata": {
    "collapsed": false,
    "ExecuteTime": {
     "end_time": "2023-06-03T17:43:43.310068400Z",
     "start_time": "2023-06-03T17:43:43.136410300Z"
    }
   }
  },
  {
   "cell_type": "code",
   "execution_count": 10,
   "outputs": [],
   "source": [
    "loss1 = tf.keras.losses.BinaryCrossentropy()\n",
    "loss2 = tf.keras.losses.SparseCategoricalCrossentropy()\n",
    "\n",
    "optimizer = tf.keras.optimizers.Adam()\n",
    "\n",
    "losses = {\n",
    "    'detection': loss1,\n",
    "    'classification': loss2\n",
    "}\n",
    "\n",
    "loss_weights = {\n",
    "    'detection': gamma,\n",
    "    'classification': 1 - gamma\n",
    "}\n",
    "\n",
    "metrics = ['accuracy']\n",
    "\n",
    "multitask_model.compile(\n",
    "    optimizer=optimizer,\n",
    "    loss=losses,\n",
    "    loss_weights=loss_weights,\n",
    "    metrics=metrics,\n",
    ")"
   ],
   "metadata": {
    "collapsed": false,
    "ExecuteTime": {
     "end_time": "2023-06-10T17:23:29.107337800Z",
     "start_time": "2023-06-10T17:23:29.091631Z"
    }
   }
  },
  {
   "cell_type": "code",
   "execution_count": 11,
   "outputs": [
    {
     "name": "stdout",
     "output_type": "stream",
     "text": [
      "Epoch 1/100\n",
      "30/30 [==============================] - 5s 85ms/step - loss: 1.3468 - detection_loss: 0.6664 - classification_loss: 1.0880 - detection_accuracy: 0.6411 - classification_accuracy: 0.3448 - val_loss: 1.2695 - val_detection_loss: 0.6364 - val_classification_loss: 1.0863 - val_detection_accuracy: 0.6708 - val_classification_accuracy: 0.3875 - lr: 0.0010\n",
      "Epoch 2/100\n",
      "30/30 [==============================] - 2s 75ms/step - loss: 1.2187 - detection_loss: 0.6445 - classification_loss: 1.0720 - detection_accuracy: 0.6583 - classification_accuracy: 0.4167 - val_loss: 1.1612 - val_detection_loss: 0.6276 - val_classification_loss: 1.0654 - val_detection_accuracy: 0.6708 - val_classification_accuracy: 0.4375 - lr: 0.0010\n",
      "Epoch 3/100\n",
      "30/30 [==============================] - 2s 70ms/step - loss: 1.1208 - detection_loss: 0.6377 - classification_loss: 1.0443 - detection_accuracy: 0.6583 - classification_accuracy: 0.4411 - val_loss: 1.0727 - val_detection_loss: 0.6220 - val_classification_loss: 1.0301 - val_detection_accuracy: 0.6708 - val_classification_accuracy: 0.4875 - lr: 0.0010\n",
      "Epoch 4/100\n",
      "30/30 [==============================] - 2s 73ms/step - loss: 1.0362 - detection_loss: 0.6230 - classification_loss: 1.0067 - detection_accuracy: 0.6656 - classification_accuracy: 0.4885 - val_loss: 0.9977 - val_detection_loss: 0.5954 - val_classification_loss: 1.0035 - val_detection_accuracy: 0.7021 - val_classification_accuracy: 0.4854 - lr: 0.0010\n",
      "Epoch 5/100\n",
      "30/30 [==============================] - 2s 74ms/step - loss: 0.9651 - detection_loss: 0.5828 - classification_loss: 0.9831 - detection_accuracy: 0.6943 - classification_accuracy: 0.4969 - val_loss: 0.9375 - val_detection_loss: 0.5520 - val_classification_loss: 0.9896 - val_detection_accuracy: 0.8292 - val_classification_accuracy: 0.5750 - lr: 0.0010\n",
      "Epoch 6/100\n",
      "30/30 [==============================] - 2s 74ms/step - loss: 0.9054 - detection_loss: 0.5381 - classification_loss: 0.9645 - detection_accuracy: 0.7760 - classification_accuracy: 0.5120 - val_loss: 0.8870 - val_detection_loss: 0.5070 - val_classification_loss: 0.9831 - val_detection_accuracy: 0.8333 - val_classification_accuracy: 0.4792 - lr: 0.0010\n",
      "Epoch 7/100\n",
      "30/30 [==============================] - 2s 72ms/step - loss: 0.8633 - detection_loss: 0.5059 - classification_loss: 0.9562 - detection_accuracy: 0.8005 - classification_accuracy: 0.5146 - val_loss: 0.8753 - val_detection_loss: 0.4900 - val_classification_loss: 1.0143 - val_detection_accuracy: 0.8042 - val_classification_accuracy: 0.4646 - lr: 0.0010\n",
      "Epoch 8/100\n",
      "30/30 [==============================] - 2s 72ms/step - loss: 0.8449 - detection_loss: 0.4973 - classification_loss: 0.9601 - detection_accuracy: 0.7990 - classification_accuracy: 0.5380 - val_loss: 0.8496 - val_detection_loss: 0.4844 - val_classification_loss: 0.9979 - val_detection_accuracy: 0.7937 - val_classification_accuracy: 0.4875 - lr: 0.0010\n",
      "Epoch 9/100\n",
      "30/30 [==============================] - 2s 74ms/step - loss: 0.8167 - detection_loss: 0.4929 - classification_loss: 0.9349 - detection_accuracy: 0.7932 - classification_accuracy: 0.5948 - val_loss: 0.8431 - val_detection_loss: 0.4933 - val_classification_loss: 0.9987 - val_detection_accuracy: 0.7875 - val_classification_accuracy: 0.4896 - lr: 0.0010\n",
      "Epoch 10/100\n",
      "30/30 [==============================] - 2s 73ms/step - loss: 0.7934 - detection_loss: 0.4734 - classification_loss: 0.9277 - detection_accuracy: 0.8141 - classification_accuracy: 0.5625 - val_loss: 0.7942 - val_detection_loss: 0.4703 - val_classification_loss: 0.9410 - val_detection_accuracy: 0.8250 - val_classification_accuracy: 0.6000 - lr: 0.0010\n",
      "Epoch 11/100\n",
      "30/30 [==============================] - 2s 73ms/step - loss: 0.7746 - detection_loss: 0.4679 - classification_loss: 0.9111 - detection_accuracy: 0.8104 - classification_accuracy: 0.6167 - val_loss: 0.8030 - val_detection_loss: 0.4718 - val_classification_loss: 0.9715 - val_detection_accuracy: 0.8083 - val_classification_accuracy: 0.5000 - lr: 0.0010\n",
      "Epoch 12/100\n",
      "30/30 [==============================] - 2s 73ms/step - loss: 0.7606 - detection_loss: 0.4602 - classification_loss: 0.9037 - detection_accuracy: 0.8208 - classification_accuracy: 0.6089 - val_loss: 0.7590 - val_detection_loss: 0.4541 - val_classification_loss: 0.9135 - val_detection_accuracy: 0.8333 - val_classification_accuracy: 0.6354 - lr: 0.0010\n",
      "Epoch 13/100\n",
      "30/30 [==============================] - 2s 74ms/step - loss: 0.7474 - detection_loss: 0.4530 - classification_loss: 0.8955 - detection_accuracy: 0.8234 - classification_accuracy: 0.6198 - val_loss: 0.7566 - val_detection_loss: 0.4486 - val_classification_loss: 0.9222 - val_detection_accuracy: 0.8333 - val_classification_accuracy: 0.5271 - lr: 0.0010\n",
      "Epoch 14/100\n",
      "30/30 [==============================] - 2s 74ms/step - loss: 0.7239 - detection_loss: 0.4428 - classification_loss: 0.8657 - detection_accuracy: 0.8313 - classification_accuracy: 0.6271 - val_loss: 0.7267 - val_detection_loss: 0.4350 - val_classification_loss: 0.8836 - val_detection_accuracy: 0.8333 - val_classification_accuracy: 0.6208 - lr: 0.0010\n",
      "Epoch 15/100\n",
      "30/30 [==============================] - 2s 74ms/step - loss: 0.7075 - detection_loss: 0.4502 - classification_loss: 0.8322 - detection_accuracy: 0.8156 - classification_accuracy: 0.6745 - val_loss: 0.7177 - val_detection_loss: 0.4291 - val_classification_loss: 0.8770 - val_detection_accuracy: 0.8333 - val_classification_accuracy: 0.6438 - lr: 0.0010\n",
      "Epoch 16/100\n",
      "30/30 [==============================] - 2s 74ms/step - loss: 0.6805 - detection_loss: 0.4404 - classification_loss: 0.7918 - detection_accuracy: 0.8276 - classification_accuracy: 0.6932 - val_loss: 0.6796 - val_detection_loss: 0.4399 - val_classification_loss: 0.7925 - val_detection_accuracy: 0.8250 - val_classification_accuracy: 0.6792 - lr: 0.0010\n",
      "Epoch 17/100\n",
      "30/30 [==============================] - 2s 74ms/step - loss: 0.6526 - detection_loss: 0.4385 - classification_loss: 0.7416 - detection_accuracy: 0.8203 - classification_accuracy: 0.7219 - val_loss: 0.6560 - val_detection_loss: 0.4232 - val_classification_loss: 0.7658 - val_detection_accuracy: 0.8333 - val_classification_accuracy: 0.6729 - lr: 0.0010\n",
      "Epoch 18/100\n",
      "30/30 [==============================] - 2s 74ms/step - loss: 0.6356 - detection_loss: 0.4224 - classification_loss: 0.7284 - detection_accuracy: 0.8359 - classification_accuracy: 0.7104 - val_loss: 0.6483 - val_detection_loss: 0.4231 - val_classification_loss: 0.7553 - val_detection_accuracy: 0.8271 - val_classification_accuracy: 0.6917 - lr: 0.0010\n",
      "Epoch 19/100\n",
      "30/30 [==============================] - 2s 75ms/step - loss: 0.6102 - detection_loss: 0.4158 - classification_loss: 0.6895 - detection_accuracy: 0.8406 - classification_accuracy: 0.7328 - val_loss: 0.6275 - val_detection_loss: 0.4116 - val_classification_loss: 0.7316 - val_detection_accuracy: 0.8396 - val_classification_accuracy: 0.7000 - lr: 0.0010\n",
      "Epoch 20/100\n",
      "30/30 [==============================] - 2s 74ms/step - loss: 0.6341 - detection_loss: 0.4387 - classification_loss: 0.7185 - detection_accuracy: 0.8156 - classification_accuracy: 0.6984 - val_loss: 0.6383 - val_detection_loss: 0.4353 - val_classification_loss: 0.7320 - val_detection_accuracy: 0.7937 - val_classification_accuracy: 0.7083 - lr: 0.0010\n",
      "Epoch 21/100\n",
      "30/30 [==============================] - 2s 75ms/step - loss: 0.6067 - detection_loss: 0.4233 - classification_loss: 0.6819 - detection_accuracy: 0.8318 - classification_accuracy: 0.7359 - val_loss: 0.6070 - val_detection_loss: 0.4097 - val_classification_loss: 0.6986 - val_detection_accuracy: 0.8500 - val_classification_accuracy: 0.7312 - lr: 0.0010\n",
      "Epoch 22/100\n",
      "30/30 [==============================] - 2s 75ms/step - loss: 0.5847 - detection_loss: 0.4006 - classification_loss: 0.6640 - detection_accuracy: 0.8448 - classification_accuracy: 0.7453 - val_loss: 0.6567 - val_detection_loss: 0.4316 - val_classification_loss: 0.7759 - val_detection_accuracy: 0.7937 - val_classification_accuracy: 0.6583 - lr: 0.0010\n",
      "Epoch 23/100\n",
      "30/30 [==============================] - 2s 73ms/step - loss: 0.5799 - detection_loss: 0.4080 - classification_loss: 0.6498 - detection_accuracy: 0.8401 - classification_accuracy: 0.7500 - val_loss: 0.5881 - val_detection_loss: 0.4001 - val_classification_loss: 0.6753 - val_detection_accuracy: 0.8417 - val_classification_accuracy: 0.7542 - lr: 0.0010\n",
      "Epoch 24/100\n",
      "30/30 [==============================] - 2s 74ms/step - loss: 0.5632 - detection_loss: 0.3980 - classification_loss: 0.6291 - detection_accuracy: 0.8438 - classification_accuracy: 0.7609 - val_loss: 0.6568 - val_detection_loss: 0.4797 - val_classification_loss: 0.7354 - val_detection_accuracy: 0.7937 - val_classification_accuracy: 0.7021 - lr: 0.0010\n",
      "Epoch 25/100\n",
      "30/30 [==============================] - 2s 74ms/step - loss: 0.5878 - detection_loss: 0.4318 - classification_loss: 0.6453 - detection_accuracy: 0.8188 - classification_accuracy: 0.7464 - val_loss: 0.5767 - val_detection_loss: 0.3981 - val_classification_loss: 0.6591 - val_detection_accuracy: 0.8458 - val_classification_accuracy: 0.7458 - lr: 0.0010\n",
      "Epoch 26/100\n",
      "30/30 [==============================] - 2s 74ms/step - loss: 0.5465 - detection_loss: 0.3898 - classification_loss: 0.6082 - detection_accuracy: 0.8505 - classification_accuracy: 0.7755 - val_loss: 0.5915 - val_detection_loss: 0.4202 - val_classification_loss: 0.6686 - val_detection_accuracy: 0.8167 - val_classification_accuracy: 0.7292 - lr: 0.0010\n",
      "Epoch 27/100\n",
      "30/30 [==============================] - 2s 74ms/step - loss: 0.5538 - detection_loss: 0.4016 - classification_loss: 0.6127 - detection_accuracy: 0.8307 - classification_accuracy: 0.7583 - val_loss: 0.5652 - val_detection_loss: 0.3909 - val_classification_loss: 0.6466 - val_detection_accuracy: 0.8458 - val_classification_accuracy: 0.7396 - lr: 0.0010\n",
      "Epoch 28/100\n",
      "30/30 [==============================] - 2s 75ms/step - loss: 0.5320 - detection_loss: 0.3855 - classification_loss: 0.5870 - detection_accuracy: 0.8474 - classification_accuracy: 0.7734 - val_loss: 0.5549 - val_detection_loss: 0.3882 - val_classification_loss: 0.6315 - val_detection_accuracy: 0.8500 - val_classification_accuracy: 0.7542 - lr: 0.0010\n",
      "Epoch 29/100\n",
      "30/30 [==============================] - 2s 74ms/step - loss: 0.5143 - detection_loss: 0.3762 - classification_loss: 0.5626 - detection_accuracy: 0.8505 - classification_accuracy: 0.7911 - val_loss: 0.5502 - val_detection_loss: 0.3835 - val_classification_loss: 0.6281 - val_detection_accuracy: 0.8458 - val_classification_accuracy: 0.7708 - lr: 0.0010\n",
      "Epoch 30/100\n",
      "30/30 [==============================] - 2s 80ms/step - loss: 0.5237 - detection_loss: 0.3838 - classification_loss: 0.5747 - detection_accuracy: 0.8464 - classification_accuracy: 0.7776 - val_loss: 0.5760 - val_detection_loss: 0.4006 - val_classification_loss: 0.6629 - val_detection_accuracy: 0.8313 - val_classification_accuracy: 0.7333 - lr: 0.0010\n",
      "Epoch 31/100\n",
      "30/30 [==============================] - 2s 75ms/step - loss: 0.5085 - detection_loss: 0.3776 - classification_loss: 0.5515 - detection_accuracy: 0.8411 - classification_accuracy: 0.7917 - val_loss: 0.5429 - val_detection_loss: 0.3939 - val_classification_loss: 0.6044 - val_detection_accuracy: 0.8354 - val_classification_accuracy: 0.7854 - lr: 0.0010\n",
      "Epoch 32/100\n",
      "30/30 [==============================] - 2s 75ms/step - loss: 0.5130 - detection_loss: 0.3895 - classification_loss: 0.5503 - detection_accuracy: 0.8297 - classification_accuracy: 0.7880 - val_loss: 0.5335 - val_detection_loss: 0.3781 - val_classification_loss: 0.6027 - val_detection_accuracy: 0.8521 - val_classification_accuracy: 0.7667 - lr: 0.0010\n",
      "Epoch 33/100\n",
      "30/30 [==============================] - 2s 76ms/step - loss: 0.4841 - detection_loss: 0.3608 - classification_loss: 0.5225 - detection_accuracy: 0.8557 - classification_accuracy: 0.8031 - val_loss: 0.5261 - val_detection_loss: 0.3786 - val_classification_loss: 0.5893 - val_detection_accuracy: 0.8396 - val_classification_accuracy: 0.7750 - lr: 0.0010\n",
      "Epoch 34/100\n",
      "30/30 [==============================] - 2s 75ms/step - loss: 0.4869 - detection_loss: 0.3616 - classification_loss: 0.5281 - detection_accuracy: 0.8552 - classification_accuracy: 0.8026 - val_loss: 0.5209 - val_detection_loss: 0.3700 - val_classification_loss: 0.5878 - val_detection_accuracy: 0.8458 - val_classification_accuracy: 0.7854 - lr: 0.0010\n",
      "Epoch 35/100\n",
      "30/30 [==============================] - 2s 81ms/step - loss: 0.4853 - detection_loss: 0.3531 - classification_loss: 0.5340 - detection_accuracy: 0.8552 - classification_accuracy: 0.7943 - val_loss: 0.5561 - val_detection_loss: 0.4418 - val_classification_loss: 0.5875 - val_detection_accuracy: 0.8104 - val_classification_accuracy: 0.7667 - lr: 0.0010\n",
      "Epoch 36/100\n",
      "30/30 [==============================] - 2s 78ms/step - loss: 0.4983 - detection_loss: 0.3721 - classification_loss: 0.5408 - detection_accuracy: 0.8250 - classification_accuracy: 0.7906 - val_loss: 0.5446 - val_detection_loss: 0.3730 - val_classification_loss: 0.6338 - val_detection_accuracy: 0.8396 - val_classification_accuracy: 0.7521 - lr: 0.0010\n",
      "Epoch 37/100\n",
      "30/30 [==============================] - 2s 83ms/step - loss: 0.4643 - detection_loss: 0.3377 - classification_loss: 0.5094 - detection_accuracy: 0.8620 - classification_accuracy: 0.8031 - val_loss: 0.5089 - val_detection_loss: 0.3709 - val_classification_loss: 0.5658 - val_detection_accuracy: 0.8417 - val_classification_accuracy: 0.7854 - lr: 0.0010\n",
      "Epoch 38/100\n",
      "30/30 [==============================] - 2s 78ms/step - loss: 0.4544 - detection_loss: 0.3357 - classification_loss: 0.4925 - detection_accuracy: 0.8552 - classification_accuracy: 0.8115 - val_loss: 0.5041 - val_detection_loss: 0.3630 - val_classification_loss: 0.5652 - val_detection_accuracy: 0.8292 - val_classification_accuracy: 0.7771 - lr: 0.0010\n",
      "Epoch 39/100\n",
      "30/30 [==============================] - 2s 80ms/step - loss: 0.4539 - detection_loss: 0.3379 - classification_loss: 0.4896 - detection_accuracy: 0.8516 - classification_accuracy: 0.8073 - val_loss: 0.5090 - val_detection_loss: 0.3574 - val_classification_loss: 0.5813 - val_detection_accuracy: 0.8479 - val_classification_accuracy: 0.7625 - lr: 0.0010\n",
      "Epoch 40/100\n",
      "30/30 [==============================] - 2s 78ms/step - loss: 0.4344 - detection_loss: 0.3214 - classification_loss: 0.4686 - detection_accuracy: 0.8615 - classification_accuracy: 0.8281 - val_loss: 0.5132 - val_detection_loss: 0.3560 - val_classification_loss: 0.5916 - val_detection_accuracy: 0.8271 - val_classification_accuracy: 0.7542 - lr: 0.0010\n",
      "Epoch 41/100\n",
      "30/30 [==============================] - 2s 77ms/step - loss: 0.4283 - detection_loss: 0.3090 - classification_loss: 0.4685 - detection_accuracy: 0.8740 - classification_accuracy: 0.8198 - val_loss: 0.5058 - val_detection_loss: 0.3505 - val_classification_loss: 0.5827 - val_detection_accuracy: 0.8458 - val_classification_accuracy: 0.7646 - lr: 0.0010\n",
      "Epoch 42/100\n",
      "30/30 [==============================] - 2s 78ms/step - loss: 0.4258 - detection_loss: 0.3097 - classification_loss: 0.4637 - detection_accuracy: 0.8693 - classification_accuracy: 0.8286 - val_loss: 0.4784 - val_detection_loss: 0.3373 - val_classification_loss: 0.5423 - val_detection_accuracy: 0.8521 - val_classification_accuracy: 0.7729 - lr: 0.0010\n",
      "Epoch 43/100\n",
      "30/30 [==============================] - 2s 77ms/step - loss: 0.4120 - detection_loss: 0.2969 - classification_loss: 0.4495 - detection_accuracy: 0.8760 - classification_accuracy: 0.8219 - val_loss: 0.4648 - val_detection_loss: 0.3294 - val_classification_loss: 0.5229 - val_detection_accuracy: 0.8458 - val_classification_accuracy: 0.8042 - lr: 0.0010\n",
      "Epoch 44/100\n",
      "30/30 [==============================] - 2s 77ms/step - loss: 0.4044 - detection_loss: 0.2876 - classification_loss: 0.4438 - detection_accuracy: 0.8896 - classification_accuracy: 0.8318 - val_loss: 0.4675 - val_detection_loss: 0.3317 - val_classification_loss: 0.5261 - val_detection_accuracy: 0.8542 - val_classification_accuracy: 0.7937 - lr: 0.0010\n",
      "Epoch 45/100\n",
      "30/30 [==============================] - 2s 77ms/step - loss: 0.4188 - detection_loss: 0.2885 - classification_loss: 0.4718 - detection_accuracy: 0.8792 - classification_accuracy: 0.8182 - val_loss: 0.4718 - val_detection_loss: 0.3475 - val_classification_loss: 0.5185 - val_detection_accuracy: 0.8521 - val_classification_accuracy: 0.8083 - lr: 0.0010\n",
      "Epoch 46/100\n",
      "30/30 [==============================] - 2s 77ms/step - loss: 0.4002 - detection_loss: 0.2920 - classification_loss: 0.4312 - detection_accuracy: 0.8729 - classification_accuracy: 0.8391 - val_loss: 0.4679 - val_detection_loss: 0.3485 - val_classification_loss: 0.5108 - val_detection_accuracy: 0.8438 - val_classification_accuracy: 0.7979 - lr: 0.0010\n",
      "Epoch 47/100\n",
      "30/30 [==============================] - ETA: 0s - loss: 0.3874 - detection_loss: 0.2829 - classification_loss: 0.4158 - detection_accuracy: 0.8828 - classification_accuracy: 0.8536\n",
      "Epoch 47: ReduceLROnPlateau reducing learning rate to 0.0005000000237487257.\n",
      "30/30 [==============================] - 2s 76ms/step - loss: 0.3874 - detection_loss: 0.2829 - classification_loss: 0.4158 - detection_accuracy: 0.8828 - classification_accuracy: 0.8536 - val_loss: 0.4738 - val_detection_loss: 0.3158 - val_classification_loss: 0.5557 - val_detection_accuracy: 0.8583 - val_classification_accuracy: 0.7750 - lr: 0.0010\n",
      "Epoch 48/100\n",
      "30/30 [==============================] - 2s 76ms/step - loss: 0.3790 - detection_loss: 0.2641 - classification_loss: 0.4189 - detection_accuracy: 0.8906 - classification_accuracy: 0.8448 - val_loss: 0.4548 - val_detection_loss: 0.3281 - val_classification_loss: 0.5075 - val_detection_accuracy: 0.8542 - val_classification_accuracy: 0.7937 - lr: 5.0000e-04\n",
      "Epoch 49/100\n",
      "30/30 [==============================] - 2s 76ms/step - loss: 0.3737 - detection_loss: 0.2663 - classification_loss: 0.4075 - detection_accuracy: 0.8932 - classification_accuracy: 0.8422 - val_loss: 0.4475 - val_detection_loss: 0.3150 - val_classification_loss: 0.5065 - val_detection_accuracy: 0.8583 - val_classification_accuracy: 0.7958 - lr: 5.0000e-04\n",
      "Epoch 50/100\n",
      "30/30 [==============================] - 2s 76ms/step - loss: 0.3688 - detection_loss: 0.2625 - classification_loss: 0.4011 - detection_accuracy: 0.8943 - classification_accuracy: 0.8495 - val_loss: 0.4423 - val_detection_loss: 0.3083 - val_classification_loss: 0.5026 - val_detection_accuracy: 0.8583 - val_classification_accuracy: 0.7958 - lr: 5.0000e-04\n",
      "Epoch 51/100\n",
      "30/30 [==============================] - 2s 76ms/step - loss: 0.3726 - detection_loss: 0.2747 - classification_loss: 0.3970 - detection_accuracy: 0.8844 - classification_accuracy: 0.8453 - val_loss: 0.4888 - val_detection_loss: 0.3716 - val_classification_loss: 0.5330 - val_detection_accuracy: 0.8333 - val_classification_accuracy: 0.7833 - lr: 5.0000e-04\n",
      "Epoch 52/100\n",
      "30/30 [==============================] - 2s 76ms/step - loss: 0.3887 - detection_loss: 0.2885 - classification_loss: 0.4158 - detection_accuracy: 0.8698 - classification_accuracy: 0.8417 - val_loss: 0.5684 - val_detection_loss: 0.3987 - val_classification_loss: 0.6649 - val_detection_accuracy: 0.8188 - val_classification_accuracy: 0.7542 - lr: 5.0000e-04\n",
      "Epoch 53/100\n",
      "30/30 [==============================] - 2s 77ms/step - loss: 0.3805 - detection_loss: 0.2682 - classification_loss: 0.4196 - detection_accuracy: 0.8828 - classification_accuracy: 0.8333 - val_loss: 0.4416 - val_detection_loss: 0.3044 - val_classification_loss: 0.5055 - val_detection_accuracy: 0.8604 - val_classification_accuracy: 0.7979 - lr: 5.0000e-04\n",
      "Epoch 54/100\n",
      "30/30 [==============================] - 2s 78ms/step - loss: 0.3619 - detection_loss: 0.2608 - classification_loss: 0.3903 - detection_accuracy: 0.8927 - classification_accuracy: 0.8516 - val_loss: 0.4492 - val_detection_loss: 0.3243 - val_classification_loss: 0.5016 - val_detection_accuracy: 0.8667 - val_classification_accuracy: 0.8146 - lr: 5.0000e-04\n",
      "Epoch 55/100\n",
      "30/30 [==============================] - 2s 80ms/step - loss: 0.3656 - detection_loss: 0.2615 - classification_loss: 0.3976 - detection_accuracy: 0.8880 - classification_accuracy: 0.8505 - val_loss: 0.4448 - val_detection_loss: 0.3015 - val_classification_loss: 0.5162 - val_detection_accuracy: 0.8604 - val_classification_accuracy: 0.7854 - lr: 5.0000e-04\n",
      "Epoch 56/100\n",
      "30/30 [==============================] - 2s 80ms/step - loss: 0.3568 - detection_loss: 0.2529 - classification_loss: 0.3890 - detection_accuracy: 0.8964 - classification_accuracy: 0.8526 - val_loss: 0.4349 - val_detection_loss: 0.2976 - val_classification_loss: 0.4999 - val_detection_accuracy: 0.8667 - val_classification_accuracy: 0.8167 - lr: 5.0000e-04\n",
      "Epoch 57/100\n",
      "30/30 [==============================] - 2s 83ms/step - loss: 0.3592 - detection_loss: 0.2556 - classification_loss: 0.3908 - detection_accuracy: 0.8948 - classification_accuracy: 0.8510 - val_loss: 0.4353 - val_detection_loss: 0.3037 - val_classification_loss: 0.4954 - val_detection_accuracy: 0.8625 - val_classification_accuracy: 0.8146 - lr: 5.0000e-04\n",
      "Epoch 58/100\n",
      "30/30 [==============================] - 2s 76ms/step - loss: 0.3635 - detection_loss: 0.2709 - classification_loss: 0.3846 - detection_accuracy: 0.8854 - classification_accuracy: 0.8557 - val_loss: 0.4318 - val_detection_loss: 0.2965 - val_classification_loss: 0.4959 - val_detection_accuracy: 0.8687 - val_classification_accuracy: 0.7917 - lr: 5.0000e-04\n",
      "Epoch 59/100\n",
      "30/30 [==============================] - 2s 77ms/step - loss: 0.3577 - detection_loss: 0.2634 - classification_loss: 0.3804 - detection_accuracy: 0.8906 - classification_accuracy: 0.8531 - val_loss: 0.4413 - val_detection_loss: 0.3238 - val_classification_loss: 0.4877 - val_detection_accuracy: 0.8583 - val_classification_accuracy: 0.8000 - lr: 5.0000e-04\n",
      "Epoch 60/100\n",
      "30/30 [==============================] - 2s 77ms/step - loss: 0.3508 - detection_loss: 0.2543 - classification_loss: 0.3764 - detection_accuracy: 0.8943 - classification_accuracy: 0.8573 - val_loss: 0.4353 - val_detection_loss: 0.2985 - val_classification_loss: 0.5016 - val_detection_accuracy: 0.8646 - val_classification_accuracy: 0.7917 - lr: 5.0000e-04\n",
      "Epoch 61/100\n",
      "30/30 [==============================] - 2s 78ms/step - loss: 0.3459 - detection_loss: 0.2463 - classification_loss: 0.3749 - detection_accuracy: 0.8969 - classification_accuracy: 0.8604 - val_loss: 0.4275 - val_detection_loss: 0.2932 - val_classification_loss: 0.4916 - val_detection_accuracy: 0.8667 - val_classification_accuracy: 0.8062 - lr: 5.0000e-04\n",
      "Epoch 62/100\n",
      "30/30 [==============================] - 2s 76ms/step - loss: 0.3485 - detection_loss: 0.2469 - classification_loss: 0.3798 - detection_accuracy: 0.8984 - classification_accuracy: 0.8521 - val_loss: 0.4425 - val_detection_loss: 0.2942 - val_classification_loss: 0.5199 - val_detection_accuracy: 0.8562 - val_classification_accuracy: 0.7875 - lr: 5.0000e-04\n",
      "Epoch 63/100\n",
      "30/30 [==============================] - 2s 77ms/step - loss: 0.3508 - detection_loss: 0.2500 - classification_loss: 0.3808 - detection_accuracy: 0.8995 - classification_accuracy: 0.8604 - val_loss: 0.4248 - val_detection_loss: 0.2905 - val_classification_loss: 0.4882 - val_detection_accuracy: 0.8625 - val_classification_accuracy: 0.8021 - lr: 5.0000e-04\n",
      "Epoch 64/100\n",
      "30/30 [==============================] - 2s 77ms/step - loss: 0.3442 - detection_loss: 0.2478 - classification_loss: 0.3707 - detection_accuracy: 0.8979 - classification_accuracy: 0.8573 - val_loss: 0.4198 - val_detection_loss: 0.2924 - val_classification_loss: 0.4772 - val_detection_accuracy: 0.8687 - val_classification_accuracy: 0.8146 - lr: 5.0000e-04\n",
      "Epoch 65/100\n",
      "30/30 [==============================] - 2s 77ms/step - loss: 0.3396 - detection_loss: 0.2428 - classification_loss: 0.3665 - detection_accuracy: 0.8995 - classification_accuracy: 0.8615 - val_loss: 0.4469 - val_detection_loss: 0.3206 - val_classification_loss: 0.5036 - val_detection_accuracy: 0.8667 - val_classification_accuracy: 0.8021 - lr: 5.0000e-04\n",
      "Epoch 66/100\n",
      "30/30 [==============================] - 2s 76ms/step - loss: 0.3403 - detection_loss: 0.2407 - classification_loss: 0.3703 - detection_accuracy: 0.9016 - classification_accuracy: 0.8594 - val_loss: 0.4227 - val_detection_loss: 0.2991 - val_classification_loss: 0.4775 - val_detection_accuracy: 0.8687 - val_classification_accuracy: 0.8167 - lr: 5.0000e-04\n",
      "Epoch 67/100\n",
      "30/30 [==============================] - 2s 79ms/step - loss: 0.3381 - detection_loss: 0.2404 - classification_loss: 0.3661 - detection_accuracy: 0.9073 - classification_accuracy: 0.8635 - val_loss: 0.4276 - val_detection_loss: 0.2979 - val_classification_loss: 0.4874 - val_detection_accuracy: 0.8583 - val_classification_accuracy: 0.8062 - lr: 5.0000e-04\n",
      "Epoch 68/100\n",
      "30/30 [==============================] - 2s 77ms/step - loss: 0.3348 - detection_loss: 0.2349 - classification_loss: 0.3650 - detection_accuracy: 0.9042 - classification_accuracy: 0.8672 - val_loss: 0.4159 - val_detection_loss: 0.2889 - val_classification_loss: 0.4733 - val_detection_accuracy: 0.8583 - val_classification_accuracy: 0.8000 - lr: 5.0000e-04\n",
      "Epoch 69/100\n",
      "30/30 [==============================] - 2s 77ms/step - loss: 0.3399 - detection_loss: 0.2423 - classification_loss: 0.3685 - detection_accuracy: 0.8974 - classification_accuracy: 0.8646 - val_loss: 0.4413 - val_detection_loss: 0.3278 - val_classification_loss: 0.4861 - val_detection_accuracy: 0.8542 - val_classification_accuracy: 0.8062 - lr: 5.0000e-04\n",
      "Epoch 70/100\n",
      "30/30 [==============================] - 2s 76ms/step - loss: 0.3320 - detection_loss: 0.2376 - classification_loss: 0.3576 - detection_accuracy: 0.9026 - classification_accuracy: 0.8656 - val_loss: 0.4450 - val_detection_loss: 0.2950 - val_classification_loss: 0.5268 - val_detection_accuracy: 0.8500 - val_classification_accuracy: 0.7708 - lr: 5.0000e-04\n",
      "Epoch 71/100\n",
      "30/30 [==============================] - 2s 77ms/step - loss: 0.3570 - detection_loss: 0.2580 - classification_loss: 0.3878 - detection_accuracy: 0.8964 - classification_accuracy: 0.8438 - val_loss: 0.4264 - val_detection_loss: 0.2977 - val_classification_loss: 0.4871 - val_detection_accuracy: 0.8438 - val_classification_accuracy: 0.8000 - lr: 5.0000e-04\n",
      "Epoch 72/100\n",
      "30/30 [==============================] - ETA: 0s - loss: 0.3354 - detection_loss: 0.2337 - classification_loss: 0.3688 - detection_accuracy: 0.9099 - classification_accuracy: 0.8635\n",
      "Epoch 72: ReduceLROnPlateau reducing learning rate to 0.0002500000118743628.\n",
      "30/30 [==============================] - 2s 76ms/step - loss: 0.3354 - detection_loss: 0.2337 - classification_loss: 0.3688 - detection_accuracy: 0.9099 - classification_accuracy: 0.8635 - val_loss: 0.4748 - val_detection_loss: 0.3192 - val_classification_loss: 0.5625 - val_detection_accuracy: 0.8583 - val_classification_accuracy: 0.7875 - lr: 5.0000e-04\n",
      "Epoch 73/100\n",
      "30/30 [==============================] - 2s 78ms/step - loss: 0.3289 - detection_loss: 0.2295 - classification_loss: 0.3610 - detection_accuracy: 0.9078 - classification_accuracy: 0.8682 - val_loss: 0.4206 - val_detection_loss: 0.2919 - val_classification_loss: 0.4824 - val_detection_accuracy: 0.8646 - val_classification_accuracy: 0.8146 - lr: 2.5000e-04\n",
      "Epoch 74/100\n",
      "30/30 [==============================] - 2s 77ms/step - loss: 0.3174 - detection_loss: 0.2245 - classification_loss: 0.3430 - detection_accuracy: 0.9062 - classification_accuracy: 0.8755 - val_loss: 0.4101 - val_detection_loss: 0.2848 - val_classification_loss: 0.4680 - val_detection_accuracy: 0.8771 - val_classification_accuracy: 0.8104 - lr: 2.5000e-04\n",
      "Epoch 75/100\n",
      "30/30 [==============================] - 2s 77ms/step - loss: 0.3201 - detection_loss: 0.2286 - classification_loss: 0.3443 - detection_accuracy: 0.9099 - classification_accuracy: 0.8750 - val_loss: 0.4225 - val_detection_loss: 0.3060 - val_classification_loss: 0.4720 - val_detection_accuracy: 0.8667 - val_classification_accuracy: 0.8188 - lr: 2.5000e-04\n",
      "Epoch 76/100\n",
      "30/30 [==============================] - 2s 76ms/step - loss: 0.3172 - detection_loss: 0.2244 - classification_loss: 0.3432 - detection_accuracy: 0.9089 - classification_accuracy: 0.8786 - val_loss: 0.4120 - val_detection_loss: 0.2890 - val_classification_loss: 0.4680 - val_detection_accuracy: 0.8708 - val_classification_accuracy: 0.8104 - lr: 2.5000e-04\n",
      "Epoch 77/100\n",
      "30/30 [==============================] - 2s 77ms/step - loss: 0.3205 - detection_loss: 0.2271 - classification_loss: 0.3473 - detection_accuracy: 0.9104 - classification_accuracy: 0.8687 - val_loss: 0.4210 - val_detection_loss: 0.2909 - val_classification_loss: 0.4845 - val_detection_accuracy: 0.8479 - val_classification_accuracy: 0.7875 - lr: 2.5000e-04\n",
      "Epoch 78/100\n",
      "30/30 [==============================] - ETA: 0s - loss: 0.3172 - detection_loss: 0.2262 - classification_loss: 0.3417 - detection_accuracy: 0.9120 - classification_accuracy: 0.8786\n",
      "Epoch 78: ReduceLROnPlateau reducing learning rate to 0.0001250000059371814.\n",
      "30/30 [==============================] - 2s 78ms/step - loss: 0.3172 - detection_loss: 0.2262 - classification_loss: 0.3417 - detection_accuracy: 0.9120 - classification_accuracy: 0.8786 - val_loss: 0.4338 - val_detection_loss: 0.3137 - val_classification_loss: 0.4873 - val_detection_accuracy: 0.8625 - val_classification_accuracy: 0.8188 - lr: 2.5000e-04\n",
      "Epoch 79/100\n",
      "30/30 [==============================] - 2s 77ms/step - loss: 0.3143 - detection_loss: 0.2233 - classification_loss: 0.3390 - detection_accuracy: 0.9130 - classification_accuracy: 0.8734 - val_loss: 0.4096 - val_detection_loss: 0.2837 - val_classification_loss: 0.4695 - val_detection_accuracy: 0.8750 - val_classification_accuracy: 0.8083 - lr: 1.2500e-04\n",
      "Epoch 80/100\n",
      "30/30 [==============================] - 2s 82ms/step - loss: 0.3133 - detection_loss: 0.2211 - classification_loss: 0.3394 - detection_accuracy: 0.9125 - classification_accuracy: 0.8750 - val_loss: 0.4075 - val_detection_loss: 0.2809 - val_classification_loss: 0.4682 - val_detection_accuracy: 0.8729 - val_classification_accuracy: 0.8104 - lr: 1.2500e-04\n",
      "Epoch 81/100\n",
      "30/30 [==============================] - 2s 77ms/step - loss: 0.3156 - detection_loss: 0.2232 - classification_loss: 0.3419 - detection_accuracy: 0.9115 - classification_accuracy: 0.8724 - val_loss: 0.4406 - val_detection_loss: 0.3138 - val_classification_loss: 0.5012 - val_detection_accuracy: 0.8625 - val_classification_accuracy: 0.8146 - lr: 1.2500e-04\n",
      "Epoch 82/100\n",
      "30/30 [==============================] - 2s 76ms/step - loss: 0.3127 - detection_loss: 0.2212 - classification_loss: 0.3380 - detection_accuracy: 0.9115 - classification_accuracy: 0.8740 - val_loss: 0.4117 - val_detection_loss: 0.2863 - val_classification_loss: 0.4711 - val_detection_accuracy: 0.8687 - val_classification_accuracy: 0.8042 - lr: 1.2500e-04\n",
      "Epoch 83/100\n",
      "30/30 [==============================] - 2s 77ms/step - loss: 0.3115 - detection_loss: 0.2208 - classification_loss: 0.3362 - detection_accuracy: 0.9115 - classification_accuracy: 0.8797 - val_loss: 0.4126 - val_detection_loss: 0.2822 - val_classification_loss: 0.4770 - val_detection_accuracy: 0.8771 - val_classification_accuracy: 0.8021 - lr: 1.2500e-04\n",
      "Epoch 84/100\n",
      "30/30 [==============================] - ETA: 0s - loss: 0.3111 - detection_loss: 0.2210 - classification_loss: 0.3352 - detection_accuracy: 0.9135 - classification_accuracy: 0.8755\n",
      "Epoch 84: ReduceLROnPlateau reducing learning rate to 0.0001.\n",
      "30/30 [==============================] - 2s 77ms/step - loss: 0.3111 - detection_loss: 0.2210 - classification_loss: 0.3352 - detection_accuracy: 0.9135 - classification_accuracy: 0.8755 - val_loss: 0.4231 - val_detection_loss: 0.2976 - val_classification_loss: 0.4829 - val_detection_accuracy: 0.8708 - val_classification_accuracy: 0.8000 - lr: 1.2500e-04\n",
      "Epoch 85/100\n",
      "30/30 [==============================] - 2s 76ms/step - loss: 0.3129 - detection_loss: 0.2231 - classification_loss: 0.3369 - detection_accuracy: 0.9146 - classification_accuracy: 0.8760 - val_loss: 0.4193 - val_detection_loss: 0.2917 - val_classification_loss: 0.4811 - val_detection_accuracy: 0.8625 - val_classification_accuracy: 0.8146 - lr: 1.0000e-04\n",
      "Epoch 86/100\n",
      "30/30 [==============================] - 2s 78ms/step - loss: 0.3118 - detection_loss: 0.2213 - classification_loss: 0.3366 - detection_accuracy: 0.9130 - classification_accuracy: 0.8724 - val_loss: 0.4068 - val_detection_loss: 0.2798 - val_classification_loss: 0.4682 - val_detection_accuracy: 0.8750 - val_classification_accuracy: 0.8042 - lr: 1.0000e-04\n",
      "Epoch 87/100\n",
      "30/30 [==============================] - 2s 77ms/step - loss: 0.3097 - detection_loss: 0.2197 - classification_loss: 0.3339 - detection_accuracy: 0.9135 - classification_accuracy: 0.8740 - val_loss: 0.4190 - val_detection_loss: 0.3021 - val_classification_loss: 0.4700 - val_detection_accuracy: 0.8708 - val_classification_accuracy: 0.8188 - lr: 1.0000e-04\n",
      "Epoch 88/100\n",
      "30/30 [==============================] - 2s 77ms/step - loss: 0.3092 - detection_loss: 0.2202 - classification_loss: 0.3325 - detection_accuracy: 0.9182 - classification_accuracy: 0.8771 - val_loss: 0.4129 - val_detection_loss: 0.2868 - val_classification_loss: 0.4733 - val_detection_accuracy: 0.8667 - val_classification_accuracy: 0.8167 - lr: 1.0000e-04\n",
      "Epoch 89/100\n",
      "30/30 [==============================] - 2s 77ms/step - loss: 0.3098 - detection_loss: 0.2212 - classification_loss: 0.3326 - detection_accuracy: 0.9146 - classification_accuracy: 0.8776 - val_loss: 0.4122 - val_detection_loss: 0.2877 - val_classification_loss: 0.4713 - val_detection_accuracy: 0.8667 - val_classification_accuracy: 0.8167 - lr: 1.0000e-04\n",
      "Epoch 90/100\n",
      "30/30 [==============================] - 2s 77ms/step - loss: 0.3083 - detection_loss: 0.2188 - classification_loss: 0.3323 - detection_accuracy: 0.9151 - classification_accuracy: 0.8818 - val_loss: 0.4135 - val_detection_loss: 0.2811 - val_classification_loss: 0.4805 - val_detection_accuracy: 0.8771 - val_classification_accuracy: 0.7958 - lr: 1.0000e-04\n",
      "Epoch 91/100\n",
      "30/30 [==============================] - 2s 78ms/step - loss: 0.3115 - detection_loss: 0.2203 - classification_loss: 0.3372 - detection_accuracy: 0.9104 - classification_accuracy: 0.8740 - val_loss: 0.4088 - val_detection_loss: 0.2811 - val_classification_loss: 0.4710 - val_detection_accuracy: 0.8792 - val_classification_accuracy: 0.8104 - lr: 1.0000e-04\n",
      "Epoch 92/100\n",
      "30/30 [==============================] - 2s 77ms/step - loss: 0.3100 - detection_loss: 0.2211 - classification_loss: 0.3333 - detection_accuracy: 0.9099 - classification_accuracy: 0.8750 - val_loss: 0.4123 - val_detection_loss: 0.2900 - val_classification_loss: 0.4691 - val_detection_accuracy: 0.8625 - val_classification_accuracy: 0.8062 - lr: 1.0000e-04\n",
      "Epoch 93/100\n",
      "30/30 [==============================] - 2s 76ms/step - loss: 0.3075 - detection_loss: 0.2170 - classification_loss: 0.3325 - detection_accuracy: 0.9161 - classification_accuracy: 0.8760 - val_loss: 0.4197 - val_detection_loss: 0.2861 - val_classification_loss: 0.4876 - val_detection_accuracy: 0.8708 - val_classification_accuracy: 0.7979 - lr: 1.0000e-04\n",
      "Epoch 94/100\n",
      "30/30 [==============================] - 2s 80ms/step - loss: 0.3082 - detection_loss: 0.2177 - classification_loss: 0.3332 - detection_accuracy: 0.9172 - classification_accuracy: 0.8729 - val_loss: 0.4087 - val_detection_loss: 0.2820 - val_classification_loss: 0.4703 - val_detection_accuracy: 0.8771 - val_classification_accuracy: 0.8042 - lr: 1.0000e-04\n",
      "Epoch 94: early stopping\n"
     ]
    }
   ],
   "source": [
    "reduce_lr = ReduceLROnPlateau(factor=0.5, patience=4, min_lr=0.0001, verbose=1)\n",
    "early_stopping = EarlyStopping(verbose=1, patience=patience)\n",
    "\n",
    "history = multitask_model.fit(\n",
    "    train_dataset,\n",
    "    epochs=epochs,\n",
    "    validation_data=val_dataset,\n",
    "    callbacks=[reduce_lr, early_stopping],\n",
    ")"
   ],
   "metadata": {
    "collapsed": false,
    "ExecuteTime": {
     "end_time": "2023-06-10T17:27:08.372807800Z",
     "start_time": "2023-06-10T17:23:29.107337800Z"
    }
   }
  },
  {
   "cell_type": "code",
   "execution_count": 12,
   "outputs": [
    {
     "data": {
      "text/plain": "<Figure size 432x288 with 1 Axes>",
      "image/png": "[encoded data removed]"
     },
     "metadata": {
      "needs_background": "light"
     },
     "output_type": "display_data"
    },
    {
     "data": {
      "text/plain": "<Figure size 432x288 with 1 Axes>",
      "image/png": "[encoded data removed]"
     },
     "metadata": {
      "needs_background": "light"
     },
     "output_type": "display_data"
    },
    {
     "data": {
      "text/plain": "<Figure size 432x288 with 1 Axes>",
      "image/png": "[encoded data removed]"
     },
     "metadata": {
      "needs_background": "light"
     },
     "output_type": "display_data"
    }
   ],
   "source": [
    "metrics = history.history\n",
    "plt.title('Total Loss')\n",
    "plt.xlabel('Epoch')\n",
    "plt.ylabel('Loss')\n",
    "plt.plot(history.epoch, metrics['loss'], metrics['val_loss'])\n",
    "plt.legend(['loss', 'val_loss'])\n",
    "plt.show()\n",
    "\n",
    "plt.title('Detection Loss')\n",
    "plt.xlabel('Epoch')\n",
    "plt.ylabel('Loss')\n",
    "plt.plot(history.epoch, metrics['detection_loss'], metrics['val_detection_loss'])\n",
    "plt.legend(['loss', 'val_loss'])\n",
    "plt.show()\n",
    "\n",
    "plt.title('Classification Loss')\n",
    "plt.xlabel('Epoch')\n",
    "plt.ylabel('Loss')\n",
    "plt.plot(history.epoch, metrics['classification_loss'], metrics['val_classification_loss'])\n",
    "plt.legend(['loss', 'val_loss'])\n",
    "plt.show()"
   ],
   "metadata": {
    "collapsed": false,
    "ExecuteTime": {
     "end_time": "2023-06-10T17:27:08.706447700Z",
     "start_time": "2023-06-10T17:27:08.372807800Z"
    }
   }
  },
  {
   "cell_type": "code",
   "execution_count": 13,
   "outputs": [
    {
     "name": "stdout",
     "output_type": "stream",
     "text": [
      "19/19 [==============================] - 0s 10ms/step\n",
      "\n",
      "Evaluation on the test set:\n",
      "False alarm prob: 20.43%\n",
      "Miss detection prob: 13.53%\n",
      "Number of False Positives: 38\n",
      "Number of False Negatives: 56\n",
      "Detector f1-score is 88.395062%\n",
      "\n",
      "Other Metrics:\n",
      "Detector accuracy is 84.333333%\n",
      "Detector precision is 90.404040%\n",
      "Detector recall is 86.473430%\n"
     ]
    }
   ],
   "source": [
    "test_features = test_dataset[0]\n",
    "predictions = multitask_model.predict(test_features, verbose=1)\n",
    "\n",
    "y_pred = np.rint(predictions[0])\n",
    "y_true = test_dataset[1]['detection']\n",
    "\n",
    "detection_report(y_true, y_pred.flatten())"
   ],
   "metadata": {
    "collapsed": false,
    "ExecuteTime": {
     "end_time": "2023-06-10T17:27:09.226383700Z",
     "start_time": "2023-06-10T17:27:08.706447700Z"
    }
   }
  },
  {
   "cell_type": "code",
   "execution_count": 14,
   "outputs": [
    {
     "name": "stdout",
     "output_type": "stream",
     "text": [
      "Classification test set accuracy: 76%\n"
     ]
    },
    {
     "data": {
      "text/plain": "<Figure size 720x576 with 2 Axes>",
      "image/png": "[encoded data removed]"
     },
     "metadata": {
      "needs_background": "light"
     },
     "output_type": "display_data"
    }
   ],
   "source": [
    "y_pred = np.argmax(predictions[1], axis=1)\n",
    "y_true = test_dataset[1]['classification']\n",
    "\n",
    "test_acc = accuracy_score(y_true=y_true, y_pred=y_pred)\n",
    "print(f'Classification test set accuracy: {test_acc:.0%}')\n",
    "plot_confusion_matrix(list(class_dict.keys()), y_true, y_pred)"
   ],
   "metadata": {
    "collapsed": false,
    "ExecuteTime": {
     "end_time": "2023-06-10T17:27:09.372988400Z",
     "start_time": "2023-06-10T17:27:09.226383700Z"
    }
   }
  },
  {
   "cell_type": "code",
   "execution_count": 15,
   "outputs": [
    {
     "name": "stderr",
     "output_type": "stream",
     "text": [
      "WARNING:absl:Found untraced functions such as _update_step_xla, _jit_compiled_convolution_op, _jit_compiled_convolution_op, _jit_compiled_convolution_op, _jit_compiled_convolution_op while saving (showing 5 of 7). These functions will not be directly callable after loading.\n"
     ]
    },
    {
     "name": "stdout",
     "output_type": "stream",
     "text": [
      "Float model is 35836 bytes\n"
     ]
    }
   ],
   "source": [
    "multitask_model.save(MODEL_TF)\n",
    "convert_tf_lite(MODEL_TF, MODEL_NO_QUANT_TFLITE)"
   ],
   "metadata": {
    "collapsed": false,
    "ExecuteTime": {
     "end_time": "2023-06-10T17:27:14.841975800Z",
     "start_time": "2023-06-10T17:27:09.372988400Z"
    }
   }
  },
  {
   "cell_type": "code",
   "execution_count": 16,
   "outputs": [],
   "source": [
    "def representative_dataset():\n",
    "    for feature, label in train_dataset.take(100):\n",
    "        yield {\n",
    "            \"input_1\": feature.numpy(),\n",
    "            \"detection\": label['detection'].numpy(),\n",
    "            \"classification\": label['classification'].numpy(),\n",
    "        }"
   ],
   "metadata": {
    "collapsed": false,
    "ExecuteTime": {
     "end_time": "2023-06-10T17:27:14.856983500Z",
     "start_time": "2023-06-10T17:27:14.841975800Z"
    }
   }
  },
  {
   "cell_type": "code",
   "execution_count": 17,
   "outputs": [
    {
     "name": "stdout",
     "output_type": "stream",
     "text": [
      "Quantized model is 25056 bytes\n"
     ]
    }
   ],
   "source": [
    "# Define the input and output details for TensorFlow Lite\n",
    "input_details = multitask_model.input\n",
    "output_details = [multitask_model.output[0], multitask_model.output[1]]\n",
    "# Convert to TensorFlow Lite model\n",
    "convert_tf_lite_mtl(MODEL_TF, MODEL_TFLITE, representative_dataset, output_details)"
   ],
   "metadata": {
    "collapsed": false,
    "ExecuteTime": {
     "end_time": "2023-06-10T17:27:20.235121400Z",
     "start_time": "2023-06-10T17:27:14.856983500Z"
    }
   }
  },
  {
   "cell_type": "code",
   "execution_count": 23,
   "outputs": [
    {
     "data": {
      "text/plain": "<KerasTensor: shape=(None, 2205, 1) dtype=float32 (created by layer 'input_1')>"
     },
     "execution_count": 23,
     "metadata": {},
     "output_type": "execute_result"
    }
   ],
   "source": [
    "input_details"
   ],
   "metadata": {
    "collapsed": false,
    "ExecuteTime": {
     "end_time": "2023-06-10T17:55:35.334726800Z",
     "start_time": "2023-06-10T17:55:35.312884600Z"
    }
   }
  },
  {
   "cell_type": "code",
   "execution_count": 18,
   "outputs": [
    {
     "data": {
      "text/plain": "                                   Size                           \nModel                                                             \nTensorFlow                 598264 bytes                           \nTensorFlow Lite            35836 bytes   (reduced by 562428 bytes)\nTensorFlow Lite Quantized   25056 bytes   (reduced by 10780 bytes)",
      "text/html": "<div>\n<style scoped>\n    .dataframe tbody tr th:only-of-type {\n        vertical-align: middle;\n    }\n\n    .dataframe tbody tr th {\n        vertical-align: top;\n    }\n\n    .dataframe thead th {\n        text-align: right;\n    }\n</style>\n<table border=\"1\" class=\"dataframe\">\n  <thead>\n    <tr style=\"text-align: right;\">\n      <th></th>\n      <th>Size</th>\n      <th></th>\n    </tr>\n    <tr>\n      <th>Model</th>\n      <th></th>\n      <th></th>\n    </tr>\n  </thead>\n  <tbody>\n    <tr>\n      <th>TensorFlow</th>\n      <td>598264 bytes</td>\n      <td></td>\n    </tr>\n    <tr>\n      <th>TensorFlow Lite</th>\n      <td>35836 bytes</td>\n      <td>(reduced by 562428 bytes)</td>\n    </tr>\n    <tr>\n      <th>TensorFlow Lite Quantized</th>\n      <td>25056 bytes</td>\n      <td>(reduced by 10780 bytes)</td>\n    </tr>\n  </tbody>\n</table>\n</div>"
     },
     "execution_count": 18,
     "metadata": {},
     "output_type": "execute_result"
    }
   ],
   "source": [
    "compare_size(multitask_model, batch_size, MODEL_NO_QUANT_TFLITE, MODEL_TFLITE)"
   ],
   "metadata": {
    "collapsed": false,
    "ExecuteTime": {
     "end_time": "2023-06-10T17:27:20.282488900Z",
     "start_time": "2023-06-10T17:27:20.235121400Z"
    }
   }
  },
  {
   "cell_type": "code",
   "execution_count": 19,
   "outputs": [],
   "source": [
    "y_pred_det, y_pred_class = predict_tflite_mtl(MODEL_TFLITE, test_features)"
   ],
   "metadata": {
    "collapsed": false,
    "ExecuteTime": {
     "end_time": "2023-06-10T17:27:20.702096600Z",
     "start_time": "2023-06-10T17:27:20.282488900Z"
    }
   }
  },
  {
   "cell_type": "code",
   "execution_count": 20,
   "outputs": [
    {
     "name": "stdout",
     "output_type": "stream",
     "text": [
      "\n",
      "Evaluation on the test set:\n",
      "False alarm prob: 25.27%\n",
      "Miss detection prob: 11.11%\n",
      "Number of False Positives: 47\n",
      "Number of False Negatives: 46\n",
      "Detector f1-score is 88.781665%\n",
      "\n",
      "Other Metrics:\n",
      "Detector accuracy is 84.500000%\n",
      "Detector precision is 88.674699%\n",
      "Detector recall is 88.888889%\n"
     ]
    }
   ],
   "source": [
    "detection_report(test_dataset[1]['detection'], y_pred_det.flatten())"
   ],
   "metadata": {
    "collapsed": false,
    "ExecuteTime": {
     "end_time": "2023-06-10T17:27:20.717806900Z",
     "start_time": "2023-06-10T17:27:20.702096600Z"
    }
   }
  },
  {
   "cell_type": "code",
   "execution_count": 21,
   "outputs": [
    {
     "name": "stdout",
     "output_type": "stream",
     "text": [
      "              precision    recall  f1-score   support\n",
      "\n",
      "           0     0.6837    0.7204    0.7016       186\n",
      "           1     0.7929    0.7621    0.7772       206\n",
      "           2     0.8010    0.7933    0.7971       208\n",
      "\n",
      "    accuracy                         0.7600       600\n",
      "   macro avg     0.7592    0.7586    0.7586       600\n",
      "weighted avg     0.7618    0.7600    0.7607       600\n",
      "\n"
     ]
    },
    {
     "data": {
      "text/plain": "<Figure size 720x576 with 2 Axes>",
      "image/png": "[encoded data removed]"
     },
     "metadata": {
      "needs_background": "light"
     },
     "output_type": "display_data"
    }
   ],
   "source": [
    "print(classification_report(test_dataset[1]['classification'], y_pred_class, digits=4))\n",
    "plot_confusion_matrix(list(class_dict.keys()), test_dataset[1]['classification'], y_pred_class)"
   ],
   "metadata": {
    "collapsed": false,
    "ExecuteTime": {
     "end_time": "2023-06-10T17:27:20.874986500Z",
     "start_time": "2023-06-10T17:27:20.722314400Z"
    }
   }
  },
  {
   "cell_type": "code",
   "execution_count": 21,
   "outputs": [],
   "source": [],
   "metadata": {
    "collapsed": false,
    "ExecuteTime": {
     "end_time": "2023-06-10T17:27:20.969688900Z",
     "start_time": "2023-06-10T17:27:20.874986500Z"
    }
   }
  },
  {
   "cell_type": "code",
   "execution_count": 22,
   "outputs": [],
   "source": [],
   "metadata": {
    "collapsed": false,
    "ExecuteTime": {
     "end_time": "2023-06-03T17:48:47.126170Z",
     "start_time": "2023-06-03T17:48:47.031814100Z"
    }
   }
  },
  {
   "cell_type": "code",
   "execution_count": null,
   "outputs": [],
   "source": [],
   "metadata": {
    "collapsed": false
   }
  }
 ],
 "metadata": {
  "kernelspec": {
   "display_name": "Python 3",
   "language": "python",
   "name": "python3"
  },
  "language_info": {
   "codemirror_mode": {
    "name": "ipython",
    "version": 2
   },
   "file_extension": ".py",
   "mimetype": "text/x-python",
   "name": "python",
   "nbconvert_exporter": "python",
   "pygments_lexer": "ipython2",
   "version": "2.7.6"
  }
 },
 "nbformat": 4,
 "nbformat_minor": 0
}
