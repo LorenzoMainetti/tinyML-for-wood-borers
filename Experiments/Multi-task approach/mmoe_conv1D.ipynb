{
 "cells": [
  {
   "cell_type": "code",
   "execution_count": null,
   "metadata": {
    "collapsed": true
   },
   "outputs": [],
   "source": [
    "import sys\n",
    "\n",
    "sys.path.append('../../')\n",
    "\n",
    "import os\n",
    "import tensorflow as tf\n",
    "import numpy as np\n",
    "from sklearn.metrics import accuracy_score, classification_report\n",
    "from matplotlib import pyplot as plt\n",
    "from keras.callbacks import ReduceLROnPlateau, EarlyStopping\n",
    "import keras.backend as K\n",
    "from keras.layers import Dense, Conv1D, MaxPool1D, Lambda\n",
    "from keras import Input, Model\n",
    "from keras import Sequential\n",
    "\n",
    "from Pipeline.Multi_task.mmoe import MultiGateMixtureOfExperts\n",
    "from Pipeline.tf_dataset_builder import DatasetBuilderRaw\n",
    "from Pipeline.evaluation import detection_report\n",
    "from Pipeline.tf_lite_utils import convert_tf_lite_mtl, predict_tflite_mtl, convert_tf_lite, compare_size\n",
    "from Pipeline.evaluation import plot_confusion_matrix"
   ]
  },
  {
   "cell_type": "code",
   "execution_count": 3,
   "outputs": [],
   "source": [
    "# Set seed for experiment reproducibility\n",
    "seed = 1\n",
    "tf.random.set_seed(seed)"
   ],
   "metadata": {
    "collapsed": false,
    "ExecuteTime": {
     "end_time": "2023-07-02T18:11:49.919397300Z",
     "start_time": "2023-07-02T18:11:49.889035800Z"
    }
   }
  },
  {
   "cell_type": "code",
   "execution_count": 4,
   "outputs": [],
   "source": [
    "# Define paths to model files\n",
    "MODELS_DIR = '../../Models/'\n",
    "if not os.path.exists(MODELS_DIR):\n",
    "    os.mkdir(MODELS_DIR)\n",
    "MODEL_TF = MODELS_DIR + 'mmoe_model'\n",
    "MODEL_NO_QUANT_TFLITE = MODELS_DIR + 'mmoe_model_no_quant.tflite'\n",
    "MODEL_TFLITE = MODELS_DIR + 'mmoe_model.tflite'"
   ],
   "metadata": {
    "collapsed": false,
    "ExecuteTime": {
     "end_time": "2023-07-02T18:11:49.919397300Z",
     "start_time": "2023-07-02T18:11:49.916414300Z"
    }
   }
  },
  {
   "cell_type": "code",
   "execution_count": 5,
   "outputs": [],
   "source": [
    "class_dict = {\n",
    "    'Background': 0,\n",
    "    'Big mandibles': 1,\n",
    "    'Small mandibles': 2,\n",
    "}"
   ],
   "metadata": {
    "collapsed": false,
    "ExecuteTime": {
     "end_time": "2023-07-02T18:11:49.933590900Z",
     "start_time": "2023-07-02T18:11:49.920396600Z"
    }
   }
  },
  {
   "cell_type": "code",
   "execution_count": 6,
   "outputs": [],
   "source": [
    "# Set hyperparameters\n",
    "batch_size = 64\n",
    "learning_rate = 0.001\n",
    "epochs = 100\n",
    "patience = 10\n",
    "\n",
    "# Loss weighting parameter\n",
    "gamma = 0.5\n",
    "\n",
    "# Mixture of experts parameters\n",
    "n_experts = 3\n",
    "n_tasks = 2\n",
    "include_base_layer = True"
   ],
   "metadata": {
    "collapsed": false,
    "ExecuteTime": {
     "end_time": "2023-07-02T18:11:49.953560100Z",
     "start_time": "2023-07-02T18:11:49.935560100Z"
    }
   }
  },
  {
   "cell_type": "code",
   "execution_count": 7,
   "outputs": [],
   "source": [
    "# Load the data: raw extraction\n",
    "DatasetBuilder = DatasetBuilderRaw(\n",
    "    #dataset_dir=\"../../Dataset/Generated dataset/Deployment/unstandardized/50ms/**/*.wav\",\n",
    "    dataset_dir=\"../../Dataset/Final dataset/Generation/Generated dataset/**/*.wav\",\n",
    "    batch_size=batch_size,\n",
    "    class_dict=class_dict,\n",
    "    augment=False,\n",
    "    balanced=False,\n",
    "    multi_task=True,\n",
    "    normalize=True,\n",
    "    seed=seed,\n",
    "    sample_rate=44100\n",
    ")\n",
    "train_dataset, val_dataset, test_dataset = DatasetBuilder.build(val_split=0.2, test_split=0.2)"
   ],
   "metadata": {
    "collapsed": false,
    "ExecuteTime": {
     "end_time": "2023-07-02T18:15:58.860073900Z",
     "start_time": "2023-07-02T18:11:49.952559900Z"
    }
   }
  },
  {
   "cell_type": "code",
   "execution_count": 8,
   "outputs": [
    {
     "data": {
      "text/plain": "(2205, 1)"
     },
     "execution_count": 8,
     "metadata": {},
     "output_type": "execute_result"
    }
   ],
   "source": [
    "input_shape = test_dataset[0][0].shape\n",
    "input_shape"
   ],
   "metadata": {
    "collapsed": false,
    "ExecuteTime": {
     "end_time": "2023-07-02T18:15:58.874406300Z",
     "start_time": "2023-07-02T18:15:58.860073900Z"
    }
   }
  },
  {
   "cell_type": "code",
   "execution_count": 9,
   "outputs": [],
   "source": [
    "# define experts: each expert is dense layer with user defined\n",
    "# activation function\n",
    "experts = [Dense(10, activation=\"relu\") for _ in range(n_experts)]\n",
    "\n",
    "# task layers: each task layer is a dense layer with user defined\n",
    "# activation function\n",
    "detection_head = Sequential([\n",
    "    Dense(32, activation='relu'),\n",
    "    Dense(1, activation='sigmoid'),\n",
    "])\n",
    "detection_head._name = 'detection'\n",
    "\n",
    "classification_head = Sequential([\n",
    "    Dense(32, activation='relu'),\n",
    "    Dense(len(class_dict), activation='softmax'),\n",
    "])\n",
    "classification_head._name = 'classification'\n",
    "\n",
    "task_layers = [detection_head, classification_head]\n",
    "\n",
    "# adding base / preprocessing layer\n",
    "base_layer = None\n",
    "if include_base_layer:\n",
    "    base_layer = Sequential([\n",
    "        Conv1D(filters=8, kernel_size=80, padding=\"same\", activation='relu'),\n",
    "        MaxPool1D(pool_size=4, strides=2),\n",
    "        Conv1D(filters=8, kernel_size=3, padding=\"same\", activation='relu'),\n",
    "        MaxPool1D(pool_size=4, strides=2),\n",
    "        Conv1D(filters=8, kernel_size=3, padding=\"same\", activation='relu'),\n",
    "        MaxPool1D(pool_size=4, strides=2),\n",
    "        Lambda(lambda x: K.mean(x, axis=1)),\n",
    "        #Dense(32, activation='relu'),\n",
    "    ])\n",
    "\n",
    "# combine everything using Multi Gate Mixture of Experts layer\n",
    "mmoe = MultiGateMixtureOfExperts(experts,\n",
    "                                 task_layers,\n",
    "                                 moe_dropout=True,\n",
    "                                 moe_dropout_rate=0.15,\n",
    "                                 base_layer=base_layer)\n",
    "\n",
    "\n",
    "# create tf.keras Model using functional API\n",
    "input_layer = Input(shape=input_shape)\n",
    "output_layer = mmoe(input_layer)\n",
    "multitask_model = Model(inputs=input_layer, outputs=output_layer)"
   ],
   "metadata": {
    "collapsed": false,
    "ExecuteTime": {
     "end_time": "2023-07-02T18:15:59.496720200Z",
     "start_time": "2023-07-02T18:15:58.888588500Z"
    }
   }
  },
  {
   "cell_type": "code",
   "execution_count": 10,
   "outputs": [
    {
     "name": "stdout",
     "output_type": "stream",
     "text": [
      "Model: \"model\"\n",
      "_________________________________________________________________\n",
      " Layer (type)                Output Shape              Param #   \n",
      "=================================================================\n",
      " input_1 (InputLayer)        [(None, 2205, 1)]         0         \n",
      "                                                                 \n",
      " multi_gate_mixture_of_exper  [(None, 1),              2208      \n",
      " ts (MultiGateMixtureOfExper   (None, 3)]                        \n",
      " ts)                                                             \n",
      "                                                                 \n",
      "=================================================================\n",
      "Total params: 2,208\n",
      "Trainable params: 2,208\n",
      "Non-trainable params: 0\n",
      "_________________________________________________________________\n"
     ]
    }
   ],
   "source": [
    "multitask_model.summary(expand_nested=True)"
   ],
   "metadata": {
    "collapsed": false,
    "ExecuteTime": {
     "end_time": "2023-07-02T18:15:59.534111500Z",
     "start_time": "2023-07-02T18:15:59.496720200Z"
    }
   }
  },
  {
   "cell_type": "code",
   "execution_count": 11,
   "outputs": [],
   "source": [
    "loss1 = tf.keras.losses.BinaryCrossentropy()\n",
    "loss2 = tf.keras.losses.SparseCategoricalCrossentropy()\n",
    "\n",
    "optimizer = tf.keras.optimizers.Adam()\n",
    "\n",
    "losses = {\n",
    "    'multi_gate_mixture_of_experts': loss1,\n",
    "    'multi_gate_mixture_of_experts_1': loss2\n",
    "}\n",
    "\n",
    "loss_weights = {\n",
    "    'multi_gate_mixture_of_experts': gamma,\n",
    "    'multi_gate_mixture_of_experts_1': 1 - gamma\n",
    "}\n",
    "\n",
    "metrics = ['accuracy']\n",
    "\n",
    "multitask_model.compile(\n",
    "    optimizer=optimizer,\n",
    "    loss=losses,\n",
    "    loss_weights=loss_weights,\n",
    "    metrics=metrics,\n",
    ")"
   ],
   "metadata": {
    "collapsed": false,
    "ExecuteTime": {
     "end_time": "2023-07-02T18:15:59.555072600Z",
     "start_time": "2023-07-02T18:15:59.528041800Z"
    }
   }
  },
  {
   "cell_type": "code",
   "execution_count": 12,
   "outputs": [],
   "source": [
    "#rename true labels\n",
    "train_dataset = train_dataset.map(lambda x, y: (x, {'multi_gate_mixture_of_experts': y['detection'], 'multi_gate_mixture_of_experts_1': y['classification']}))\n",
    "\n",
    "val_dataset = val_dataset.map(lambda x, y: (x, {'multi_gate_mixture_of_experts': y['detection'], 'multi_gate_mixture_of_experts_1': y['classification']}))"
   ],
   "metadata": {
    "collapsed": false,
    "ExecuteTime": {
     "end_time": "2023-07-02T18:15:59.616687800Z",
     "start_time": "2023-07-02T18:15:59.560158900Z"
    }
   }
  },
  {
   "cell_type": "code",
   "execution_count": 13,
   "outputs": [
    {
     "name": "stdout",
     "output_type": "stream",
     "text": [
      "Epoch 1/100\n",
      "30/30 [==============================] - 4s 61ms/step - loss: 0.8809 - multi_gate_mixture_of_experts_loss: 0.6555 - multi_gate_mixture_of_experts_1_loss: 1.1063 - multi_gate_mixture_of_experts_accuracy: 0.6583 - multi_gate_mixture_of_experts_1_accuracy: 0.3250 - val_loss: 0.8661 - val_multi_gate_mixture_of_experts_loss: 0.6320 - val_multi_gate_mixture_of_experts_1_loss: 1.1002 - val_multi_gate_mixture_of_experts_accuracy: 0.6708 - val_multi_gate_mixture_of_experts_1_accuracy: 0.3292 - lr: 0.0010\n",
      "Epoch 2/100\n",
      "30/30 [==============================] - 2s 61ms/step - loss: 0.8721 - multi_gate_mixture_of_experts_loss: 0.6436 - multi_gate_mixture_of_experts_1_loss: 1.1006 - multi_gate_mixture_of_experts_accuracy: 0.6583 - multi_gate_mixture_of_experts_1_accuracy: 0.3313 - val_loss: 0.8627 - val_multi_gate_mixture_of_experts_loss: 0.6246 - val_multi_gate_mixture_of_experts_1_loss: 1.1009 - val_multi_gate_mixture_of_experts_accuracy: 0.6708 - val_multi_gate_mixture_of_experts_1_accuracy: 0.3667 - lr: 0.0010\n",
      "Epoch 3/100\n",
      "30/30 [==============================] - 1s 46ms/step - loss: 0.8638 - multi_gate_mixture_of_experts_loss: 0.6292 - multi_gate_mixture_of_experts_1_loss: 1.0984 - multi_gate_mixture_of_experts_accuracy: 0.6583 - multi_gate_mixture_of_experts_1_accuracy: 0.4099 - val_loss: 0.8511 - val_multi_gate_mixture_of_experts_loss: 0.6086 - val_multi_gate_mixture_of_experts_1_loss: 1.0936 - val_multi_gate_mixture_of_experts_accuracy: 0.6708 - val_multi_gate_mixture_of_experts_1_accuracy: 0.4812 - lr: 0.0010\n",
      "Epoch 4/100\n",
      "30/30 [==============================] - 2s 52ms/step - loss: 0.8442 - multi_gate_mixture_of_experts_loss: 0.6036 - multi_gate_mixture_of_experts_1_loss: 1.0847 - multi_gate_mixture_of_experts_accuracy: 0.6583 - multi_gate_mixture_of_experts_1_accuracy: 0.4557 - val_loss: 0.8284 - val_multi_gate_mixture_of_experts_loss: 0.5811 - val_multi_gate_mixture_of_experts_1_loss: 1.0758 - val_multi_gate_mixture_of_experts_accuracy: 0.6708 - val_multi_gate_mixture_of_experts_1_accuracy: 0.4271 - lr: 0.0010\n",
      "Epoch 5/100\n",
      "30/30 [==============================] - 2s 53ms/step - loss: 0.8099 - multi_gate_mixture_of_experts_loss: 0.5680 - multi_gate_mixture_of_experts_1_loss: 1.0518 - multi_gate_mixture_of_experts_accuracy: 0.6818 - multi_gate_mixture_of_experts_1_accuracy: 0.4500 - val_loss: 0.7907 - val_multi_gate_mixture_of_experts_loss: 0.5532 - val_multi_gate_mixture_of_experts_1_loss: 1.0282 - val_multi_gate_mixture_of_experts_accuracy: 0.8313 - val_multi_gate_mixture_of_experts_1_accuracy: 0.4271 - lr: 0.0010\n",
      "Epoch 6/100\n",
      "30/30 [==============================] - 2s 57ms/step - loss: 0.7510 - multi_gate_mixture_of_experts_loss: 0.5240 - multi_gate_mixture_of_experts_1_loss: 0.9779 - multi_gate_mixture_of_experts_accuracy: 0.7771 - multi_gate_mixture_of_experts_1_accuracy: 0.4953 - val_loss: 0.7469 - val_multi_gate_mixture_of_experts_loss: 0.5222 - val_multi_gate_mixture_of_experts_1_loss: 0.9716 - val_multi_gate_mixture_of_experts_accuracy: 0.8167 - val_multi_gate_mixture_of_experts_1_accuracy: 0.4604 - lr: 0.0010\n",
      "Epoch 7/100\n",
      "30/30 [==============================] - 2s 57ms/step - loss: 0.7196 - multi_gate_mixture_of_experts_loss: 0.5023 - multi_gate_mixture_of_experts_1_loss: 0.9368 - multi_gate_mixture_of_experts_accuracy: 0.7911 - multi_gate_mixture_of_experts_1_accuracy: 0.5312 - val_loss: 0.7239 - val_multi_gate_mixture_of_experts_loss: 0.5001 - val_multi_gate_mixture_of_experts_1_loss: 0.9476 - val_multi_gate_mixture_of_experts_accuracy: 0.8146 - val_multi_gate_mixture_of_experts_1_accuracy: 0.5833 - lr: 0.0010\n",
      "Epoch 8/100\n",
      "30/30 [==============================] - 2s 52ms/step - loss: 0.7096 - multi_gate_mixture_of_experts_loss: 0.4891 - multi_gate_mixture_of_experts_1_loss: 0.9301 - multi_gate_mixture_of_experts_accuracy: 0.7969 - multi_gate_mixture_of_experts_1_accuracy: 0.5500 - val_loss: 0.7134 - val_multi_gate_mixture_of_experts_loss: 0.4930 - val_multi_gate_mixture_of_experts_1_loss: 0.9338 - val_multi_gate_mixture_of_experts_accuracy: 0.8125 - val_multi_gate_mixture_of_experts_1_accuracy: 0.6167 - lr: 0.0010\n",
      "Epoch 9/100\n",
      "30/30 [==============================] - 2s 52ms/step - loss: 0.7026 - multi_gate_mixture_of_experts_loss: 0.4907 - multi_gate_mixture_of_experts_1_loss: 0.9146 - multi_gate_mixture_of_experts_accuracy: 0.7891 - multi_gate_mixture_of_experts_1_accuracy: 0.5635 - val_loss: 0.7096 - val_multi_gate_mixture_of_experts_loss: 0.4906 - val_multi_gate_mixture_of_experts_1_loss: 0.9285 - val_multi_gate_mixture_of_experts_accuracy: 0.7937 - val_multi_gate_mixture_of_experts_1_accuracy: 0.5646 - lr: 0.0010\n",
      "Epoch 10/100\n",
      "30/30 [==============================] - 2s 53ms/step - loss: 0.6835 - multi_gate_mixture_of_experts_loss: 0.4647 - multi_gate_mixture_of_experts_1_loss: 0.9022 - multi_gate_mixture_of_experts_accuracy: 0.8172 - multi_gate_mixture_of_experts_1_accuracy: 0.5807 - val_loss: 0.6933 - val_multi_gate_mixture_of_experts_loss: 0.4725 - val_multi_gate_mixture_of_experts_1_loss: 0.9141 - val_multi_gate_mixture_of_experts_accuracy: 0.8188 - val_multi_gate_mixture_of_experts_1_accuracy: 0.5750 - lr: 0.0010\n",
      "Epoch 11/100\n",
      "30/30 [==============================] - 2s 51ms/step - loss: 0.6740 - multi_gate_mixture_of_experts_loss: 0.4567 - multi_gate_mixture_of_experts_1_loss: 0.8913 - multi_gate_mixture_of_experts_accuracy: 0.8057 - multi_gate_mixture_of_experts_1_accuracy: 0.5771 - val_loss: 0.7123 - val_multi_gate_mixture_of_experts_loss: 0.4910 - val_multi_gate_mixture_of_experts_1_loss: 0.9336 - val_multi_gate_mixture_of_experts_accuracy: 0.7812 - val_multi_gate_mixture_of_experts_1_accuracy: 0.5500 - lr: 0.0010\n",
      "Epoch 12/100\n",
      "30/30 [==============================] - 2s 52ms/step - loss: 0.6709 - multi_gate_mixture_of_experts_loss: 0.4527 - multi_gate_mixture_of_experts_1_loss: 0.8891 - multi_gate_mixture_of_experts_accuracy: 0.8109 - multi_gate_mixture_of_experts_1_accuracy: 0.5901 - val_loss: 0.6788 - val_multi_gate_mixture_of_experts_loss: 0.4585 - val_multi_gate_mixture_of_experts_1_loss: 0.8991 - val_multi_gate_mixture_of_experts_accuracy: 0.8208 - val_multi_gate_mixture_of_experts_1_accuracy: 0.5854 - lr: 0.0010\n",
      "Epoch 13/100\n",
      "30/30 [==============================] - 2s 54ms/step - loss: 0.6592 - multi_gate_mixture_of_experts_loss: 0.4427 - multi_gate_mixture_of_experts_1_loss: 0.8758 - multi_gate_mixture_of_experts_accuracy: 0.8286 - multi_gate_mixture_of_experts_1_accuracy: 0.5995 - val_loss: 0.6691 - val_multi_gate_mixture_of_experts_loss: 0.4502 - val_multi_gate_mixture_of_experts_1_loss: 0.8880 - val_multi_gate_mixture_of_experts_accuracy: 0.8250 - val_multi_gate_mixture_of_experts_1_accuracy: 0.5938 - lr: 0.0010\n",
      "Epoch 14/100\n",
      "30/30 [==============================] - 2s 54ms/step - loss: 0.6522 - multi_gate_mixture_of_experts_loss: 0.4361 - multi_gate_mixture_of_experts_1_loss: 0.8683 - multi_gate_mixture_of_experts_accuracy: 0.8313 - multi_gate_mixture_of_experts_1_accuracy: 0.6010 - val_loss: 0.6615 - val_multi_gate_mixture_of_experts_loss: 0.4432 - val_multi_gate_mixture_of_experts_1_loss: 0.8799 - val_multi_gate_mixture_of_experts_accuracy: 0.8271 - val_multi_gate_mixture_of_experts_1_accuracy: 0.5979 - lr: 0.0010\n",
      "Epoch 15/100\n",
      "30/30 [==============================] - 2s 54ms/step - loss: 0.6437 - multi_gate_mixture_of_experts_loss: 0.4315 - multi_gate_mixture_of_experts_1_loss: 0.8560 - multi_gate_mixture_of_experts_accuracy: 0.8333 - multi_gate_mixture_of_experts_1_accuracy: 0.6125 - val_loss: 0.6497 - val_multi_gate_mixture_of_experts_loss: 0.4331 - val_multi_gate_mixture_of_experts_1_loss: 0.8662 - val_multi_gate_mixture_of_experts_accuracy: 0.8438 - val_multi_gate_mixture_of_experts_1_accuracy: 0.6167 - lr: 0.0010\n",
      "Epoch 16/100\n",
      "30/30 [==============================] - 2s 53ms/step - loss: 0.6431 - multi_gate_mixture_of_experts_loss: 0.4265 - multi_gate_mixture_of_experts_1_loss: 0.8598 - multi_gate_mixture_of_experts_accuracy: 0.8307 - multi_gate_mixture_of_experts_1_accuracy: 0.6026 - val_loss: 0.6510 - val_multi_gate_mixture_of_experts_loss: 0.4332 - val_multi_gate_mixture_of_experts_1_loss: 0.8689 - val_multi_gate_mixture_of_experts_accuracy: 0.8354 - val_multi_gate_mixture_of_experts_1_accuracy: 0.5979 - lr: 0.0010\n",
      "Epoch 17/100\n",
      "30/30 [==============================] - 2s 52ms/step - loss: 0.6396 - multi_gate_mixture_of_experts_loss: 0.4265 - multi_gate_mixture_of_experts_1_loss: 0.8528 - multi_gate_mixture_of_experts_accuracy: 0.8250 - multi_gate_mixture_of_experts_1_accuracy: 0.6047 - val_loss: 0.6451 - val_multi_gate_mixture_of_experts_loss: 0.4294 - val_multi_gate_mixture_of_experts_1_loss: 0.8608 - val_multi_gate_mixture_of_experts_accuracy: 0.8333 - val_multi_gate_mixture_of_experts_1_accuracy: 0.6250 - lr: 0.0010\n",
      "Epoch 18/100\n",
      "30/30 [==============================] - 2s 60ms/step - loss: 0.6338 - multi_gate_mixture_of_experts_loss: 0.4230 - multi_gate_mixture_of_experts_1_loss: 0.8446 - multi_gate_mixture_of_experts_accuracy: 0.8234 - multi_gate_mixture_of_experts_1_accuracy: 0.6229 - val_loss: 0.6426 - val_multi_gate_mixture_of_experts_loss: 0.4286 - val_multi_gate_mixture_of_experts_1_loss: 0.8565 - val_multi_gate_mixture_of_experts_accuracy: 0.8271 - val_multi_gate_mixture_of_experts_1_accuracy: 0.6229 - lr: 0.0010\n",
      "Epoch 19/100\n",
      "30/30 [==============================] - 2s 49ms/step - loss: 0.6155 - multi_gate_mixture_of_experts_loss: 0.4065 - multi_gate_mixture_of_experts_1_loss: 0.8245 - multi_gate_mixture_of_experts_accuracy: 0.8443 - multi_gate_mixture_of_experts_1_accuracy: 0.6333 - val_loss: 0.6345 - val_multi_gate_mixture_of_experts_loss: 0.4201 - val_multi_gate_mixture_of_experts_1_loss: 0.8489 - val_multi_gate_mixture_of_experts_accuracy: 0.8271 - val_multi_gate_mixture_of_experts_1_accuracy: 0.6271 - lr: 0.0010\n",
      "Epoch 20/100\n",
      "30/30 [==============================] - 1s 48ms/step - loss: 0.6348 - multi_gate_mixture_of_experts_loss: 0.4221 - multi_gate_mixture_of_experts_1_loss: 0.8475 - multi_gate_mixture_of_experts_accuracy: 0.8115 - multi_gate_mixture_of_experts_1_accuracy: 0.6099 - val_loss: 0.6365 - val_multi_gate_mixture_of_experts_loss: 0.4216 - val_multi_gate_mixture_of_experts_1_loss: 0.8514 - val_multi_gate_mixture_of_experts_accuracy: 0.8250 - val_multi_gate_mixture_of_experts_1_accuracy: 0.6208 - lr: 0.0010\n",
      "Epoch 21/100\n",
      "30/30 [==============================] - 1s 46ms/step - loss: 0.6131 - multi_gate_mixture_of_experts_loss: 0.4018 - multi_gate_mixture_of_experts_1_loss: 0.8244 - multi_gate_mixture_of_experts_accuracy: 0.8286 - multi_gate_mixture_of_experts_1_accuracy: 0.6276 - val_loss: 0.6379 - val_multi_gate_mixture_of_experts_loss: 0.4249 - val_multi_gate_mixture_of_experts_1_loss: 0.8509 - val_multi_gate_mixture_of_experts_accuracy: 0.8333 - val_multi_gate_mixture_of_experts_1_accuracy: 0.6104 - lr: 0.0010\n",
      "Epoch 22/100\n",
      "30/30 [==============================] - 1s 46ms/step - loss: 0.5887 - multi_gate_mixture_of_experts_loss: 0.3788 - multi_gate_mixture_of_experts_1_loss: 0.7987 - multi_gate_mixture_of_experts_accuracy: 0.8438 - multi_gate_mixture_of_experts_1_accuracy: 0.6333 - val_loss: 0.6418 - val_multi_gate_mixture_of_experts_loss: 0.4284 - val_multi_gate_mixture_of_experts_1_loss: 0.8551 - val_multi_gate_mixture_of_experts_accuracy: 0.7875 - val_multi_gate_mixture_of_experts_1_accuracy: 0.6146 - lr: 0.0010\n",
      "Epoch 23/100\n",
      "30/30 [==============================] - 1s 48ms/step - loss: 0.5978 - multi_gate_mixture_of_experts_loss: 0.3903 - multi_gate_mixture_of_experts_1_loss: 0.8053 - multi_gate_mixture_of_experts_accuracy: 0.8365 - multi_gate_mixture_of_experts_1_accuracy: 0.6453 - val_loss: 0.6133 - val_multi_gate_mixture_of_experts_loss: 0.4015 - val_multi_gate_mixture_of_experts_1_loss: 0.8251 - val_multi_gate_mixture_of_experts_accuracy: 0.8333 - val_multi_gate_mixture_of_experts_1_accuracy: 0.6271 - lr: 0.0010\n",
      "Epoch 24/100\n",
      "30/30 [==============================] - 1s 46ms/step - loss: 0.5850 - multi_gate_mixture_of_experts_loss: 0.3793 - multi_gate_mixture_of_experts_1_loss: 0.7907 - multi_gate_mixture_of_experts_accuracy: 0.8354 - multi_gate_mixture_of_experts_1_accuracy: 0.6526 - val_loss: 0.6934 - val_multi_gate_mixture_of_experts_loss: 0.4741 - val_multi_gate_mixture_of_experts_1_loss: 0.9126 - val_multi_gate_mixture_of_experts_accuracy: 0.7729 - val_multi_gate_mixture_of_experts_1_accuracy: 0.5729 - lr: 0.0010\n",
      "Epoch 25/100\n",
      "30/30 [==============================] - 1s 46ms/step - loss: 0.6063 - multi_gate_mixture_of_experts_loss: 0.4005 - multi_gate_mixture_of_experts_1_loss: 0.8122 - multi_gate_mixture_of_experts_accuracy: 0.8203 - multi_gate_mixture_of_experts_1_accuracy: 0.6313 - val_loss: 0.6058 - val_multi_gate_mixture_of_experts_loss: 0.3969 - val_multi_gate_mixture_of_experts_1_loss: 0.8148 - val_multi_gate_mixture_of_experts_accuracy: 0.8292 - val_multi_gate_mixture_of_experts_1_accuracy: 0.6271 - lr: 0.0010\n",
      "Epoch 26/100\n",
      "30/30 [==============================] - 1s 46ms/step - loss: 0.5709 - multi_gate_mixture_of_experts_loss: 0.3670 - multi_gate_mixture_of_experts_1_loss: 0.7748 - multi_gate_mixture_of_experts_accuracy: 0.8396 - multi_gate_mixture_of_experts_1_accuracy: 0.6526 - val_loss: 0.6138 - val_multi_gate_mixture_of_experts_loss: 0.4010 - val_multi_gate_mixture_of_experts_1_loss: 0.8265 - val_multi_gate_mixture_of_experts_accuracy: 0.8313 - val_multi_gate_mixture_of_experts_1_accuracy: 0.6167 - lr: 0.0010\n",
      "Epoch 27/100\n",
      "30/30 [==============================] - 1s 47ms/step - loss: 0.5619 - multi_gate_mixture_of_experts_loss: 0.3615 - multi_gate_mixture_of_experts_1_loss: 0.7623 - multi_gate_mixture_of_experts_accuracy: 0.8469 - multi_gate_mixture_of_experts_1_accuracy: 0.6615 - val_loss: 0.6239 - val_multi_gate_mixture_of_experts_loss: 0.4081 - val_multi_gate_mixture_of_experts_1_loss: 0.8396 - val_multi_gate_mixture_of_experts_accuracy: 0.8146 - val_multi_gate_mixture_of_experts_1_accuracy: 0.6187 - lr: 0.0010\n",
      "Epoch 28/100\n",
      "30/30 [==============================] - 1s 47ms/step - loss: 0.5527 - multi_gate_mixture_of_experts_loss: 0.3542 - multi_gate_mixture_of_experts_1_loss: 0.7513 - multi_gate_mixture_of_experts_accuracy: 0.8453 - multi_gate_mixture_of_experts_1_accuracy: 0.6651 - val_loss: 0.6037 - val_multi_gate_mixture_of_experts_loss: 0.3972 - val_multi_gate_mixture_of_experts_1_loss: 0.8101 - val_multi_gate_mixture_of_experts_accuracy: 0.8313 - val_multi_gate_mixture_of_experts_1_accuracy: 0.6396 - lr: 0.0010\n",
      "Epoch 29/100\n",
      "30/30 [==============================] - 1s 47ms/step - loss: 0.5463 - multi_gate_mixture_of_experts_loss: 0.3555 - multi_gate_mixture_of_experts_1_loss: 0.7370 - multi_gate_mixture_of_experts_accuracy: 0.8495 - multi_gate_mixture_of_experts_1_accuracy: 0.6812 - val_loss: 0.5826 - val_multi_gate_mixture_of_experts_loss: 0.3786 - val_multi_gate_mixture_of_experts_1_loss: 0.7865 - val_multi_gate_mixture_of_experts_accuracy: 0.8250 - val_multi_gate_mixture_of_experts_1_accuracy: 0.6687 - lr: 0.0010\n",
      "Epoch 30/100\n",
      "30/30 [==============================] - 1s 46ms/step - loss: 0.5501 - multi_gate_mixture_of_experts_loss: 0.3549 - multi_gate_mixture_of_experts_1_loss: 0.7452 - multi_gate_mixture_of_experts_accuracy: 0.8401 - multi_gate_mixture_of_experts_1_accuracy: 0.6719 - val_loss: 0.5921 - val_multi_gate_mixture_of_experts_loss: 0.3872 - val_multi_gate_mixture_of_experts_1_loss: 0.7970 - val_multi_gate_mixture_of_experts_accuracy: 0.8396 - val_multi_gate_mixture_of_experts_1_accuracy: 0.6521 - lr: 0.0010\n",
      "Epoch 31/100\n",
      "30/30 [==============================] - 1s 46ms/step - loss: 0.5648 - multi_gate_mixture_of_experts_loss: 0.3591 - multi_gate_mixture_of_experts_1_loss: 0.7705 - multi_gate_mixture_of_experts_accuracy: 0.8349 - multi_gate_mixture_of_experts_1_accuracy: 0.6578 - val_loss: 0.5900 - val_multi_gate_mixture_of_experts_loss: 0.3833 - val_multi_gate_mixture_of_experts_1_loss: 0.7967 - val_multi_gate_mixture_of_experts_accuracy: 0.8188 - val_multi_gate_mixture_of_experts_1_accuracy: 0.6646 - lr: 0.0010\n",
      "Epoch 32/100\n",
      "30/30 [==============================] - 1s 47ms/step - loss: 0.5440 - multi_gate_mixture_of_experts_loss: 0.3478 - multi_gate_mixture_of_experts_1_loss: 0.7402 - multi_gate_mixture_of_experts_accuracy: 0.8458 - multi_gate_mixture_of_experts_1_accuracy: 0.6750 - val_loss: 0.5935 - val_multi_gate_mixture_of_experts_loss: 0.3901 - val_multi_gate_mixture_of_experts_1_loss: 0.7970 - val_multi_gate_mixture_of_experts_accuracy: 0.8250 - val_multi_gate_mixture_of_experts_1_accuracy: 0.6396 - lr: 0.0010\n",
      "Epoch 33/100\n",
      "30/30 [==============================] - 1s 46ms/step - loss: 0.5185 - multi_gate_mixture_of_experts_loss: 0.3297 - multi_gate_mixture_of_experts_1_loss: 0.7073 - multi_gate_mixture_of_experts_accuracy: 0.8542 - multi_gate_mixture_of_experts_1_accuracy: 0.7057 - val_loss: 0.5744 - val_multi_gate_mixture_of_experts_loss: 0.3746 - val_multi_gate_mixture_of_experts_1_loss: 0.7743 - val_multi_gate_mixture_of_experts_accuracy: 0.8208 - val_multi_gate_mixture_of_experts_1_accuracy: 0.6708 - lr: 0.0010\n",
      "Epoch 34/100\n",
      "30/30 [==============================] - 1s 47ms/step - loss: 0.5167 - multi_gate_mixture_of_experts_loss: 0.3268 - multi_gate_mixture_of_experts_1_loss: 0.7065 - multi_gate_mixture_of_experts_accuracy: 0.8568 - multi_gate_mixture_of_experts_1_accuracy: 0.7016 - val_loss: 0.5805 - val_multi_gate_mixture_of_experts_loss: 0.3820 - val_multi_gate_mixture_of_experts_1_loss: 0.7789 - val_multi_gate_mixture_of_experts_accuracy: 0.8146 - val_multi_gate_mixture_of_experts_1_accuracy: 0.6583 - lr: 0.0010\n",
      "Epoch 35/100\n",
      "30/30 [==============================] - 1s 46ms/step - loss: 0.5128 - multi_gate_mixture_of_experts_loss: 0.3215 - multi_gate_mixture_of_experts_1_loss: 0.7040 - multi_gate_mixture_of_experts_accuracy: 0.8521 - multi_gate_mixture_of_experts_1_accuracy: 0.7115 - val_loss: 0.6068 - val_multi_gate_mixture_of_experts_loss: 0.4052 - val_multi_gate_mixture_of_experts_1_loss: 0.8085 - val_multi_gate_mixture_of_experts_accuracy: 0.8021 - val_multi_gate_mixture_of_experts_1_accuracy: 0.6250 - lr: 0.0010\n",
      "Epoch 36/100\n",
      "30/30 [==============================] - 1s 47ms/step - loss: 0.5212 - multi_gate_mixture_of_experts_loss: 0.3350 - multi_gate_mixture_of_experts_1_loss: 0.7074 - multi_gate_mixture_of_experts_accuracy: 0.8521 - multi_gate_mixture_of_experts_1_accuracy: 0.7042 - val_loss: 0.5776 - val_multi_gate_mixture_of_experts_loss: 0.3833 - val_multi_gate_mixture_of_experts_1_loss: 0.7719 - val_multi_gate_mixture_of_experts_accuracy: 0.8167 - val_multi_gate_mixture_of_experts_1_accuracy: 0.6521 - lr: 0.0010\n",
      "Epoch 37/100\n",
      "30/30 [==============================] - 1s 47ms/step - loss: 0.4882 - multi_gate_mixture_of_experts_loss: 0.3073 - multi_gate_mixture_of_experts_1_loss: 0.6691 - multi_gate_mixture_of_experts_accuracy: 0.8677 - multi_gate_mixture_of_experts_1_accuracy: 0.7286 - val_loss: 0.5638 - val_multi_gate_mixture_of_experts_loss: 0.3704 - val_multi_gate_mixture_of_experts_1_loss: 0.7572 - val_multi_gate_mixture_of_experts_accuracy: 0.8417 - val_multi_gate_mixture_of_experts_1_accuracy: 0.6792 - lr: 0.0010\n",
      "Epoch 38/100\n",
      "30/30 [==============================] - 2s 49ms/step - loss: 0.4905 - multi_gate_mixture_of_experts_loss: 0.3088 - multi_gate_mixture_of_experts_1_loss: 0.6722 - multi_gate_mixture_of_experts_accuracy: 0.8698 - multi_gate_mixture_of_experts_1_accuracy: 0.7250 - val_loss: 0.5588 - val_multi_gate_mixture_of_experts_loss: 0.3665 - val_multi_gate_mixture_of_experts_1_loss: 0.7510 - val_multi_gate_mixture_of_experts_accuracy: 0.8333 - val_multi_gate_mixture_of_experts_1_accuracy: 0.6854 - lr: 0.0010\n",
      "Epoch 39/100\n",
      "30/30 [==============================] - 1s 46ms/step - loss: 0.4847 - multi_gate_mixture_of_experts_loss: 0.3006 - multi_gate_mixture_of_experts_1_loss: 0.6689 - multi_gate_mixture_of_experts_accuracy: 0.8693 - multi_gate_mixture_of_experts_1_accuracy: 0.7250 - val_loss: 0.5624 - val_multi_gate_mixture_of_experts_loss: 0.3689 - val_multi_gate_mixture_of_experts_1_loss: 0.7558 - val_multi_gate_mixture_of_experts_accuracy: 0.8458 - val_multi_gate_mixture_of_experts_1_accuracy: 0.6479 - lr: 0.0010\n",
      "Epoch 40/100\n",
      "30/30 [==============================] - 1s 47ms/step - loss: 0.4756 - multi_gate_mixture_of_experts_loss: 0.2942 - multi_gate_mixture_of_experts_1_loss: 0.6571 - multi_gate_mixture_of_experts_accuracy: 0.8786 - multi_gate_mixture_of_experts_1_accuracy: 0.7380 - val_loss: 0.5582 - val_multi_gate_mixture_of_experts_loss: 0.3710 - val_multi_gate_mixture_of_experts_1_loss: 0.7454 - val_multi_gate_mixture_of_experts_accuracy: 0.8167 - val_multi_gate_mixture_of_experts_1_accuracy: 0.6917 - lr: 0.0010\n",
      "Epoch 41/100\n",
      "30/30 [==============================] - 1s 47ms/step - loss: 0.4701 - multi_gate_mixture_of_experts_loss: 0.2893 - multi_gate_mixture_of_experts_1_loss: 0.6509 - multi_gate_mixture_of_experts_accuracy: 0.8729 - multi_gate_mixture_of_experts_1_accuracy: 0.7359 - val_loss: 0.5512 - val_multi_gate_mixture_of_experts_loss: 0.3656 - val_multi_gate_mixture_of_experts_1_loss: 0.7369 - val_multi_gate_mixture_of_experts_accuracy: 0.8458 - val_multi_gate_mixture_of_experts_1_accuracy: 0.6750 - lr: 0.0010\n",
      "Epoch 42/100\n",
      "30/30 [==============================] - 2s 57ms/step - loss: 0.4990 - multi_gate_mixture_of_experts_loss: 0.3204 - multi_gate_mixture_of_experts_1_loss: 0.6775 - multi_gate_mixture_of_experts_accuracy: 0.8599 - multi_gate_mixture_of_experts_1_accuracy: 0.7234 - val_loss: 0.5805 - val_multi_gate_mixture_of_experts_loss: 0.4013 - val_multi_gate_mixture_of_experts_1_loss: 0.7597 - val_multi_gate_mixture_of_experts_accuracy: 0.8000 - val_multi_gate_mixture_of_experts_1_accuracy: 0.6771 - lr: 0.0010\n",
      "Epoch 43/100\n",
      "30/30 [==============================] - 2s 49ms/step - loss: 0.4923 - multi_gate_mixture_of_experts_loss: 0.3221 - multi_gate_mixture_of_experts_1_loss: 0.6625 - multi_gate_mixture_of_experts_accuracy: 0.8578 - multi_gate_mixture_of_experts_1_accuracy: 0.7401 - val_loss: 0.5768 - val_multi_gate_mixture_of_experts_loss: 0.3942 - val_multi_gate_mixture_of_experts_1_loss: 0.7594 - val_multi_gate_mixture_of_experts_accuracy: 0.8188 - val_multi_gate_mixture_of_experts_1_accuracy: 0.6896 - lr: 0.0010\n",
      "Epoch 44/100\n",
      "30/30 [==============================] - 1s 46ms/step - loss: 0.4625 - multi_gate_mixture_of_experts_loss: 0.3025 - multi_gate_mixture_of_experts_1_loss: 0.6226 - multi_gate_mixture_of_experts_accuracy: 0.8672 - multi_gate_mixture_of_experts_1_accuracy: 0.7484 - val_loss: 0.5484 - val_multi_gate_mixture_of_experts_loss: 0.3711 - val_multi_gate_mixture_of_experts_1_loss: 0.7256 - val_multi_gate_mixture_of_experts_accuracy: 0.8333 - val_multi_gate_mixture_of_experts_1_accuracy: 0.6896 - lr: 0.0010\n",
      "Epoch 45/100\n",
      "30/30 [==============================] - 1s 47ms/step - loss: 0.4429 - multi_gate_mixture_of_experts_loss: 0.2803 - multi_gate_mixture_of_experts_1_loss: 0.6056 - multi_gate_mixture_of_experts_accuracy: 0.8807 - multi_gate_mixture_of_experts_1_accuracy: 0.7682 - val_loss: 0.5360 - val_multi_gate_mixture_of_experts_loss: 0.3620 - val_multi_gate_mixture_of_experts_1_loss: 0.7100 - val_multi_gate_mixture_of_experts_accuracy: 0.8375 - val_multi_gate_mixture_of_experts_1_accuracy: 0.7063 - lr: 0.0010\n",
      "Epoch 46/100\n",
      "30/30 [==============================] - 2s 52ms/step - loss: 0.4424 - multi_gate_mixture_of_experts_loss: 0.2797 - multi_gate_mixture_of_experts_1_loss: 0.6051 - multi_gate_mixture_of_experts_accuracy: 0.8813 - multi_gate_mixture_of_experts_1_accuracy: 0.7656 - val_loss: 0.5367 - val_multi_gate_mixture_of_experts_loss: 0.3612 - val_multi_gate_mixture_of_experts_1_loss: 0.7122 - val_multi_gate_mixture_of_experts_accuracy: 0.8333 - val_multi_gate_mixture_of_experts_1_accuracy: 0.6979 - lr: 0.0010\n",
      "Epoch 47/100\n",
      "30/30 [==============================] - 2s 50ms/step - loss: 0.4578 - multi_gate_mixture_of_experts_loss: 0.2938 - multi_gate_mixture_of_experts_1_loss: 0.6218 - multi_gate_mixture_of_experts_accuracy: 0.8693 - multi_gate_mixture_of_experts_1_accuracy: 0.7479 - val_loss: 0.5395 - val_multi_gate_mixture_of_experts_loss: 0.3701 - val_multi_gate_mixture_of_experts_1_loss: 0.7088 - val_multi_gate_mixture_of_experts_accuracy: 0.8208 - val_multi_gate_mixture_of_experts_1_accuracy: 0.7229 - lr: 0.0010\n",
      "Epoch 48/100\n",
      "30/30 [==============================] - 2s 49ms/step - loss: 0.4491 - multi_gate_mixture_of_experts_loss: 0.2951 - multi_gate_mixture_of_experts_1_loss: 0.6031 - multi_gate_mixture_of_experts_accuracy: 0.8729 - multi_gate_mixture_of_experts_1_accuracy: 0.7688 - val_loss: 0.5408 - val_multi_gate_mixture_of_experts_loss: 0.3639 - val_multi_gate_mixture_of_experts_1_loss: 0.7176 - val_multi_gate_mixture_of_experts_accuracy: 0.8375 - val_multi_gate_mixture_of_experts_1_accuracy: 0.6917 - lr: 0.0010\n",
      "Epoch 49/100\n",
      "29/30 [============================>.] - ETA: 0s - loss: 0.4302 - multi_gate_mixture_of_experts_loss: 0.2749 - multi_gate_mixture_of_experts_1_loss: 0.5856 - multi_gate_mixture_of_experts_accuracy: 0.8842 - multi_gate_mixture_of_experts_1_accuracy: 0.7726\n",
      "Epoch 49: ReduceLROnPlateau reducing learning rate to 0.0005000000237487257.\n",
      "30/30 [==============================] - 1s 47ms/step - loss: 0.4300 - multi_gate_mixture_of_experts_loss: 0.2746 - multi_gate_mixture_of_experts_1_loss: 0.5855 - multi_gate_mixture_of_experts_accuracy: 0.8839 - multi_gate_mixture_of_experts_1_accuracy: 0.7729 - val_loss: 0.5379 - val_multi_gate_mixture_of_experts_loss: 0.3676 - val_multi_gate_mixture_of_experts_1_loss: 0.7082 - val_multi_gate_mixture_of_experts_accuracy: 0.8333 - val_multi_gate_mixture_of_experts_1_accuracy: 0.6896 - lr: 0.0010\n",
      "Epoch 50/100\n",
      "30/30 [==============================] - 1s 47ms/step - loss: 0.4119 - multi_gate_mixture_of_experts_loss: 0.2665 - multi_gate_mixture_of_experts_1_loss: 0.5573 - multi_gate_mixture_of_experts_accuracy: 0.8849 - multi_gate_mixture_of_experts_1_accuracy: 0.7849 - val_loss: 0.5415 - val_multi_gate_mixture_of_experts_loss: 0.3809 - val_multi_gate_mixture_of_experts_1_loss: 0.7020 - val_multi_gate_mixture_of_experts_accuracy: 0.8229 - val_multi_gate_mixture_of_experts_1_accuracy: 0.7063 - lr: 5.0000e-04\n",
      "Epoch 51/100\n",
      "30/30 [==============================] - 1s 48ms/step - loss: 0.4221 - multi_gate_mixture_of_experts_loss: 0.2810 - multi_gate_mixture_of_experts_1_loss: 0.5632 - multi_gate_mixture_of_experts_accuracy: 0.8844 - multi_gate_mixture_of_experts_1_accuracy: 0.7870 - val_loss: 0.5507 - val_multi_gate_mixture_of_experts_loss: 0.3867 - val_multi_gate_mixture_of_experts_1_loss: 0.7147 - val_multi_gate_mixture_of_experts_accuracy: 0.8271 - val_multi_gate_mixture_of_experts_1_accuracy: 0.6875 - lr: 5.0000e-04\n",
      "Epoch 52/100\n",
      "30/30 [==============================] - 1s 48ms/step - loss: 0.4111 - multi_gate_mixture_of_experts_loss: 0.2733 - multi_gate_mixture_of_experts_1_loss: 0.5488 - multi_gate_mixture_of_experts_accuracy: 0.8818 - multi_gate_mixture_of_experts_1_accuracy: 0.7964 - val_loss: 0.5674 - val_multi_gate_mixture_of_experts_loss: 0.4055 - val_multi_gate_mixture_of_experts_1_loss: 0.7293 - val_multi_gate_mixture_of_experts_accuracy: 0.8104 - val_multi_gate_mixture_of_experts_1_accuracy: 0.6854 - lr: 5.0000e-04\n",
      "Epoch 53/100\n",
      "30/30 [==============================] - 1s 48ms/step - loss: 0.4087 - multi_gate_mixture_of_experts_loss: 0.2650 - multi_gate_mixture_of_experts_1_loss: 0.5524 - multi_gate_mixture_of_experts_accuracy: 0.8906 - multi_gate_mixture_of_experts_1_accuracy: 0.7865 - val_loss: 0.5198 - val_multi_gate_mixture_of_experts_loss: 0.3627 - val_multi_gate_mixture_of_experts_1_loss: 0.6770 - val_multi_gate_mixture_of_experts_accuracy: 0.8396 - val_multi_gate_mixture_of_experts_1_accuracy: 0.7229 - lr: 5.0000e-04\n",
      "Epoch 54/100\n",
      "30/30 [==============================] - 1s 48ms/step - loss: 0.4175 - multi_gate_mixture_of_experts_loss: 0.2800 - multi_gate_mixture_of_experts_1_loss: 0.5550 - multi_gate_mixture_of_experts_accuracy: 0.8745 - multi_gate_mixture_of_experts_1_accuracy: 0.7854 - val_loss: 0.5182 - val_multi_gate_mixture_of_experts_loss: 0.3597 - val_multi_gate_mixture_of_experts_1_loss: 0.6767 - val_multi_gate_mixture_of_experts_accuracy: 0.8438 - val_multi_gate_mixture_of_experts_1_accuracy: 0.7083 - lr: 5.0000e-04\n",
      "Epoch 55/100\n",
      "30/30 [==============================] - 1s 47ms/step - loss: 0.4171 - multi_gate_mixture_of_experts_loss: 0.2760 - multi_gate_mixture_of_experts_1_loss: 0.5582 - multi_gate_mixture_of_experts_accuracy: 0.8880 - multi_gate_mixture_of_experts_1_accuracy: 0.8005 - val_loss: 0.5139 - val_multi_gate_mixture_of_experts_loss: 0.3575 - val_multi_gate_mixture_of_experts_1_loss: 0.6703 - val_multi_gate_mixture_of_experts_accuracy: 0.8438 - val_multi_gate_mixture_of_experts_1_accuracy: 0.7000 - lr: 5.0000e-04\n",
      "Epoch 56/100\n",
      "30/30 [==============================] - 1s 47ms/step - loss: 0.4013 - multi_gate_mixture_of_experts_loss: 0.2657 - multi_gate_mixture_of_experts_1_loss: 0.5369 - multi_gate_mixture_of_experts_accuracy: 0.8922 - multi_gate_mixture_of_experts_1_accuracy: 0.8005 - val_loss: 0.5214 - val_multi_gate_mixture_of_experts_loss: 0.3669 - val_multi_gate_mixture_of_experts_1_loss: 0.6758 - val_multi_gate_mixture_of_experts_accuracy: 0.8354 - val_multi_gate_mixture_of_experts_1_accuracy: 0.7208 - lr: 5.0000e-04\n",
      "Epoch 57/100\n",
      "30/30 [==============================] - 1s 48ms/step - loss: 0.3983 - multi_gate_mixture_of_experts_loss: 0.2634 - multi_gate_mixture_of_experts_1_loss: 0.5333 - multi_gate_mixture_of_experts_accuracy: 0.8885 - multi_gate_mixture_of_experts_1_accuracy: 0.7917 - val_loss: 0.5233 - val_multi_gate_mixture_of_experts_loss: 0.3703 - val_multi_gate_mixture_of_experts_1_loss: 0.6763 - val_multi_gate_mixture_of_experts_accuracy: 0.8271 - val_multi_gate_mixture_of_experts_1_accuracy: 0.7271 - lr: 5.0000e-04\n",
      "Epoch 58/100\n",
      "30/30 [==============================] - 1s 48ms/step - loss: 0.4029 - multi_gate_mixture_of_experts_loss: 0.2613 - multi_gate_mixture_of_experts_1_loss: 0.5445 - multi_gate_mixture_of_experts_accuracy: 0.8875 - multi_gate_mixture_of_experts_1_accuracy: 0.7911 - val_loss: 0.5278 - val_multi_gate_mixture_of_experts_loss: 0.3775 - val_multi_gate_mixture_of_experts_1_loss: 0.6781 - val_multi_gate_mixture_of_experts_accuracy: 0.8313 - val_multi_gate_mixture_of_experts_1_accuracy: 0.7104 - lr: 5.0000e-04\n",
      "Epoch 59/100\n",
      "30/30 [==============================] - ETA: 0s - loss: 0.4296 - multi_gate_mixture_of_experts_loss: 0.2683 - multi_gate_mixture_of_experts_1_loss: 0.5909 - multi_gate_mixture_of_experts_accuracy: 0.8865 - multi_gate_mixture_of_experts_1_accuracy: 0.7760\n",
      "Epoch 59: ReduceLROnPlateau reducing learning rate to 0.0002500000118743628.\n",
      "30/30 [==============================] - 1s 49ms/step - loss: 0.4296 - multi_gate_mixture_of_experts_loss: 0.2683 - multi_gate_mixture_of_experts_1_loss: 0.5909 - multi_gate_mixture_of_experts_accuracy: 0.8865 - multi_gate_mixture_of_experts_1_accuracy: 0.7760 - val_loss: 0.5159 - val_multi_gate_mixture_of_experts_loss: 0.3622 - val_multi_gate_mixture_of_experts_1_loss: 0.6696 - val_multi_gate_mixture_of_experts_accuracy: 0.8438 - val_multi_gate_mixture_of_experts_1_accuracy: 0.7167 - lr: 5.0000e-04\n",
      "Epoch 60/100\n",
      "30/30 [==============================] - 1s 48ms/step - loss: 0.3867 - multi_gate_mixture_of_experts_loss: 0.2548 - multi_gate_mixture_of_experts_1_loss: 0.5186 - multi_gate_mixture_of_experts_accuracy: 0.8948 - multi_gate_mixture_of_experts_1_accuracy: 0.8089 - val_loss: 0.5053 - val_multi_gate_mixture_of_experts_loss: 0.3576 - val_multi_gate_mixture_of_experts_1_loss: 0.6531 - val_multi_gate_mixture_of_experts_accuracy: 0.8458 - val_multi_gate_mixture_of_experts_1_accuracy: 0.7437 - lr: 2.5000e-04\n",
      "Epoch 61/100\n",
      "30/30 [==============================] - 2s 50ms/step - loss: 0.4057 - multi_gate_mixture_of_experts_loss: 0.2584 - multi_gate_mixture_of_experts_1_loss: 0.5529 - multi_gate_mixture_of_experts_accuracy: 0.8875 - multi_gate_mixture_of_experts_1_accuracy: 0.7953 - val_loss: 0.5140 - val_multi_gate_mixture_of_experts_loss: 0.3636 - val_multi_gate_mixture_of_experts_1_loss: 0.6645 - val_multi_gate_mixture_of_experts_accuracy: 0.8375 - val_multi_gate_mixture_of_experts_1_accuracy: 0.7396 - lr: 2.5000e-04\n",
      "Epoch 62/100\n",
      "30/30 [==============================] - 2s 50ms/step - loss: 0.3825 - multi_gate_mixture_of_experts_loss: 0.2546 - multi_gate_mixture_of_experts_1_loss: 0.5104 - multi_gate_mixture_of_experts_accuracy: 0.8927 - multi_gate_mixture_of_experts_1_accuracy: 0.8115 - val_loss: 0.5068 - val_multi_gate_mixture_of_experts_loss: 0.3592 - val_multi_gate_mixture_of_experts_1_loss: 0.6544 - val_multi_gate_mixture_of_experts_accuracy: 0.8500 - val_multi_gate_mixture_of_experts_1_accuracy: 0.7229 - lr: 2.5000e-04\n",
      "Epoch 63/100\n",
      "30/30 [==============================] - 2s 59ms/step - loss: 0.4009 - multi_gate_mixture_of_experts_loss: 0.2616 - multi_gate_mixture_of_experts_1_loss: 0.5401 - multi_gate_mixture_of_experts_accuracy: 0.8927 - multi_gate_mixture_of_experts_1_accuracy: 0.8021 - val_loss: 0.5144 - val_multi_gate_mixture_of_experts_loss: 0.3699 - val_multi_gate_mixture_of_experts_1_loss: 0.6589 - val_multi_gate_mixture_of_experts_accuracy: 0.8271 - val_multi_gate_mixture_of_experts_1_accuracy: 0.7354 - lr: 2.5000e-04\n",
      "Epoch 64/100\n",
      "30/30 [==============================] - ETA: 0s - loss: 0.3835 - multi_gate_mixture_of_experts_loss: 0.2552 - multi_gate_mixture_of_experts_1_loss: 0.5119 - multi_gate_mixture_of_experts_accuracy: 0.8932 - multi_gate_mixture_of_experts_1_accuracy: 0.8068\n",
      "Epoch 64: ReduceLROnPlateau reducing learning rate to 0.0001250000059371814.\n",
      "30/30 [==============================] - 1s 49ms/step - loss: 0.3835 - multi_gate_mixture_of_experts_loss: 0.2552 - multi_gate_mixture_of_experts_1_loss: 0.5119 - multi_gate_mixture_of_experts_accuracy: 0.8932 - multi_gate_mixture_of_experts_1_accuracy: 0.8068 - val_loss: 0.5090 - val_multi_gate_mixture_of_experts_loss: 0.3632 - val_multi_gate_mixture_of_experts_1_loss: 0.6549 - val_multi_gate_mixture_of_experts_accuracy: 0.8417 - val_multi_gate_mixture_of_experts_1_accuracy: 0.7417 - lr: 2.5000e-04\n",
      "Epoch 65/100\n",
      "30/30 [==============================] - 1s 49ms/step - loss: 0.3818 - multi_gate_mixture_of_experts_loss: 0.2485 - multi_gate_mixture_of_experts_1_loss: 0.5151 - multi_gate_mixture_of_experts_accuracy: 0.9005 - multi_gate_mixture_of_experts_1_accuracy: 0.8156 - val_loss: 0.5104 - val_multi_gate_mixture_of_experts_loss: 0.3617 - val_multi_gate_mixture_of_experts_1_loss: 0.6591 - val_multi_gate_mixture_of_experts_accuracy: 0.8438 - val_multi_gate_mixture_of_experts_1_accuracy: 0.7271 - lr: 1.2500e-04\n",
      "Epoch 66/100\n",
      "30/30 [==============================] - 1s 49ms/step - loss: 0.3816 - multi_gate_mixture_of_experts_loss: 0.2683 - multi_gate_mixture_of_experts_1_loss: 0.4950 - multi_gate_mixture_of_experts_accuracy: 0.8891 - multi_gate_mixture_of_experts_1_accuracy: 0.8177 - val_loss: 0.5044 - val_multi_gate_mixture_of_experts_loss: 0.3596 - val_multi_gate_mixture_of_experts_1_loss: 0.6491 - val_multi_gate_mixture_of_experts_accuracy: 0.8458 - val_multi_gate_mixture_of_experts_1_accuracy: 0.7333 - lr: 1.2500e-04\n",
      "Epoch 67/100\n",
      "30/30 [==============================] - 1s 49ms/step - loss: 0.3761 - multi_gate_mixture_of_experts_loss: 0.2519 - multi_gate_mixture_of_experts_1_loss: 0.5004 - multi_gate_mixture_of_experts_accuracy: 0.8927 - multi_gate_mixture_of_experts_1_accuracy: 0.8167 - val_loss: 0.5094 - val_multi_gate_mixture_of_experts_loss: 0.3635 - val_multi_gate_mixture_of_experts_1_loss: 0.6552 - val_multi_gate_mixture_of_experts_accuracy: 0.8354 - val_multi_gate_mixture_of_experts_1_accuracy: 0.7375 - lr: 1.2500e-04\n",
      "Epoch 68/100\n",
      "30/30 [==============================] - 1s 49ms/step - loss: 0.3740 - multi_gate_mixture_of_experts_loss: 0.2501 - multi_gate_mixture_of_experts_1_loss: 0.4980 - multi_gate_mixture_of_experts_accuracy: 0.8958 - multi_gate_mixture_of_experts_1_accuracy: 0.8214 - val_loss: 0.5015 - val_multi_gate_mixture_of_experts_loss: 0.3576 - val_multi_gate_mixture_of_experts_1_loss: 0.6453 - val_multi_gate_mixture_of_experts_accuracy: 0.8458 - val_multi_gate_mixture_of_experts_1_accuracy: 0.7417 - lr: 1.2500e-04\n",
      "Epoch 69/100\n",
      "30/30 [==============================] - 2s 50ms/step - loss: 0.3818 - multi_gate_mixture_of_experts_loss: 0.2487 - multi_gate_mixture_of_experts_1_loss: 0.5149 - multi_gate_mixture_of_experts_accuracy: 0.9000 - multi_gate_mixture_of_experts_1_accuracy: 0.8172 - val_loss: 0.5025 - val_multi_gate_mixture_of_experts_loss: 0.3580 - val_multi_gate_mixture_of_experts_1_loss: 0.6471 - val_multi_gate_mixture_of_experts_accuracy: 0.8458 - val_multi_gate_mixture_of_experts_1_accuracy: 0.7292 - lr: 1.2500e-04\n",
      "Epoch 70/100\n",
      "30/30 [==============================] - 1s 49ms/step - loss: 0.3717 - multi_gate_mixture_of_experts_loss: 0.2473 - multi_gate_mixture_of_experts_1_loss: 0.4961 - multi_gate_mixture_of_experts_accuracy: 0.9021 - multi_gate_mixture_of_experts_1_accuracy: 0.8172 - val_loss: 0.5027 - val_multi_gate_mixture_of_experts_loss: 0.3592 - val_multi_gate_mixture_of_experts_1_loss: 0.6463 - val_multi_gate_mixture_of_experts_accuracy: 0.8458 - val_multi_gate_mixture_of_experts_1_accuracy: 0.7396 - lr: 1.2500e-04\n",
      "Epoch 71/100\n",
      "30/30 [==============================] - 1s 49ms/step - loss: 0.3729 - multi_gate_mixture_of_experts_loss: 0.2471 - multi_gate_mixture_of_experts_1_loss: 0.4986 - multi_gate_mixture_of_experts_accuracy: 0.8995 - multi_gate_mixture_of_experts_1_accuracy: 0.8214 - val_loss: 0.5026 - val_multi_gate_mixture_of_experts_loss: 0.3578 - val_multi_gate_mixture_of_experts_1_loss: 0.6474 - val_multi_gate_mixture_of_experts_accuracy: 0.8396 - val_multi_gate_mixture_of_experts_1_accuracy: 0.7437 - lr: 1.2500e-04\n",
      "Epoch 72/100\n",
      "30/30 [==============================] - 1s 49ms/step - loss: 0.3686 - multi_gate_mixture_of_experts_loss: 0.2471 - multi_gate_mixture_of_experts_1_loss: 0.4902 - multi_gate_mixture_of_experts_accuracy: 0.9016 - multi_gate_mixture_of_experts_1_accuracy: 0.8234 - val_loss: 0.4973 - val_multi_gate_mixture_of_experts_loss: 0.3561 - val_multi_gate_mixture_of_experts_1_loss: 0.6385 - val_multi_gate_mixture_of_experts_accuracy: 0.8458 - val_multi_gate_mixture_of_experts_1_accuracy: 0.7458 - lr: 1.2500e-04\n",
      "Epoch 73/100\n",
      "30/30 [==============================] - 2s 50ms/step - loss: 0.3734 - multi_gate_mixture_of_experts_loss: 0.2470 - multi_gate_mixture_of_experts_1_loss: 0.4997 - multi_gate_mixture_of_experts_accuracy: 0.8984 - multi_gate_mixture_of_experts_1_accuracy: 0.8146 - val_loss: 0.5039 - val_multi_gate_mixture_of_experts_loss: 0.3600 - val_multi_gate_mixture_of_experts_1_loss: 0.6477 - val_multi_gate_mixture_of_experts_accuracy: 0.8479 - val_multi_gate_mixture_of_experts_1_accuracy: 0.7375 - lr: 1.2500e-04\n",
      "Epoch 74/100\n",
      "30/30 [==============================] - 2s 49ms/step - loss: 0.3740 - multi_gate_mixture_of_experts_loss: 0.2456 - multi_gate_mixture_of_experts_1_loss: 0.5023 - multi_gate_mixture_of_experts_accuracy: 0.8995 - multi_gate_mixture_of_experts_1_accuracy: 0.8224 - val_loss: 0.4967 - val_multi_gate_mixture_of_experts_loss: 0.3563 - val_multi_gate_mixture_of_experts_1_loss: 0.6372 - val_multi_gate_mixture_of_experts_accuracy: 0.8375 - val_multi_gate_mixture_of_experts_1_accuracy: 0.7458 - lr: 1.2500e-04\n",
      "Epoch 75/100\n",
      "30/30 [==============================] - 2s 50ms/step - loss: 0.3814 - multi_gate_mixture_of_experts_loss: 0.2662 - multi_gate_mixture_of_experts_1_loss: 0.4965 - multi_gate_mixture_of_experts_accuracy: 0.8823 - multi_gate_mixture_of_experts_1_accuracy: 0.8208 - val_loss: 0.4982 - val_multi_gate_mixture_of_experts_loss: 0.3565 - val_multi_gate_mixture_of_experts_1_loss: 0.6398 - val_multi_gate_mixture_of_experts_accuracy: 0.8479 - val_multi_gate_mixture_of_experts_1_accuracy: 0.7458 - lr: 1.2500e-04\n",
      "Epoch 76/100\n",
      "30/30 [==============================] - 2s 49ms/step - loss: 0.3738 - multi_gate_mixture_of_experts_loss: 0.2443 - multi_gate_mixture_of_experts_1_loss: 0.5032 - multi_gate_mixture_of_experts_accuracy: 0.8979 - multi_gate_mixture_of_experts_1_accuracy: 0.8141 - val_loss: 0.4975 - val_multi_gate_mixture_of_experts_loss: 0.3572 - val_multi_gate_mixture_of_experts_1_loss: 0.6378 - val_multi_gate_mixture_of_experts_accuracy: 0.8479 - val_multi_gate_mixture_of_experts_1_accuracy: 0.7458 - lr: 1.2500e-04\n",
      "Epoch 77/100\n",
      "30/30 [==============================] - 2s 50ms/step - loss: 0.3689 - multi_gate_mixture_of_experts_loss: 0.2469 - multi_gate_mixture_of_experts_1_loss: 0.4910 - multi_gate_mixture_of_experts_accuracy: 0.9042 - multi_gate_mixture_of_experts_1_accuracy: 0.8234 - val_loss: 0.4990 - val_multi_gate_mixture_of_experts_loss: 0.3586 - val_multi_gate_mixture_of_experts_1_loss: 0.6393 - val_multi_gate_mixture_of_experts_accuracy: 0.8396 - val_multi_gate_mixture_of_experts_1_accuracy: 0.7625 - lr: 1.2500e-04\n",
      "Epoch 78/100\n",
      "30/30 [==============================] - ETA: 0s - loss: 0.3692 - multi_gate_mixture_of_experts_loss: 0.2466 - multi_gate_mixture_of_experts_1_loss: 0.4918 - multi_gate_mixture_of_experts_accuracy: 0.9010 - multi_gate_mixture_of_experts_1_accuracy: 0.8271\n",
      "Epoch 78: ReduceLROnPlateau reducing learning rate to 0.0001.\n",
      "30/30 [==============================] - 2s 50ms/step - loss: 0.3692 - multi_gate_mixture_of_experts_loss: 0.2466 - multi_gate_mixture_of_experts_1_loss: 0.4918 - multi_gate_mixture_of_experts_accuracy: 0.9010 - multi_gate_mixture_of_experts_1_accuracy: 0.8271 - val_loss: 0.4977 - val_multi_gate_mixture_of_experts_loss: 0.3565 - val_multi_gate_mixture_of_experts_1_loss: 0.6389 - val_multi_gate_mixture_of_experts_accuracy: 0.8438 - val_multi_gate_mixture_of_experts_1_accuracy: 0.7417 - lr: 1.2500e-04\n",
      "Epoch 79/100\n",
      "30/30 [==============================] - 2s 50ms/step - loss: 0.3856 - multi_gate_mixture_of_experts_loss: 0.2457 - multi_gate_mixture_of_experts_1_loss: 0.5256 - multi_gate_mixture_of_experts_accuracy: 0.8979 - multi_gate_mixture_of_experts_1_accuracy: 0.8078 - val_loss: 0.5018 - val_multi_gate_mixture_of_experts_loss: 0.3613 - val_multi_gate_mixture_of_experts_1_loss: 0.6423 - val_multi_gate_mixture_of_experts_accuracy: 0.8375 - val_multi_gate_mixture_of_experts_1_accuracy: 0.7500 - lr: 1.0000e-04\n",
      "Epoch 80/100\n",
      "30/30 [==============================] - 1s 49ms/step - loss: 0.3801 - multi_gate_mixture_of_experts_loss: 0.2578 - multi_gate_mixture_of_experts_1_loss: 0.5024 - multi_gate_mixture_of_experts_accuracy: 0.8927 - multi_gate_mixture_of_experts_1_accuracy: 0.8214 - val_loss: 0.4960 - val_multi_gate_mixture_of_experts_loss: 0.3569 - val_multi_gate_mixture_of_experts_1_loss: 0.6352 - val_multi_gate_mixture_of_experts_accuracy: 0.8396 - val_multi_gate_mixture_of_experts_1_accuracy: 0.7563 - lr: 1.0000e-04\n",
      "Epoch 81/100\n",
      "30/30 [==============================] - 2s 55ms/step - loss: 0.3713 - multi_gate_mixture_of_experts_loss: 0.2506 - multi_gate_mixture_of_experts_1_loss: 0.4919 - multi_gate_mixture_of_experts_accuracy: 0.8990 - multi_gate_mixture_of_experts_1_accuracy: 0.8198 - val_loss: 0.5246 - val_multi_gate_mixture_of_experts_loss: 0.3831 - val_multi_gate_mixture_of_experts_1_loss: 0.6661 - val_multi_gate_mixture_of_experts_accuracy: 0.8271 - val_multi_gate_mixture_of_experts_1_accuracy: 0.7271 - lr: 1.0000e-04\n",
      "Epoch 82/100\n",
      "30/30 [==============================] - 2s 55ms/step - loss: 0.3898 - multi_gate_mixture_of_experts_loss: 0.2459 - multi_gate_mixture_of_experts_1_loss: 0.5336 - multi_gate_mixture_of_experts_accuracy: 0.8974 - multi_gate_mixture_of_experts_1_accuracy: 0.7979 - val_loss: 0.4959 - val_multi_gate_mixture_of_experts_loss: 0.3573 - val_multi_gate_mixture_of_experts_1_loss: 0.6344 - val_multi_gate_mixture_of_experts_accuracy: 0.8479 - val_multi_gate_mixture_of_experts_1_accuracy: 0.7479 - lr: 1.0000e-04\n",
      "Epoch 83/100\n",
      "30/30 [==============================] - 2s 53ms/step - loss: 0.3724 - multi_gate_mixture_of_experts_loss: 0.2488 - multi_gate_mixture_of_experts_1_loss: 0.4960 - multi_gate_mixture_of_experts_accuracy: 0.8958 - multi_gate_mixture_of_experts_1_accuracy: 0.8156 - val_loss: 0.5024 - val_multi_gate_mixture_of_experts_loss: 0.3629 - val_multi_gate_mixture_of_experts_1_loss: 0.6420 - val_multi_gate_mixture_of_experts_accuracy: 0.8417 - val_multi_gate_mixture_of_experts_1_accuracy: 0.7437 - lr: 1.0000e-04\n",
      "Epoch 84/100\n",
      "30/30 [==============================] - 1s 49ms/step - loss: 0.3688 - multi_gate_mixture_of_experts_loss: 0.2443 - multi_gate_mixture_of_experts_1_loss: 0.4932 - multi_gate_mixture_of_experts_accuracy: 0.9016 - multi_gate_mixture_of_experts_1_accuracy: 0.8260 - val_loss: 0.4963 - val_multi_gate_mixture_of_experts_loss: 0.3575 - val_multi_gate_mixture_of_experts_1_loss: 0.6352 - val_multi_gate_mixture_of_experts_accuracy: 0.8458 - val_multi_gate_mixture_of_experts_1_accuracy: 0.7458 - lr: 1.0000e-04\n",
      "Epoch 85/100\n",
      "30/30 [==============================] - 2s 49ms/step - loss: 0.3688 - multi_gate_mixture_of_experts_loss: 0.2455 - multi_gate_mixture_of_experts_1_loss: 0.4920 - multi_gate_mixture_of_experts_accuracy: 0.9026 - multi_gate_mixture_of_experts_1_accuracy: 0.8266 - val_loss: 0.4969 - val_multi_gate_mixture_of_experts_loss: 0.3585 - val_multi_gate_mixture_of_experts_1_loss: 0.6354 - val_multi_gate_mixture_of_experts_accuracy: 0.8458 - val_multi_gate_mixture_of_experts_1_accuracy: 0.7542 - lr: 1.0000e-04\n",
      "Epoch 86/100\n",
      "30/30 [==============================] - 2s 50ms/step - loss: 0.3622 - multi_gate_mixture_of_experts_loss: 0.2458 - multi_gate_mixture_of_experts_1_loss: 0.4786 - multi_gate_mixture_of_experts_accuracy: 0.9031 - multi_gate_mixture_of_experts_1_accuracy: 0.8281 - val_loss: 0.4936 - val_multi_gate_mixture_of_experts_loss: 0.3569 - val_multi_gate_mixture_of_experts_1_loss: 0.6303 - val_multi_gate_mixture_of_experts_accuracy: 0.8354 - val_multi_gate_mixture_of_experts_1_accuracy: 0.7542 - lr: 1.0000e-04\n",
      "Epoch 87/100\n",
      "30/30 [==============================] - 2s 50ms/step - loss: 0.3707 - multi_gate_mixture_of_experts_loss: 0.2438 - multi_gate_mixture_of_experts_1_loss: 0.4975 - multi_gate_mixture_of_experts_accuracy: 0.9031 - multi_gate_mixture_of_experts_1_accuracy: 0.8177 - val_loss: 0.4961 - val_multi_gate_mixture_of_experts_loss: 0.3581 - val_multi_gate_mixture_of_experts_1_loss: 0.6341 - val_multi_gate_mixture_of_experts_accuracy: 0.8458 - val_multi_gate_mixture_of_experts_1_accuracy: 0.7479 - lr: 1.0000e-04\n",
      "Epoch 88/100\n",
      "30/30 [==============================] - 2s 50ms/step - loss: 0.3598 - multi_gate_mixture_of_experts_loss: 0.2423 - multi_gate_mixture_of_experts_1_loss: 0.4774 - multi_gate_mixture_of_experts_accuracy: 0.9042 - multi_gate_mixture_of_experts_1_accuracy: 0.8302 - val_loss: 0.5009 - val_multi_gate_mixture_of_experts_loss: 0.3619 - val_multi_gate_mixture_of_experts_1_loss: 0.6400 - val_multi_gate_mixture_of_experts_accuracy: 0.8375 - val_multi_gate_mixture_of_experts_1_accuracy: 0.7396 - lr: 1.0000e-04\n",
      "Epoch 89/100\n",
      "30/30 [==============================] - 2s 51ms/step - loss: 0.3732 - multi_gate_mixture_of_experts_loss: 0.2439 - multi_gate_mixture_of_experts_1_loss: 0.5026 - multi_gate_mixture_of_experts_accuracy: 0.9036 - multi_gate_mixture_of_experts_1_accuracy: 0.8240 - val_loss: 0.5029 - val_multi_gate_mixture_of_experts_loss: 0.3640 - val_multi_gate_mixture_of_experts_1_loss: 0.6418 - val_multi_gate_mixture_of_experts_accuracy: 0.8417 - val_multi_gate_mixture_of_experts_1_accuracy: 0.7396 - lr: 1.0000e-04\n",
      "Epoch 90/100\n",
      "30/30 [==============================] - 2s 51ms/step - loss: 0.3631 - multi_gate_mixture_of_experts_loss: 0.2432 - multi_gate_mixture_of_experts_1_loss: 0.4831 - multi_gate_mixture_of_experts_accuracy: 0.9005 - multi_gate_mixture_of_experts_1_accuracy: 0.8281 - val_loss: 0.4958 - val_multi_gate_mixture_of_experts_loss: 0.3569 - val_multi_gate_mixture_of_experts_1_loss: 0.6347 - val_multi_gate_mixture_of_experts_accuracy: 0.8458 - val_multi_gate_mixture_of_experts_1_accuracy: 0.7396 - lr: 1.0000e-04\n",
      "Epoch 91/100\n",
      "30/30 [==============================] - 2s 51ms/step - loss: 0.3665 - multi_gate_mixture_of_experts_loss: 0.2421 - multi_gate_mixture_of_experts_1_loss: 0.4909 - multi_gate_mixture_of_experts_accuracy: 0.9026 - multi_gate_mixture_of_experts_1_accuracy: 0.8255 - val_loss: 0.4947 - val_multi_gate_mixture_of_experts_loss: 0.3571 - val_multi_gate_mixture_of_experts_1_loss: 0.6323 - val_multi_gate_mixture_of_experts_accuracy: 0.8375 - val_multi_gate_mixture_of_experts_1_accuracy: 0.7563 - lr: 1.0000e-04\n",
      "Epoch 92/100\n",
      "30/30 [==============================] - 2s 50ms/step - loss: 0.3612 - multi_gate_mixture_of_experts_loss: 0.2489 - multi_gate_mixture_of_experts_1_loss: 0.4735 - multi_gate_mixture_of_experts_accuracy: 0.8990 - multi_gate_mixture_of_experts_1_accuracy: 0.8292 - val_loss: 0.4913 - val_multi_gate_mixture_of_experts_loss: 0.3558 - val_multi_gate_mixture_of_experts_1_loss: 0.6269 - val_multi_gate_mixture_of_experts_accuracy: 0.8500 - val_multi_gate_mixture_of_experts_1_accuracy: 0.7604 - lr: 1.0000e-04\n",
      "Epoch 93/100\n",
      "30/30 [==============================] - 2s 50ms/step - loss: 0.3602 - multi_gate_mixture_of_experts_loss: 0.2454 - multi_gate_mixture_of_experts_1_loss: 0.4751 - multi_gate_mixture_of_experts_accuracy: 0.8969 - multi_gate_mixture_of_experts_1_accuracy: 0.8271 - val_loss: 0.5114 - val_multi_gate_mixture_of_experts_loss: 0.3740 - val_multi_gate_mixture_of_experts_1_loss: 0.6487 - val_multi_gate_mixture_of_experts_accuracy: 0.8229 - val_multi_gate_mixture_of_experts_1_accuracy: 0.7396 - lr: 1.0000e-04\n",
      "Epoch 94/100\n",
      "30/30 [==============================] - 1s 49ms/step - loss: 0.3873 - multi_gate_mixture_of_experts_loss: 0.2400 - multi_gate_mixture_of_experts_1_loss: 0.5346 - multi_gate_mixture_of_experts_accuracy: 0.8984 - multi_gate_mixture_of_experts_1_accuracy: 0.8052 - val_loss: 0.4952 - val_multi_gate_mixture_of_experts_loss: 0.3562 - val_multi_gate_mixture_of_experts_1_loss: 0.6343 - val_multi_gate_mixture_of_experts_accuracy: 0.8500 - val_multi_gate_mixture_of_experts_1_accuracy: 0.7333 - lr: 1.0000e-04\n",
      "Epoch 95/100\n",
      "30/30 [==============================] - 1s 49ms/step - loss: 0.3592 - multi_gate_mixture_of_experts_loss: 0.2445 - multi_gate_mixture_of_experts_1_loss: 0.4739 - multi_gate_mixture_of_experts_accuracy: 0.9026 - multi_gate_mixture_of_experts_1_accuracy: 0.8260 - val_loss: 0.4912 - val_multi_gate_mixture_of_experts_loss: 0.3558 - val_multi_gate_mixture_of_experts_1_loss: 0.6265 - val_multi_gate_mixture_of_experts_accuracy: 0.8479 - val_multi_gate_mixture_of_experts_1_accuracy: 0.7604 - lr: 1.0000e-04\n",
      "Epoch 96/100\n",
      "30/30 [==============================] - 1s 48ms/step - loss: 0.3701 - multi_gate_mixture_of_experts_loss: 0.2520 - multi_gate_mixture_of_experts_1_loss: 0.4882 - multi_gate_mixture_of_experts_accuracy: 0.8984 - multi_gate_mixture_of_experts_1_accuracy: 0.8276 - val_loss: 0.4940 - val_multi_gate_mixture_of_experts_loss: 0.3587 - val_multi_gate_mixture_of_experts_1_loss: 0.6293 - val_multi_gate_mixture_of_experts_accuracy: 0.8479 - val_multi_gate_mixture_of_experts_1_accuracy: 0.7542 - lr: 1.0000e-04\n",
      "Epoch 97/100\n",
      "30/30 [==============================] - 1s 48ms/step - loss: 0.3646 - multi_gate_mixture_of_experts_loss: 0.2572 - multi_gate_mixture_of_experts_1_loss: 0.4719 - multi_gate_mixture_of_experts_accuracy: 0.8932 - multi_gate_mixture_of_experts_1_accuracy: 0.8344 - val_loss: 0.4944 - val_multi_gate_mixture_of_experts_loss: 0.3583 - val_multi_gate_mixture_of_experts_1_loss: 0.6305 - val_multi_gate_mixture_of_experts_accuracy: 0.8458 - val_multi_gate_mixture_of_experts_1_accuracy: 0.7521 - lr: 1.0000e-04\n",
      "Epoch 98/100\n",
      "30/30 [==============================] - 2s 51ms/step - loss: 0.3643 - multi_gate_mixture_of_experts_loss: 0.2526 - multi_gate_mixture_of_experts_1_loss: 0.4761 - multi_gate_mixture_of_experts_accuracy: 0.8953 - multi_gate_mixture_of_experts_1_accuracy: 0.8292 - val_loss: 0.4916 - val_multi_gate_mixture_of_experts_loss: 0.3578 - val_multi_gate_mixture_of_experts_1_loss: 0.6254 - val_multi_gate_mixture_of_experts_accuracy: 0.8417 - val_multi_gate_mixture_of_experts_1_accuracy: 0.7625 - lr: 1.0000e-04\n",
      "Epoch 99/100\n",
      "30/30 [==============================] - 2s 60ms/step - loss: 0.3566 - multi_gate_mixture_of_experts_loss: 0.2404 - multi_gate_mixture_of_experts_1_loss: 0.4728 - multi_gate_mixture_of_experts_accuracy: 0.9052 - multi_gate_mixture_of_experts_1_accuracy: 0.8354 - val_loss: 0.4911 - val_multi_gate_mixture_of_experts_loss: 0.3562 - val_multi_gate_mixture_of_experts_1_loss: 0.6260 - val_multi_gate_mixture_of_experts_accuracy: 0.8500 - val_multi_gate_mixture_of_experts_1_accuracy: 0.7563 - lr: 1.0000e-04\n",
      "Epoch 100/100\n",
      "30/30 [==============================] - 1s 47ms/step - loss: 0.3635 - multi_gate_mixture_of_experts_loss: 0.2392 - multi_gate_mixture_of_experts_1_loss: 0.4879 - multi_gate_mixture_of_experts_accuracy: 0.9036 - multi_gate_mixture_of_experts_1_accuracy: 0.8208 - val_loss: 0.4975 - val_multi_gate_mixture_of_experts_loss: 0.3630 - val_multi_gate_mixture_of_experts_1_loss: 0.6320 - val_multi_gate_mixture_of_experts_accuracy: 0.8417 - val_multi_gate_mixture_of_experts_1_accuracy: 0.7500 - lr: 1.0000e-04\n"
     ]
    }
   ],
   "source": [
    "reduce_lr = ReduceLROnPlateau(factor=0.5, patience=4, min_lr=0.0001, verbose=1)\n",
    "early_stopping = EarlyStopping(verbose=1, patience=patience)\n",
    "\n",
    "history = multitask_model.fit(\n",
    "    train_dataset,\n",
    "    epochs=epochs,\n",
    "    validation_data=val_dataset,\n",
    "    callbacks=[reduce_lr, early_stopping],\n",
    ")"
   ],
   "metadata": {
    "collapsed": false,
    "ExecuteTime": {
     "end_time": "2023-07-02T18:18:35.371465600Z",
     "start_time": "2023-07-02T18:15:59.620745Z"
    }
   }
  },
  {
   "cell_type": "code",
   "execution_count": 14,
   "outputs": [
    {
     "data": {
      "text/plain": "<Figure size 432x288 with 1 Axes>",
      "image/png": "[encoded data removed]"
     },
     "metadata": {
      "needs_background": "light"
     },
     "output_type": "display_data"
    },
    {
     "data": {
      "text/plain": "<Figure size 432x288 with 1 Axes>",
      "image/png": "[encoded data removed]"
     },
     "metadata": {
      "needs_background": "light"
     },
     "output_type": "display_data"
    },
    {
     "data": {
      "text/plain": "<Figure size 432x288 with 1 Axes>",
      "image/png": "[encoded data removed]"
     },
     "metadata": {
      "needs_background": "light"
     },
     "output_type": "display_data"
    }
   ],
   "source": [
    "metrics = history.history\n",
    "plt.title('Total Loss')\n",
    "plt.xlabel('Epoch')\n",
    "plt.ylabel('Loss')\n",
    "plt.plot(history.epoch, metrics['loss'], metrics['val_loss'])\n",
    "plt.legend(['loss', 'val_loss'])\n",
    "plt.show()\n",
    "\n",
    "plt.title('Detection Loss')\n",
    "plt.xlabel('Epoch')\n",
    "plt.ylabel('Loss')\n",
    "plt.plot(history.epoch, metrics['multi_gate_mixture_of_experts_loss'], metrics['val_multi_gate_mixture_of_experts_loss'])\n",
    "plt.legend(['loss', 'val_loss'])\n",
    "plt.show()\n",
    "\n",
    "plt.title('Classification Loss')\n",
    "plt.xlabel('Epoch')\n",
    "plt.ylabel('Loss')\n",
    "plt.plot(history.epoch, metrics['multi_gate_mixture_of_experts_1_loss'], metrics['val_multi_gate_mixture_of_experts_1_loss'])\n",
    "plt.legend(['loss', 'val_loss'])\n",
    "plt.show()"
   ],
   "metadata": {
    "collapsed": false,
    "ExecuteTime": {
     "end_time": "2023-07-02T18:18:35.811635800Z",
     "start_time": "2023-07-02T18:18:35.371465600Z"
    }
   }
  },
  {
   "cell_type": "code",
   "execution_count": 15,
   "outputs": [
    {
     "name": "stdout",
     "output_type": "stream",
     "text": [
      "19/19 [==============================] - 0s 7ms/step\n",
      "\n",
      "Evaluation on the test set:\n",
      "False alarm prob: 20.43%\n",
      "Miss detection prob: 15.94%\n",
      "Number of False Positives: 38\n",
      "Number of False Negatives: 66\n",
      "Detector f1-score is 87.000000%\n",
      "\n",
      "Other Metrics:\n",
      "Detector accuracy is 82.666667%\n",
      "Detector precision is 90.155440%\n",
      "Detector recall is 84.057971%\n"
     ]
    }
   ],
   "source": [
    "test_features = test_dataset[0]\n",
    "predictions = multitask_model.predict(test_features, verbose=1)\n",
    "\n",
    "y_pred = np.rint(predictions[0]).astype(int).flatten()\n",
    "y_true = test_dataset[1]['detection']\n",
    "\n",
    "detection_report(y_true, y_pred)"
   ],
   "metadata": {
    "collapsed": false,
    "ExecuteTime": {
     "end_time": "2023-07-02T18:18:36.234855800Z",
     "start_time": "2023-07-02T18:18:35.811635800Z"
    }
   }
  },
  {
   "cell_type": "code",
   "execution_count": 16,
   "outputs": [
    {
     "name": "stdout",
     "output_type": "stream",
     "text": [
      "              precision    recall  f1-score   support\n",
      "\n",
      "           0     0.6408    0.8441    0.7285       186\n",
      "           1     0.8025    0.6117    0.6942       206\n",
      "           2     0.7323    0.6971    0.7143       208\n",
      "\n",
      "    accuracy                         0.7133       600\n",
      "   macro avg     0.7252    0.7176    0.7123       600\n",
      "weighted avg     0.7281    0.7133    0.7118       600\n",
      "\n"
     ]
    },
    {
     "data": {
      "text/plain": "<Figure size 720x576 with 2 Axes>",
      "image/png": "[encoded data removed]"
     },
     "metadata": {
      "needs_background": "light"
     },
     "output_type": "display_data"
    }
   ],
   "source": [
    "y_pred = np.argmax(predictions[1], axis=1)\n",
    "y_true = test_dataset[1]['classification']\n",
    "\n",
    "print(classification_report(y_true, y_pred, digits=4))\n",
    "plot_confusion_matrix(list(class_dict.keys()), y_true, y_pred)"
   ],
   "metadata": {
    "collapsed": false,
    "ExecuteTime": {
     "end_time": "2023-07-02T18:18:36.406898300Z",
     "start_time": "2023-07-02T18:18:36.234855800Z"
    }
   }
  },
  {
   "cell_type": "code",
   "execution_count": 17,
   "outputs": [
    {
     "name": "stderr",
     "output_type": "stream",
     "text": [
      "WARNING:absl:Found untraced functions such as _update_step_xla, _jit_compiled_convolution_op, _jit_compiled_convolution_op, _jit_compiled_convolution_op, dense_layer_call_fn while saving (showing 5 of 26). These functions will not be directly callable after loading.\n"
     ]
    },
    {
     "name": "stdout",
     "output_type": "stream",
     "text": [
      "INFO:tensorflow:Assets written to: ../../Models/mmoe_model\\assets\n"
     ]
    },
    {
     "name": "stderr",
     "output_type": "stream",
     "text": [
      "INFO:tensorflow:Assets written to: ../../Models/mmoe_model\\assets\n"
     ]
    },
    {
     "name": "stdout",
     "output_type": "stream",
     "text": [
      "Float model is 30280 bytes\n"
     ]
    }
   ],
   "source": [
    "multitask_model.save(MODEL_TF)\n",
    "convert_tf_lite(MODEL_TF, MODEL_NO_QUANT_TFLITE)"
   ],
   "metadata": {
    "collapsed": false,
    "ExecuteTime": {
     "end_time": "2023-07-02T18:18:40.877761100Z",
     "start_time": "2023-07-02T18:18:36.406898300Z"
    }
   }
  },
  {
   "cell_type": "code",
   "execution_count": 18,
   "outputs": [],
   "source": [
    "def representative_dataset():\n",
    "    for feature, label in train_dataset.take(100):\n",
    "        yield {\n",
    "            \"input_1\": feature.numpy(),\n",
    "            # \"detection\": label['multi_gate_mixture_of_experts'].numpy(),\n",
    "            # \"classification\": label['multi_gate_mixture_of_experts_1'].numpy(),\n",
    "        }"
   ],
   "metadata": {
    "collapsed": false,
    "ExecuteTime": {
     "end_time": "2023-07-02T18:18:40.924562600Z",
     "start_time": "2023-07-02T18:18:40.877761100Z"
    }
   }
  },
  {
   "cell_type": "code",
   "execution_count": 19,
   "outputs": [
    {
     "name": "stdout",
     "output_type": "stream",
     "text": [
      "Quantized model is 28480 bytes\n"
     ]
    }
   ],
   "source": [
    "# Define the input and output details for TensorFlow Lite\n",
    "input_details = multitask_model.input\n",
    "output_details = [multitask_model.output[0], multitask_model.output[1]]\n",
    "# Convert to TensorFlow Lite model\n",
    "convert_tf_lite_mtl(MODEL_TF, MODEL_TFLITE, representative_dataset, output_details)"
   ],
   "metadata": {
    "collapsed": false,
    "ExecuteTime": {
     "end_time": "2023-07-02T18:18:44.276344500Z",
     "start_time": "2023-07-02T18:18:40.893225400Z"
    }
   }
  },
  {
   "cell_type": "raw",
   "source": [
    "# Convert the model to the TensorFlow Lite format with quantization\n",
    "converter = tf.lite.TFLiteConverter.from_saved_model(MODEL_TF)\n",
    "# Set the optimization flag.\n",
    "converter.optimizations = [tf.lite.Optimize.DEFAULT]\n",
    "# Enforce integer only quantization\n",
    "converter.target_spec.supported_ops = [tf.lite.OpsSet.TFLITE_BUILTINS_INT8]\n",
    "converter.inference_input_type = tf.int8  # or tf.uint8\n",
    "converter.inference_output_type = tf.int8  # or tf.uint8\n",
    "converter.allow_custom_ops = True\n",
    "converter.output_details = output_details # set output_details\n",
    "converter.representative_dataset = representative_dataset\n",
    "\n",
    "\n",
    "tflite_model = converter.convert()\n",
    "tflite_model_size = open(MODEL_TFLITE, \"wb\").write(tflite_model)\n",
    "print(\"Quantized model is %d bytes\" % tflite_model_size)"
   ],
   "metadata": {
    "collapsed": false
   }
  },
  {
   "cell_type": "code",
   "execution_count": 20,
   "outputs": [
    {
     "data": {
      "text/plain": "                                   Size                           \nModel                                                             \nTensorFlow                 566944 bytes                           \nTensorFlow Lite            30280 bytes   (reduced by 536664 bytes)\nTensorFlow Lite Quantized   28480 bytes    (reduced by 1800 bytes)",
      "text/html": "<div>\n<style scoped>\n    .dataframe tbody tr th:only-of-type {\n        vertical-align: middle;\n    }\n\n    .dataframe tbody tr th {\n        vertical-align: top;\n    }\n\n    .dataframe thead th {\n        text-align: right;\n    }\n</style>\n<table border=\"1\" class=\"dataframe\">\n  <thead>\n    <tr style=\"text-align: right;\">\n      <th></th>\n      <th>Size</th>\n      <th></th>\n    </tr>\n    <tr>\n      <th>Model</th>\n      <th></th>\n      <th></th>\n    </tr>\n  </thead>\n  <tbody>\n    <tr>\n      <th>TensorFlow</th>\n      <td>566944 bytes</td>\n      <td></td>\n    </tr>\n    <tr>\n      <th>TensorFlow Lite</th>\n      <td>30280 bytes</td>\n      <td>(reduced by 536664 bytes)</td>\n    </tr>\n    <tr>\n      <th>TensorFlow Lite Quantized</th>\n      <td>28480 bytes</td>\n      <td>(reduced by 1800 bytes)</td>\n    </tr>\n  </tbody>\n</table>\n</div>"
     },
     "execution_count": 20,
     "metadata": {},
     "output_type": "execute_result"
    }
   ],
   "source": [
    "compare_size(multitask_model, batch_size, MODEL_NO_QUANT_TFLITE, MODEL_TFLITE)"
   ],
   "metadata": {
    "collapsed": false,
    "ExecuteTime": {
     "end_time": "2023-07-02T18:18:44.323286400Z",
     "start_time": "2023-07-02T18:18:44.276344500Z"
    }
   }
  },
  {
   "cell_type": "code",
   "execution_count": null,
   "outputs": [],
   "source": [
    "y_pred_det, y_pred_class = predict_tflite_mtl(MODEL_TFLITE, test_features)\n",
    "\n",
    "print('%s model detection accuracy is %f%% (Number of test samples=%d)' % (\n",
    "    'Quantized', accuracy_score(test_dataset[1]['detection'], y_pred_det) * 100, len(test_features)))"
   ],
   "metadata": {
    "collapsed": false
   }
  },
  {
   "cell_type": "code",
   "execution_count": null,
   "outputs": [],
   "source": [
    "print(classification_report(test_dataset[1]['classification'], y_pred_class, digits=4))\n",
    "plot_confusion_matrix(list(class_dict.keys()), test_dataset[1]['classification'], y_pred_class)"
   ],
   "metadata": {
    "collapsed": false
   }
  },
  {
   "cell_type": "code",
   "execution_count": null,
   "outputs": [],
   "source": [],
   "metadata": {
    "collapsed": false
   }
  }
 ],
 "metadata": {
  "kernelspec": {
   "display_name": "Python 3",
   "language": "python",
   "name": "python3"
  },
  "language_info": {
   "codemirror_mode": {
    "name": "ipython",
    "version": 2
   },
   "file_extension": ".py",
   "mimetype": "text/x-python",
   "name": "python",
   "nbconvert_exporter": "python",
   "pygments_lexer": "ipython2",
   "version": "2.7.6"
  }
 },
 "nbformat": 4,
 "nbformat_minor": 0
}
