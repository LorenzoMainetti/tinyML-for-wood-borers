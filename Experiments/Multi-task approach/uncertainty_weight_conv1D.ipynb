{
 "cells": [
  {
   "cell_type": "code",
   "execution_count": null,
   "metadata": {
    "collapsed": true
   },
   "outputs": [],
   "source": [
    "import sys\n",
    "\n",
    "sys.path.append('../../')\n",
    "\n",
    "import os\n",
    "import tensorflow as tf\n",
    "import numpy as np\n",
    "from sklearn.metrics import accuracy_score, classification_report\n",
    "from matplotlib import pyplot as plt\n",
    "from keras.callbacks import ReduceLROnPlateau, EarlyStopping\n",
    "import keras.backend as K\n",
    "from Pipeline.Multi_task.uncertainty_weighting import CustomMultiLossLayer\n",
    "from keras.layers import Dense, Conv1D, MaxPool1D, Lambda\n",
    "from keras import Input, Model\n",
    "from keras import Sequential\n",
    "\n",
    "from Pipeline.preprocess import BandpassFilter\n",
    "from Pipeline.tf_dataset_builder import RawDatasetBuilder\n",
    "from Pipeline.evaluation import false_alarm_rate, miss_detection_rate\n",
    "from Pipeline.tf_lite_utils import predict_tflite_mtl, convert_tf_lite_mtl\n",
    "from Pipeline.evaluation import plot_confusion_matrix"
   ]
  },
  {
   "cell_type": "code",
   "execution_count": 2,
   "outputs": [],
   "source": [
    "# Set seed for experiment reproducibility\n",
    "seed = 1\n",
    "tf.random.set_seed(seed)"
   ],
   "metadata": {
    "collapsed": false,
    "ExecuteTime": {
     "end_time": "2023-06-11T10:53:13.633042700Z",
     "start_time": "2023-06-11T10:53:13.616923800Z"
    }
   }
  },
  {
   "cell_type": "code",
   "execution_count": 3,
   "outputs": [],
   "source": [
    "# Define paths to model files\n",
    "MODELS_DIR = '../../Models/'\n",
    "if not os.path.exists(MODELS_DIR):\n",
    "    os.mkdir(MODELS_DIR)\n",
    "MODEL_TF = MODELS_DIR + 'uw_model'\n",
    "MODEL_NO_QUANT_TFLITE = MODELS_DIR + 'uw_model_no_quant.tflite'\n",
    "MODEL_TFLITE = MODELS_DIR + 'uw_model.tflite'"
   ],
   "metadata": {
    "collapsed": false,
    "ExecuteTime": {
     "end_time": "2023-06-11T10:53:13.648434100Z",
     "start_time": "2023-06-11T10:53:13.633042700Z"
    }
   }
  },
  {
   "cell_type": "code",
   "execution_count": 4,
   "outputs": [],
   "source": [
    "class_dict = {\n",
    "    'Background': 0,\n",
    "    'Big mandibles': 1,\n",
    "    'Small mandibles': 2,\n",
    "}"
   ],
   "metadata": {
    "collapsed": false,
    "ExecuteTime": {
     "end_time": "2023-06-11T10:53:13.664545800Z",
     "start_time": "2023-06-11T10:53:13.648434100Z"
    }
   }
  },
  {
   "cell_type": "code",
   "execution_count": 5,
   "outputs": [],
   "source": [
    "# Set hyperparameters\n",
    "batch_size = 64\n",
    "learning_rate = 0.0005\n",
    "epochs = 100\n",
    "patience = 5\n",
    "gamma = 0.5"
   ],
   "metadata": {
    "collapsed": false,
    "ExecuteTime": {
     "end_time": "2023-06-11T10:53:13.680450400Z",
     "start_time": "2023-06-11T10:53:13.664545800Z"
    }
   }
  },
  {
   "cell_type": "code",
   "execution_count": 6,
   "outputs": [],
   "source": [
    "# Load the data: raw extraction\n",
    "raw_builder = RawDatasetBuilder(\n",
    "    #dataset_dir=\"../../Dataset/Generated dataset/Deployment/unstandardized/50ms/**/*.wav\",\n",
    "    dataset_dir=\"../../Dataset/Final dataset/Generation/Generated dataset/**/*.wav\",\n",
    "    class_dict=class_dict,\n",
    "    seed=seed,\n",
    ")\n",
    "train_dataset, val_dataset, test_dataset = raw_builder.build(val_split=0.2, test_split=0.2)"
   ],
   "metadata": {
    "collapsed": false,
    "ExecuteTime": {
     "end_time": "2023-06-11T10:57:43.473960300Z",
     "start_time": "2023-06-11T10:53:13.680450400Z"
    }
   }
  },
  {
   "cell_type": "code",
   "execution_count": 7,
   "outputs": [],
   "source": [
    "bandpass = BandpassFilter(200, 20000, 44100, order=2)\n",
    "\n",
    "x_train = [bandpass.filter(feature) for feature in train_dataset[0]]\n",
    "x_train = np.array(x_train)\n",
    "y_c_train = np.array(train_dataset[1])\n",
    "y_d_train = np.array(train_dataset[1], copy=True)\n",
    "y_d_train[y_d_train != 0] = 1\n",
    "\n",
    "x_val = [bandpass.filter(feature) for feature in val_dataset[0]]\n",
    "x_val = np.array(x_val)\n",
    "y_c_val = np.array(val_dataset[1])\n",
    "y_d_val = np.array(val_dataset[1], copy=True)\n",
    "y_d_val[y_d_val != 0] = 1\n",
    "\n",
    "x_test = [bandpass.filter(feature) for feature in test_dataset[0]]\n",
    "x_test = np.array(x_test)\n",
    "y_c_test = np.array(test_dataset[1])\n",
    "y_d_test = np.array(test_dataset[1], copy=True)\n",
    "y_d_test[y_d_test != 0] = 1"
   ],
   "metadata": {
    "collapsed": false,
    "ExecuteTime": {
     "end_time": "2023-06-11T10:57:45.412446300Z",
     "start_time": "2023-06-11T10:57:43.473960300Z"
    }
   }
  },
  {
   "cell_type": "code",
   "execution_count": 8,
   "outputs": [
    {
     "data": {
      "text/plain": "(2205, 1)"
     },
     "execution_count": 8,
     "metadata": {},
     "output_type": "execute_result"
    }
   ],
   "source": [
    "input_shape = np.expand_dims(x_train[0], axis=1).shape\n",
    "input_shape"
   ],
   "metadata": {
    "collapsed": false,
    "ExecuteTime": {
     "end_time": "2023-06-11T10:57:45.428614500Z",
     "start_time": "2023-06-11T10:57:45.412446300Z"
    }
   }
  },
  {
   "cell_type": "code",
   "execution_count": 9,
   "outputs": [],
   "source": [
    "backbone = Sequential([\n",
    "    Conv1D(filters=8, kernel_size=80, padding=\"same\", activation='relu'),\n",
    "    MaxPool1D(pool_size=4, strides=2),\n",
    "    Conv1D(filters=8, kernel_size=3, padding=\"same\", activation='relu'),\n",
    "    MaxPool1D(pool_size=4, strides=2),\n",
    "    Conv1D(filters=8, kernel_size=3, padding=\"same\", activation='relu'),\n",
    "    MaxPool1D(pool_size=4, strides=2),\n",
    "    Lambda(lambda x: K.mean(x, axis=1)),\n",
    "    Dense(units=32, activation='relu'),\n",
    "])\n",
    "\n",
    "detection_head = Sequential([\n",
    "    Dense(32),\n",
    "    Dense(1, activation='sigmoid'),\n",
    "])\n",
    "detection_head._name = 'detection'\n",
    "\n",
    "classification_head = Sequential([\n",
    "    Dense(32),\n",
    "    Dense(len(class_dict), activation='softmax'),\n",
    "])\n",
    "classification_head._name = 'classification'"
   ],
   "metadata": {
    "collapsed": false,
    "ExecuteTime": {
     "end_time": "2023-06-11T10:57:45.475514400Z",
     "start_time": "2023-06-11T10:57:45.428614500Z"
    }
   }
  },
  {
   "cell_type": "code",
   "execution_count": 10,
   "outputs": [],
   "source": [
    "def get_prediction_model():\n",
    "    inp = Input(shape=input_shape, name='input_layer')\n",
    "    latent = backbone(inp)\n",
    "    y1_pred = detection_head(latent)\n",
    "    y2_pred = classification_head(latent)\n",
    "    return Model(inp, [y1_pred, y2_pred])\n",
    "\n",
    "def get_trainable_model(prediction_model):\n",
    "    inp = Input(shape=input_shape, name='input_layer')\n",
    "    y1_pred, y2_pred = prediction_model(inp)\n",
    "    y1_true = Input(shape=(1,), name='y_true_detection')\n",
    "    y2_true = Input(shape=(1,), name='y_true_classification')\n",
    "    out = CustomMultiLossLayer(nb_outputs=2)([y1_true, y2_true, y1_pred, y2_pred])\n",
    "    return Model([inp, y1_true, y2_true], out)\n",
    "\n",
    "prediction_model = get_prediction_model()\n",
    "trainable_model = get_trainable_model(prediction_model)\n",
    "trainable_model.compile(optimizer='adam', loss=None)\n",
    "\n",
    "assert len(trainable_model.layers[-1].trainable_weights) == 2  # two log_vars, one for each output\n",
    "assert len(trainable_model.losses) == 1"
   ],
   "metadata": {
    "collapsed": false,
    "ExecuteTime": {
     "end_time": "2023-06-11T10:57:45.919542200Z",
     "start_time": "2023-06-11T10:57:45.475514400Z"
    }
   }
  },
  {
   "cell_type": "code",
   "execution_count": 11,
   "outputs": [
    {
     "name": "stdout",
     "output_type": "stream",
     "text": [
      "Model: \"model_1\"\n",
      "__________________________________________________________________________________________________\n",
      " Layer (type)                   Output Shape         Param #     Connected to                     \n",
      "==================================================================================================\n",
      " input_layer (InputLayer)       [(None, 2205, 1)]    0           []                               \n",
      "                                                                                                  \n",
      " y_true_detection (InputLayer)  [(None, 1)]          0           []                               \n",
      "                                                                                                  \n",
      " y_true_classification (InputLa  [(None, 1)]         0           []                               \n",
      " yer)                                                                                             \n",
      "                                                                                                  \n",
      " model (Functional)             [(None, 1),          3580        ['input_layer[0][0]']            \n",
      "                                 (None, 3)]                                                       \n",
      "|¯¯¯¯¯¯¯¯¯¯¯¯¯¯¯¯¯¯¯¯¯¯¯¯¯¯¯¯¯¯¯¯¯¯¯¯¯¯¯¯¯¯¯¯¯¯¯¯¯¯¯¯¯¯¯¯¯¯¯¯¯¯¯¯¯¯¯¯¯¯¯¯¯¯¯¯¯¯¯¯¯¯¯¯¯¯¯¯¯¯¯¯¯¯¯¯|\n",
      "| input_layer (InputLayer)     [(None, 2205, 1)]    0           []                               |\n",
      "|                                                                                                |\n",
      "| sequential (Sequential)      (None, 32)           1336        []                               |\n",
      "||¯¯¯¯¯¯¯¯¯¯¯¯¯¯¯¯¯¯¯¯¯¯¯¯¯¯¯¯¯¯¯¯¯¯¯¯¯¯¯¯¯¯¯¯¯¯¯¯¯¯¯¯¯¯¯¯¯¯¯¯¯¯¯¯¯¯¯¯¯¯¯¯¯¯¯¯¯¯¯¯¯¯¯¯¯¯¯¯¯¯¯¯¯¯||\n",
      "|| conv1d (Conv1D)            (None, 2205, 8)      648         []                               ||\n",
      "||                                                                                              ||\n",
      "|| max_pooling1d (MaxPooling1D)  (None, 1101, 8)   0           []                               ||\n",
      "||                                                                                              ||\n",
      "|| conv1d_1 (Conv1D)          (None, 1101, 8)      200         []                               ||\n",
      "||                                                                                              ||\n",
      "|| max_pooling1d_1 (MaxPooling1D)  (None, 549, 8)  0           []                               ||\n",
      "||                                                                                              ||\n",
      "|| conv1d_2 (Conv1D)          (None, 549, 8)       200         []                               ||\n",
      "||                                                                                              ||\n",
      "|| max_pooling1d_2 (MaxPooling1D)  (None, 273, 8)  0           []                               ||\n",
      "||                                                                                              ||\n",
      "|| lambda (Lambda)            (None, 8)            0           []                               ||\n",
      "||                                                                                              ||\n",
      "|| dense (Dense)              (None, 32)           288         []                               ||\n",
      "|¯¯¯¯¯¯¯¯¯¯¯¯¯¯¯¯¯¯¯¯¯¯¯¯¯¯¯¯¯¯¯¯¯¯¯¯¯¯¯¯¯¯¯¯¯¯¯¯¯¯¯¯¯¯¯¯¯¯¯¯¯¯¯¯¯¯¯¯¯¯¯¯¯¯¯¯¯¯¯¯¯¯¯¯¯¯¯¯¯¯¯¯¯¯¯¯|\n",
      "| detection (Sequential)       (None, 1)            1089        []                               |\n",
      "||¯¯¯¯¯¯¯¯¯¯¯¯¯¯¯¯¯¯¯¯¯¯¯¯¯¯¯¯¯¯¯¯¯¯¯¯¯¯¯¯¯¯¯¯¯¯¯¯¯¯¯¯¯¯¯¯¯¯¯¯¯¯¯¯¯¯¯¯¯¯¯¯¯¯¯¯¯¯¯¯¯¯¯¯¯¯¯¯¯¯¯¯¯¯||\n",
      "|| dense_1 (Dense)            (None, 32)           1056        []                               ||\n",
      "||                                                                                              ||\n",
      "|| dense_2 (Dense)            (None, 1)            33          []                               ||\n",
      "|¯¯¯¯¯¯¯¯¯¯¯¯¯¯¯¯¯¯¯¯¯¯¯¯¯¯¯¯¯¯¯¯¯¯¯¯¯¯¯¯¯¯¯¯¯¯¯¯¯¯¯¯¯¯¯¯¯¯¯¯¯¯¯¯¯¯¯¯¯¯¯¯¯¯¯¯¯¯¯¯¯¯¯¯¯¯¯¯¯¯¯¯¯¯¯¯|\n",
      "| classification (Sequential)  (None, 3)            1155        []                               |\n",
      "||¯¯¯¯¯¯¯¯¯¯¯¯¯¯¯¯¯¯¯¯¯¯¯¯¯¯¯¯¯¯¯¯¯¯¯¯¯¯¯¯¯¯¯¯¯¯¯¯¯¯¯¯¯¯¯¯¯¯¯¯¯¯¯¯¯¯¯¯¯¯¯¯¯¯¯¯¯¯¯¯¯¯¯¯¯¯¯¯¯¯¯¯¯¯||\n",
      "|| dense_3 (Dense)            (None, 32)           1056        []                               ||\n",
      "||                                                                                              ||\n",
      "|| dense_4 (Dense)            (None, 3)            99          []                               ||\n",
      "|¯¯¯¯¯¯¯¯¯¯¯¯¯¯¯¯¯¯¯¯¯¯¯¯¯¯¯¯¯¯¯¯¯¯¯¯¯¯¯¯¯¯¯¯¯¯¯¯¯¯¯¯¯¯¯¯¯¯¯¯¯¯¯¯¯¯¯¯¯¯¯¯¯¯¯¯¯¯¯¯¯¯¯¯¯¯¯¯¯¯¯¯¯¯¯¯|\n",
      "¯¯¯¯¯¯¯¯¯¯¯¯¯¯¯¯¯¯¯¯¯¯¯¯¯¯¯¯¯¯¯¯¯¯¯¯¯¯¯¯¯¯¯¯¯¯¯¯¯¯¯¯¯¯¯¯¯¯¯¯¯¯¯¯¯¯¯¯¯¯¯¯¯¯¯¯¯¯¯¯¯¯¯¯¯¯¯¯¯¯¯¯¯¯¯¯¯¯\n",
      " custom_multi_loss_layer (Custo  ((None, 1),         2           ['y_true_detection[0][0]',       \n",
      " mMultiLossLayer)                (None, 3))                       'y_true_classification[0][0]',  \n",
      "                                                                  'model[0][0]',                  \n",
      "                                                                  'model[0][1]']                  \n",
      "                                                                                                  \n",
      "==================================================================================================\n",
      "Total params: 3,582\n",
      "Trainable params: 3,582\n",
      "Non-trainable params: 0\n",
      "__________________________________________________________________________________________________\n"
     ]
    }
   ],
   "source": [
    "trainable_model.summary(expand_nested=True)"
   ],
   "metadata": {
    "collapsed": false,
    "ExecuteTime": {
     "end_time": "2023-06-11T10:57:45.966367600Z",
     "start_time": "2023-06-11T10:57:45.919542200Z"
    }
   }
  },
  {
   "cell_type": "code",
   "execution_count": 12,
   "outputs": [
    {
     "data": {
      "image/png": "[encoded data removed]",
      "text/plain": "<IPython.core.display.Image object>"
     },
     "execution_count": 12,
     "metadata": {},
     "output_type": "execute_result"
    }
   ],
   "source": [
    "os.environ[\"PATH\"] += os.pathsep + 'C:/Program Files/Graphviz/bin/'\n",
    "tf.keras.utils.plot_model(trainable_model, expand_nested=True)"
   ],
   "metadata": {
    "collapsed": false,
    "ExecuteTime": {
     "end_time": "2023-06-11T10:57:46.123164Z",
     "start_time": "2023-06-11T10:57:45.966367600Z"
    }
   }
  },
  {
   "cell_type": "code",
   "execution_count": 13,
   "outputs": [
    {
     "name": "stdout",
     "output_type": "stream",
     "text": [
      "Epoch 1/100\n",
      "30/30 [==============================] - 2s 46ms/step - loss: 112.3131 - val_loss: 103.1283 - lr: 0.0010\n",
      "Epoch 2/100\n",
      "30/30 [==============================] - 1s 40ms/step - loss: 110.3286 - val_loss: 102.6567 - lr: 0.0010\n",
      "Epoch 3/100\n",
      "30/30 [==============================] - 1s 39ms/step - loss: 109.6002 - val_loss: 101.9338 - lr: 0.0010\n",
      "Epoch 4/100\n",
      "30/30 [==============================] - 1s 39ms/step - loss: 109.0394 - val_loss: 101.3572 - lr: 0.0010\n",
      "Epoch 5/100\n",
      "30/30 [==============================] - 1s 39ms/step - loss: 108.5407 - val_loss: 101.1193 - lr: 0.0010\n",
      "Epoch 6/100\n",
      "30/30 [==============================] - 1s 39ms/step - loss: 108.1909 - val_loss: 100.5188 - lr: 0.0010\n",
      "Epoch 7/100\n",
      "30/30 [==============================] - 1s 40ms/step - loss: 107.6813 - val_loss: 100.1691 - lr: 0.0010\n",
      "Epoch 8/100\n",
      "30/30 [==============================] - 1s 40ms/step - loss: 107.3993 - val_loss: 99.9396 - lr: 0.0010\n",
      "Epoch 9/100\n",
      "30/30 [==============================] - 1s 40ms/step - loss: 107.0386 - val_loss: 99.5751 - lr: 0.0010\n",
      "Epoch 10/100\n",
      "30/30 [==============================] - 1s 40ms/step - loss: 106.6888 - val_loss: 99.3954 - lr: 0.0010\n",
      "Epoch 11/100\n",
      "30/30 [==============================] - 1s 40ms/step - loss: 106.4480 - val_loss: 98.9915 - lr: 0.0010\n",
      "Epoch 12/100\n",
      "30/30 [==============================] - 1s 40ms/step - loss: 106.2903 - val_loss: 98.5877 - lr: 0.0010\n",
      "Epoch 13/100\n",
      "30/30 [==============================] - 1s 40ms/step - loss: 105.7911 - val_loss: 97.9269 - lr: 0.0010\n",
      "Epoch 14/100\n",
      "30/30 [==============================] - 1s 40ms/step - loss: 105.7465 - val_loss: 97.7832 - lr: 0.0010\n",
      "Epoch 15/100\n",
      "30/30 [==============================] - 1s 40ms/step - loss: 104.7868 - val_loss: 97.0539 - lr: 0.0010\n",
      "Epoch 16/100\n",
      "30/30 [==============================] - 1s 40ms/step - loss: 103.6962 - val_loss: 95.9605 - lr: 0.0010\n",
      "Epoch 17/100\n",
      "30/30 [==============================] - 1s 40ms/step - loss: 102.9880 - val_loss: 94.6187 - lr: 0.0010\n",
      "Epoch 18/100\n",
      "30/30 [==============================] - 1s 40ms/step - loss: 101.8989 - val_loss: 93.9491 - lr: 0.0010\n",
      "Epoch 19/100\n",
      "30/30 [==============================] - 1s 40ms/step - loss: 101.1428 - val_loss: 93.5829 - lr: 0.0010\n",
      "Epoch 20/100\n",
      "30/30 [==============================] - 1s 40ms/step - loss: 100.6502 - val_loss: 93.1592 - lr: 0.0010\n",
      "Epoch 21/100\n",
      "30/30 [==============================] - 1s 41ms/step - loss: 100.3706 - val_loss: 92.9247 - lr: 0.0010\n",
      "Epoch 22/100\n",
      "30/30 [==============================] - 1s 41ms/step - loss: 100.0239 - val_loss: 93.8157 - lr: 0.0010\n",
      "Epoch 23/100\n",
      "30/30 [==============================] - 1s 41ms/step - loss: 99.5263 - val_loss: 91.6712 - lr: 0.0010\n",
      "Epoch 24/100\n",
      "30/30 [==============================] - 1s 42ms/step - loss: 99.4352 - val_loss: 90.9796 - lr: 0.0010\n",
      "Epoch 25/100\n",
      "30/30 [==============================] - 1s 40ms/step - loss: 98.4587 - val_loss: 90.8175 - lr: 0.0010\n",
      "Epoch 26/100\n",
      "30/30 [==============================] - 1s 42ms/step - loss: 98.5540 - val_loss: 91.3768 - lr: 0.0010\n",
      "Epoch 27/100\n",
      "30/30 [==============================] - 1s 41ms/step - loss: 97.5463 - val_loss: 90.0831 - lr: 0.0010\n",
      "Epoch 28/100\n",
      "30/30 [==============================] - 1s 41ms/step - loss: 97.4272 - val_loss: 89.6581 - lr: 0.0010\n",
      "Epoch 29/100\n",
      "30/30 [==============================] - 1s 41ms/step - loss: 96.2801 - val_loss: 88.7545 - lr: 0.0010\n",
      "Epoch 30/100\n",
      "30/30 [==============================] - 1s 41ms/step - loss: 95.9009 - val_loss: 88.6983 - lr: 0.0010\n",
      "Epoch 31/100\n",
      "30/30 [==============================] - 1s 41ms/step - loss: 96.4060 - val_loss: 88.1870 - lr: 0.0010\n",
      "Epoch 32/100\n",
      "30/30 [==============================] - 1s 42ms/step - loss: 94.7349 - val_loss: 86.5559 - lr: 0.0010\n",
      "Epoch 33/100\n",
      "30/30 [==============================] - 1s 49ms/step - loss: 94.4802 - val_loss: 90.6163 - lr: 0.0010\n",
      "Epoch 34/100\n",
      "30/30 [==============================] - 2s 52ms/step - loss: 93.3339 - val_loss: 85.8131 - lr: 0.0010\n",
      "Epoch 35/100\n",
      "30/30 [==============================] - 1s 46ms/step - loss: 90.8160 - val_loss: 84.9780 - lr: 0.0010\n",
      "Epoch 36/100\n",
      "30/30 [==============================] - 1s 45ms/step - loss: 92.2740 - val_loss: 86.2870 - lr: 0.0010\n",
      "Epoch 37/100\n",
      "30/30 [==============================] - 1s 46ms/step - loss: 93.9474 - val_loss: 87.6617 - lr: 0.0010\n",
      "Epoch 38/100\n",
      "30/30 [==============================] - 1s 43ms/step - loss: 92.7397 - val_loss: 82.3359 - lr: 0.0010\n",
      "Epoch 39/100\n",
      "30/30 [==============================] - 1s 43ms/step - loss: 87.4442 - val_loss: 82.7175 - lr: 0.0010\n",
      "Epoch 40/100\n",
      "30/30 [==============================] - 1s 43ms/step - loss: 87.3774 - val_loss: 82.1783 - lr: 0.0010\n",
      "Epoch 41/100\n",
      "30/30 [==============================] - 1s 43ms/step - loss: 86.5658 - val_loss: 80.1613 - lr: 0.0010\n",
      "Epoch 42/100\n",
      "30/30 [==============================] - 1s 42ms/step - loss: 85.5889 - val_loss: 80.4352 - lr: 0.0010\n",
      "Epoch 43/100\n",
      "30/30 [==============================] - 1s 42ms/step - loss: 84.6789 - val_loss: 78.5163 - lr: 0.0010\n",
      "Epoch 44/100\n",
      "30/30 [==============================] - 1s 42ms/step - loss: 84.0074 - val_loss: 90.1775 - lr: 0.0010\n",
      "Epoch 45/100\n",
      "30/30 [==============================] - 1s 46ms/step - loss: 86.0044 - val_loss: 85.3886 - lr: 0.0010\n",
      "Epoch 46/100\n",
      "30/30 [==============================] - 1s 44ms/step - loss: 82.0371 - val_loss: 75.6665 - lr: 0.0010\n",
      "Epoch 47/100\n",
      "30/30 [==============================] - 1s 43ms/step - loss: 83.0231 - val_loss: 79.9764 - lr: 0.0010\n",
      "Epoch 48/100\n",
      "30/30 [==============================] - 1s 42ms/step - loss: 81.8813 - val_loss: 73.0572 - lr: 0.0010\n",
      "Epoch 49/100\n",
      "30/30 [==============================] - 1s 42ms/step - loss: 78.5503 - val_loss: 74.2728 - lr: 0.0010\n",
      "Epoch 50/100\n",
      "30/30 [==============================] - 1s 43ms/step - loss: 78.9895 - val_loss: 71.9533 - lr: 0.0010\n",
      "Epoch 51/100\n",
      "30/30 [==============================] - 1s 42ms/step - loss: 77.0766 - val_loss: 69.0767 - lr: 0.0010\n",
      "Epoch 52/100\n",
      "30/30 [==============================] - 1s 42ms/step - loss: 78.7605 - val_loss: 75.5473 - lr: 0.0010\n",
      "Epoch 53/100\n",
      "30/30 [==============================] - 1s 42ms/step - loss: 75.8899 - val_loss: 78.2813 - lr: 0.0010\n",
      "Epoch 54/100\n",
      "30/30 [==============================] - 1s 42ms/step - loss: 77.0863 - val_loss: 69.9934 - lr: 0.0010\n",
      "Epoch 55/100\n",
      "30/30 [==============================] - 1s 42ms/step - loss: 75.4115 - val_loss: 66.6853 - lr: 0.0010\n",
      "Epoch 56/100\n",
      "30/30 [==============================] - 1s 42ms/step - loss: 72.1055 - val_loss: 65.8073 - lr: 0.0010\n",
      "Epoch 57/100\n",
      "30/30 [==============================] - 1s 45ms/step - loss: 76.7797 - val_loss: 72.7547 - lr: 0.0010\n",
      "Epoch 58/100\n",
      "30/30 [==============================] - 1s 42ms/step - loss: 74.0360 - val_loss: 63.7543 - lr: 0.0010\n",
      "Epoch 59/100\n",
      "30/30 [==============================] - 1s 42ms/step - loss: 68.2006 - val_loss: 62.4368 - lr: 0.0010\n",
      "Epoch 60/100\n",
      "30/30 [==============================] - 1s 42ms/step - loss: 67.7804 - val_loss: 64.7339 - lr: 0.0010\n",
      "Epoch 61/100\n",
      "30/30 [==============================] - 1s 42ms/step - loss: 66.3594 - val_loss: 61.7608 - lr: 0.0010\n",
      "Epoch 62/100\n",
      "30/30 [==============================] - 1s 42ms/step - loss: 64.2797 - val_loss: 63.5861 - lr: 0.0010\n",
      "Epoch 63/100\n",
      "30/30 [==============================] - 1s 42ms/step - loss: 66.3973 - val_loss: 68.9863 - lr: 0.0010\n",
      "Epoch 64/100\n",
      "30/30 [==============================] - 1s 42ms/step - loss: 64.6120 - val_loss: 65.9753 - lr: 0.0010\n",
      "Epoch 65/100\n",
      "30/30 [==============================] - 1s 42ms/step - loss: 61.4222 - val_loss: 58.7787 - lr: 0.0010\n",
      "Epoch 66/100\n",
      "30/30 [==============================] - 1s 42ms/step - loss: 62.8874 - val_loss: 61.1981 - lr: 0.0010\n",
      "Epoch 67/100\n",
      "30/30 [==============================] - 1s 42ms/step - loss: 62.2766 - val_loss: 55.6345 - lr: 0.0010\n",
      "Epoch 68/100\n",
      "30/30 [==============================] - 1s 42ms/step - loss: 58.8105 - val_loss: 55.0247 - lr: 0.0010\n",
      "Epoch 69/100\n",
      "30/30 [==============================] - 1s 42ms/step - loss: 57.6426 - val_loss: 57.3552 - lr: 0.0010\n",
      "Epoch 70/100\n",
      "30/30 [==============================] - 1s 48ms/step - loss: 56.5193 - val_loss: 53.9898 - lr: 0.0010\n",
      "Epoch 71/100\n",
      "30/30 [==============================] - 1s 42ms/step - loss: 55.3033 - val_loss: 50.7494 - lr: 0.0010\n",
      "Epoch 72/100\n",
      "30/30 [==============================] - 1s 42ms/step - loss: 55.0032 - val_loss: 52.1051 - lr: 0.0010\n",
      "Epoch 73/100\n",
      "30/30 [==============================] - 1s 42ms/step - loss: 54.4611 - val_loss: 55.8690 - lr: 0.0010\n",
      "Epoch 74/100\n",
      "30/30 [==============================] - 1s 42ms/step - loss: 55.7615 - val_loss: 49.4770 - lr: 0.0010\n",
      "Epoch 75/100\n",
      "30/30 [==============================] - 1s 42ms/step - loss: 52.5006 - val_loss: 51.7560 - lr: 0.0010\n",
      "Epoch 76/100\n",
      "30/30 [==============================] - 1s 42ms/step - loss: 52.7571 - val_loss: 46.0208 - lr: 0.0010\n",
      "Epoch 77/100\n",
      "30/30 [==============================] - 1s 42ms/step - loss: 48.9787 - val_loss: 43.6902 - lr: 0.0010\n",
      "Epoch 78/100\n",
      "30/30 [==============================] - 1s 42ms/step - loss: 49.2914 - val_loss: 44.7351 - lr: 0.0010\n",
      "Epoch 79/100\n",
      "30/30 [==============================] - 1s 42ms/step - loss: 47.8982 - val_loss: 41.6826 - lr: 0.0010\n",
      "Epoch 80/100\n",
      "30/30 [==============================] - 1s 42ms/step - loss: 46.7205 - val_loss: 48.1910 - lr: 0.0010\n",
      "Epoch 81/100\n",
      "30/30 [==============================] - 1s 44ms/step - loss: 45.1713 - val_loss: 44.1658 - lr: 0.0010\n",
      "Epoch 82/100\n",
      "30/30 [==============================] - 1s 46ms/step - loss: 42.6643 - val_loss: 46.6136 - lr: 0.0010\n",
      "Epoch 83/100\n",
      "30/30 [==============================] - 1s 44ms/step - loss: 42.6672 - val_loss: 42.4802 - lr: 0.0010\n",
      "Epoch 84/100\n",
      "30/30 [==============================] - 1s 45ms/step - loss: 40.8529 - val_loss: 40.2110 - lr: 0.0010\n",
      "Epoch 85/100\n",
      "30/30 [==============================] - 1s 45ms/step - loss: 45.1698 - val_loss: 43.9302 - lr: 0.0010\n",
      "Epoch 86/100\n",
      "30/30 [==============================] - 1s 43ms/step - loss: 39.6610 - val_loss: 38.6432 - lr: 0.0010\n",
      "Epoch 87/100\n",
      "30/30 [==============================] - 1s 42ms/step - loss: 39.9275 - val_loss: 37.7042 - lr: 0.0010\n",
      "Epoch 88/100\n",
      "30/30 [==============================] - 1s 42ms/step - loss: 39.1966 - val_loss: 35.7526 - lr: 0.0010\n",
      "Epoch 89/100\n",
      "30/30 [==============================] - 1s 43ms/step - loss: 36.8063 - val_loss: 35.1578 - lr: 0.0010\n",
      "Epoch 90/100\n",
      "30/30 [==============================] - 1s 42ms/step - loss: 36.5248 - val_loss: 35.8160 - lr: 0.0010\n",
      "Epoch 91/100\n",
      "30/30 [==============================] - 1s 42ms/step - loss: 38.2115 - val_loss: 51.5003 - lr: 0.0010\n",
      "Epoch 92/100\n",
      "30/30 [==============================] - 1s 42ms/step - loss: 40.7236 - val_loss: 35.8049 - lr: 0.0010\n",
      "Epoch 93/100\n",
      "30/30 [==============================] - 1s 42ms/step - loss: 36.5882 - val_loss: 33.8329 - lr: 0.0010\n",
      "Epoch 94/100\n",
      "30/30 [==============================] - 1s 43ms/step - loss: 34.4284 - val_loss: 36.4700 - lr: 0.0010\n",
      "Epoch 95/100\n",
      "30/30 [==============================] - 1s 42ms/step - loss: 38.7582 - val_loss: 52.5598 - lr: 0.0010\n",
      "Epoch 96/100\n",
      "30/30 [==============================] - 1s 42ms/step - loss: 41.2283 - val_loss: 35.3616 - lr: 0.0010\n",
      "Epoch 97/100\n",
      "30/30 [==============================] - 1s 43ms/step - loss: 34.2199 - val_loss: 36.2357 - lr: 0.0010\n",
      "Epoch 98/100\n",
      "30/30 [==============================] - 1s 42ms/step - loss: 34.1949 - val_loss: 33.7841 - lr: 0.0010\n",
      "Epoch 99/100\n",
      "30/30 [==============================] - 1s 43ms/step - loss: 39.9382 - val_loss: 34.0766 - lr: 0.0010\n",
      "Epoch 100/100\n",
      "30/30 [==============================] - 1s 42ms/step - loss: 34.0680 - val_loss: 39.8194 - lr: 0.0010\n"
     ]
    }
   ],
   "source": [
    "reduce_lr = ReduceLROnPlateau(factor=0.5, patience=5, min_lr=0.0001, verbose=1)\n",
    "early_stopping = EarlyStopping(verbose=1, patience=8)\n",
    "\n",
    "history = trainable_model.fit(\n",
    "    x=[x_train, y_d_train, y_c_train],\n",
    "    y=[y_d_train, y_c_train],\n",
    "    epochs=epochs,\n",
    "    batch_size=batch_size,\n",
    "    validation_data=([x_val, y_d_val, y_c_val], [y_d_val, y_c_val]),\n",
    "    callbacks=[reduce_lr, early_stopping],\n",
    ")"
   ],
   "metadata": {
    "collapsed": false,
    "ExecuteTime": {
     "end_time": "2023-06-11T10:59:53.920235500Z",
     "start_time": "2023-06-11T10:57:46.123164Z"
    }
   }
  },
  {
   "cell_type": "code",
   "execution_count": 14,
   "outputs": [
    {
     "data": {
      "text/plain": "<Figure size 432x288 with 1 Axes>",
      "image/png": "[encoded data removed]"
     },
     "metadata": {
      "needs_background": "light"
     },
     "output_type": "display_data"
    }
   ],
   "source": [
    "metrics = history.history\n",
    "plt.title('Total Loss')\n",
    "plt.xlabel('Epoch')\n",
    "plt.ylabel('Loss')\n",
    "plt.plot(history.epoch, metrics['loss'], metrics['val_loss'])\n",
    "plt.legend(['loss', 'val_loss'])\n",
    "plt.show()"
   ],
   "metadata": {
    "collapsed": false,
    "ExecuteTime": {
     "end_time": "2023-06-11T10:59:54.061271200Z",
     "start_time": "2023-06-11T10:59:53.920235500Z"
    }
   }
  },
  {
   "cell_type": "code",
   "execution_count": 15,
   "outputs": [
    {
     "name": "stdout",
     "output_type": "stream",
     "text": [
      "19/19 [==============================] - 0s 7ms/step\n",
      "Detection test set accuracy: 57.33%\n",
      "Detection test set false alarm prob: 1.08%\n",
      "Detection test set miss detection prob: 61.35%\n"
     ]
    }
   ],
   "source": [
    "test_features = np.array(test_dataset[0])\n",
    "y_pred = np.zeros(len(test_features))\n",
    "predictions = trainable_model.predict([test_features, y_pred, y_pred], verbose=1)\n",
    "\n",
    "y_pred = np.rint(predictions[0])\n",
    "y_true = y_d_test\n",
    "\n",
    "test_acc = accuracy_score(y_true, y_pred) * 100\n",
    "print(f'Detection test set accuracy: {test_acc:.2f}%')\n",
    "\n",
    "false_alarm_prob = false_alarm_rate(y_true, y_pred)\n",
    "print(f'Detection test set false alarm prob: {false_alarm_prob}%')\n",
    "\n",
    "miss_detection_prob = miss_detection_rate(y_true, y_pred)\n",
    "print(f'Detection test set miss detection prob: {miss_detection_prob}%')"
   ],
   "metadata": {
    "collapsed": false,
    "ExecuteTime": {
     "end_time": "2023-06-11T10:59:54.410769400Z",
     "start_time": "2023-06-11T10:59:54.061271200Z"
    }
   }
  },
  {
   "cell_type": "code",
   "execution_count": 16,
   "outputs": [
    {
     "name": "stdout",
     "output_type": "stream",
     "text": [
      "Classification test set accuracy: 45%\n"
     ]
    },
    {
     "data": {
      "text/plain": "<Figure size 720x576 with 2 Axes>",
      "image/png": "[encoded data removed]"
     },
     "metadata": {
      "needs_background": "light"
     },
     "output_type": "display_data"
    }
   ],
   "source": [
    "y_pred = np.argmax(predictions[1], axis=1)\n",
    "y_true = y_c_test\n",
    "\n",
    "test_acc = accuracy_score(y_true=y_true, y_pred=y_pred)\n",
    "print(f'Classification test set accuracy: {test_acc:.0%}')\n",
    "plot_confusion_matrix(list(class_dict.keys()), y_true, y_pred)"
   ],
   "metadata": {
    "collapsed": false,
    "ExecuteTime": {
     "end_time": "2023-06-11T10:59:54.551306800Z",
     "start_time": "2023-06-11T10:59:54.410769400Z"
    }
   }
  },
  {
   "cell_type": "code",
   "execution_count": 17,
   "outputs": [],
   "source": [],
   "metadata": {
    "collapsed": false,
    "ExecuteTime": {
     "end_time": "2023-05-26T09:06:49.851042700Z",
     "start_time": "2023-05-26T09:06:49.835399700Z"
    }
   }
  },
  {
   "cell_type": "code",
   "execution_count": null,
   "outputs": [],
   "source": [],
   "metadata": {
    "collapsed": false
   }
  }
 ],
 "metadata": {
  "kernelspec": {
   "display_name": "Python 3",
   "language": "python",
   "name": "python3"
  },
  "language_info": {
   "codemirror_mode": {
    "name": "ipython",
    "version": 2
   },
   "file_extension": ".py",
   "mimetype": "text/x-python",
   "name": "python",
   "nbconvert_exporter": "python",
   "pygments_lexer": "ipython2",
   "version": "2.7.6"
  }
 },
 "nbformat": 4,
 "nbformat_minor": 0
}
