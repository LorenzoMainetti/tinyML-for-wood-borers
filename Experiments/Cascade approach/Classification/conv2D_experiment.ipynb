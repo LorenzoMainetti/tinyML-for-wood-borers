{
 "cells": [
  {
   "cell_type": "code",
   "execution_count": null,
   "metadata": {
    "collapsed": true
   },
   "outputs": [],
   "source": [
    "import sys\n",
    "\n",
    "sys.path.append('../../../')\n",
    "\n",
    "import os\n",
    "import tensorflow as tf\n",
    "import numpy as np\n",
    "from sklearn.metrics import accuracy_score\n",
    "\n",
    "from Pipeline.tf_dataset_builder import DatasetBuilderPipeline\n",
    "from Pipeline.tf_lite_utils import predict_tflite, convert_tf_lite, convert_tf_lite_quantized, compare_size\n",
    "from Pipeline.evaluation import plot_confusion_matrix"
   ]
  },
  {
   "cell_type": "code",
   "execution_count": 2,
   "outputs": [],
   "source": [
    "# Set seed for experiment reproducibility\n",
    "seed = 1\n",
    "tf.random.set_seed(seed)"
   ],
   "metadata": {
    "collapsed": false,
    "ExecuteTime": {
     "end_time": "2023-06-23T16:02:02.998303200Z",
     "start_time": "2023-06-23T16:02:02.982724200Z"
    }
   }
  },
  {
   "cell_type": "code",
   "execution_count": 3,
   "outputs": [],
   "source": [
    "# Define paths to model files\n",
    "MODELS_DIR = '../../../Models/'\n",
    "if not os.path.exists(MODELS_DIR):\n",
    "    os.mkdir(MODELS_DIR)\n",
    "MODEL_TF = MODELS_DIR + 'model'\n",
    "MODEL_NO_QUANT_TFLITE = MODELS_DIR + 'model_no_quant.tflite'\n",
    "MODEL_TFLITE = MODELS_DIR + 'model.tflite'\n",
    "MODEL_TFLITE_MICRO = MODELS_DIR + 'model.cc'"
   ],
   "metadata": {
    "collapsed": false,
    "ExecuteTime": {
     "end_time": "2023-06-23T16:02:03.014425Z",
     "start_time": "2023-06-23T16:02:02.998303200Z"
    }
   }
  },
  {
   "cell_type": "code",
   "execution_count": 4,
   "outputs": [],
   "source": [
    "class_dict = {\n",
    "    'Background': 0,\n",
    "    'Big mandibles': 1,\n",
    "    'Small mandibles': 2,\n",
    "}"
   ],
   "metadata": {
    "collapsed": false,
    "ExecuteTime": {
     "end_time": "2023-06-23T16:02:03.030076200Z",
     "start_time": "2023-06-23T16:02:03.014425Z"
    }
   }
  },
  {
   "cell_type": "code",
   "execution_count": 5,
   "outputs": [],
   "source": [
    "# Set hyperparameters\n",
    "batch_size = 64\n",
    "learning_rate = 0.001\n",
    "epochs = 100\n",
    "class_weight = {0: 1.0, 1: 1.0, 2: 1.0}\n",
    "patience = 15"
   ],
   "metadata": {
    "collapsed": false,
    "ExecuteTime": {
     "end_time": "2023-06-23T16:02:03.047315800Z",
     "start_time": "2023-06-23T16:02:03.030076200Z"
    }
   }
  },
  {
   "cell_type": "code",
   "execution_count": 6,
   "outputs": [],
   "source": [
    "# Load the data\n",
    "DatasetBuilder = DatasetBuilderPipeline(\n",
    "    #dataset_dir=\"../../../Dataset/Generated dataset/Deployment/unstandardized/50ms/**/*.wav\",\n",
    "    dataset_dir=\"../../../Dataset/Final dataset/Generation/Generated dataset/**/*.wav\",\n",
    "    batch_size=batch_size,\n",
    "    class_dict=class_dict,\n",
    "    augment=False,\n",
    "    balanced=False,\n",
    "    seed=seed,\n",
    "    nfft=128,\n",
    "    win_length=128,\n",
    "    hop_length=64,\n",
    "    min_freq=500,\n",
    "    max_freq=14000,\n",
    ")\n",
    "train_dataset, val_dataset, test_dataset = DatasetBuilder.build(val_split=0.2, test_split=0.2)"
   ],
   "metadata": {
    "collapsed": false,
    "ExecuteTime": {
     "end_time": "2023-06-11T13:52:03.806934800Z",
     "start_time": "2023-06-11T13:48:27.867631700Z"
    }
   }
  },
  {
   "cell_type": "code",
   "execution_count": 7,
   "outputs": [],
   "source": [
    "input_shape = test_dataset[0][0].shape"
   ],
   "metadata": {
    "collapsed": false,
    "ExecuteTime": {
     "end_time": "2023-06-11T13:52:03.822524700Z",
     "start_time": "2023-06-11T13:52:03.806934800Z"
    }
   }
  },
  {
   "cell_type": "code",
   "execution_count": 8,
   "outputs": [
    {
     "data": {
      "text/plain": "(39, 33, 1)"
     },
     "execution_count": 8,
     "metadata": {},
     "output_type": "execute_result"
    }
   ],
   "source": [
    "input_shape"
   ],
   "metadata": {
    "collapsed": false,
    "ExecuteTime": {
     "end_time": "2023-06-11T13:52:03.870100300Z",
     "start_time": "2023-06-11T13:52:03.822524700Z"
    }
   }
  },
  {
   "cell_type": "code",
   "execution_count": 6,
   "outputs": [
    {
     "name": "stdout",
     "output_type": "stream",
     "text": [
      "Model: \"sequential\"\n",
      "_________________________________________________________________\n",
      " Layer (type)                Output Shape              Param #   \n",
      "=================================================================\n",
      " conv2d (Conv2D)             (None, 39, 33, 8)         80        \n",
      "                                                                 \n",
      " max_pooling2d (MaxPooling2D  (None, 20, 17, 8)        0         \n",
      " )                                                               \n",
      "                                                                 \n",
      " conv2d_1 (Conv2D)           (None, 20, 17, 8)         584       \n",
      "                                                                 \n",
      " max_pooling2d_1 (MaxPooling  (None, 10, 9, 8)         0         \n",
      " 2D)                                                             \n",
      "                                                                 \n",
      " conv2d_2 (Conv2D)           (None, 10, 9, 8)          584       \n",
      "                                                                 \n",
      " max_pooling2d_2 (MaxPooling  (None, 5, 5, 8)          0         \n",
      " 2D)                                                             \n",
      "                                                                 \n",
      " conv2d_3 (Conv2D)           (None, 5, 5, 8)           584       \n",
      "                                                                 \n",
      " max_pooling2d_3 (MaxPooling  (None, 3, 3, 8)          0         \n",
      " 2D)                                                             \n",
      "                                                                 \n",
      " dropout (Dropout)           (None, 3, 3, 8)           0         \n",
      "                                                                 \n",
      " flatten (Flatten)           (None, 72)                0         \n",
      "                                                                 \n",
      " dense (Dense)               (None, 3)                 219       \n",
      "                                                                 \n",
      "=================================================================\n",
      "Total params: 2,051\n",
      "Trainable params: 2,051\n",
      "Non-trainable params: 0\n",
      "_________________________________________________________________\n"
     ]
    }
   ],
   "source": [
    "model = tf.keras.models.Sequential([\n",
    "    tf.keras.layers.Input(shape=input_shape),\n",
    "    tf.keras.layers.Conv2D(8, kernel_size=3, activation='relu', padding='same'),\n",
    "    tf.keras.layers.MaxPooling2D(pool_size=2, strides=2, padding='same'),\n",
    "    tf.keras.layers.Conv2D(8, kernel_size=3, activation='relu', padding='same'),\n",
    "    tf.keras.layers.MaxPooling2D(pool_size=2, strides=2, padding='same'),\n",
    "    tf.keras.layers.Conv2D(8, kernel_size=3, activation='relu', padding='same'),\n",
    "    tf.keras.layers.MaxPooling2D(pool_size=2, strides=2, padding='same'),\n",
    "    tf.keras.layers.Conv2D(8, kernel_size=3, activation='relu', padding='same'),\n",
    "    tf.keras.layers.MaxPooling2D(pool_size=2, strides=2, padding='same'),\n",
    "    tf.keras.layers.Dropout(0.15),\n",
    "    tf.keras.layers.Flatten(),\n",
    "    tf.keras.layers.Dense(len(class_dict), activation='softmax'),\n",
    "])\n",
    "\n",
    "model.summary()"
   ],
   "metadata": {
    "collapsed": false,
    "ExecuteTime": {
     "end_time": "2023-06-23T16:02:03.339781900Z",
     "start_time": "2023-06-23T16:02:03.181880200Z"
    }
   }
  },
  {
   "cell_type": "code",
   "execution_count": 10,
   "outputs": [],
   "source": [
    "model.compile(\n",
    "    optimizer=tf.keras.optimizers.Adam(learning_rate=learning_rate),\n",
    "    loss=tf.keras.losses.SparseCategoricalCrossentropy(),\n",
    "    metrics=['accuracy']\n",
    ")"
   ],
   "metadata": {
    "collapsed": false,
    "ExecuteTime": {
     "end_time": "2023-06-11T13:52:03.989616400Z",
     "start_time": "2023-06-11T13:52:03.957701300Z"
    }
   }
  },
  {
   "cell_type": "code",
   "execution_count": 11,
   "outputs": [
    {
     "name": "stdout",
     "output_type": "stream",
     "text": [
      "Epoch 1/100\n",
      "30/30 [==============================] - 1s 21ms/step - loss: 1.1011 - accuracy: 0.3396 - val_loss: 1.0909 - val_accuracy: 0.4083\n",
      "Epoch 2/100\n",
      "30/30 [==============================] - 1s 17ms/step - loss: 1.0828 - accuracy: 0.3911 - val_loss: 1.0655 - val_accuracy: 0.4333\n",
      "Epoch 3/100\n",
      "30/30 [==============================] - 1s 16ms/step - loss: 1.0599 - accuracy: 0.4354 - val_loss: 1.0263 - val_accuracy: 0.5500\n",
      "Epoch 4/100\n",
      "30/30 [==============================] - 1s 16ms/step - loss: 1.0029 - accuracy: 0.5151 - val_loss: 0.9635 - val_accuracy: 0.5458\n",
      "Epoch 5/100\n",
      "30/30 [==============================] - 1s 17ms/step - loss: 0.9389 - accuracy: 0.5536 - val_loss: 0.9244 - val_accuracy: 0.5646\n",
      "Epoch 6/100\n",
      "30/30 [==============================] - 1s 19ms/step - loss: 0.8646 - accuracy: 0.6115 - val_loss: 0.8839 - val_accuracy: 0.5979\n",
      "Epoch 7/100\n",
      "30/30 [==============================] - 1s 17ms/step - loss: 0.8422 - accuracy: 0.6323 - val_loss: 0.8718 - val_accuracy: 0.5917\n",
      "Epoch 8/100\n",
      "30/30 [==============================] - 1s 18ms/step - loss: 0.7955 - accuracy: 0.6594 - val_loss: 0.8272 - val_accuracy: 0.6438\n",
      "Epoch 9/100\n",
      "30/30 [==============================] - 1s 17ms/step - loss: 0.7864 - accuracy: 0.6677 - val_loss: 0.8295 - val_accuracy: 0.6354\n",
      "Epoch 10/100\n",
      "30/30 [==============================] - 1s 18ms/step - loss: 0.7566 - accuracy: 0.6870 - val_loss: 0.7903 - val_accuracy: 0.6521\n",
      "Epoch 11/100\n",
      "30/30 [==============================] - 1s 17ms/step - loss: 0.7248 - accuracy: 0.6995 - val_loss: 0.7834 - val_accuracy: 0.6708\n",
      "Epoch 12/100\n",
      "30/30 [==============================] - 1s 17ms/step - loss: 0.7203 - accuracy: 0.7000 - val_loss: 0.7532 - val_accuracy: 0.6896\n",
      "Epoch 13/100\n",
      "30/30 [==============================] - 1s 16ms/step - loss: 0.6869 - accuracy: 0.7229 - val_loss: 0.7316 - val_accuracy: 0.6833\n",
      "Epoch 14/100\n",
      "30/30 [==============================] - 1s 17ms/step - loss: 0.6659 - accuracy: 0.7312 - val_loss: 0.7198 - val_accuracy: 0.7021\n",
      "Epoch 15/100\n",
      "30/30 [==============================] - 1s 18ms/step - loss: 0.6368 - accuracy: 0.7563 - val_loss: 0.7133 - val_accuracy: 0.6958\n",
      "Epoch 16/100\n",
      "30/30 [==============================] - 1s 17ms/step - loss: 0.6209 - accuracy: 0.7469 - val_loss: 0.6766 - val_accuracy: 0.7042\n",
      "Epoch 17/100\n",
      "30/30 [==============================] - 1s 17ms/step - loss: 0.6193 - accuracy: 0.7505 - val_loss: 0.6838 - val_accuracy: 0.7104\n",
      "Epoch 18/100\n",
      "30/30 [==============================] - 1s 16ms/step - loss: 0.5989 - accuracy: 0.7641 - val_loss: 0.6456 - val_accuracy: 0.7208\n",
      "Epoch 19/100\n",
      "30/30 [==============================] - 1s 17ms/step - loss: 0.5701 - accuracy: 0.7734 - val_loss: 0.6415 - val_accuracy: 0.7271\n",
      "Epoch 20/100\n",
      "30/30 [==============================] - 1s 17ms/step - loss: 0.5805 - accuracy: 0.7682 - val_loss: 0.6166 - val_accuracy: 0.7312\n",
      "Epoch 21/100\n",
      "30/30 [==============================] - 1s 17ms/step - loss: 0.5626 - accuracy: 0.7755 - val_loss: 0.6210 - val_accuracy: 0.7479\n",
      "Epoch 22/100\n",
      "30/30 [==============================] - 1s 17ms/step - loss: 0.5409 - accuracy: 0.7943 - val_loss: 0.6008 - val_accuracy: 0.7521\n",
      "Epoch 23/100\n",
      "30/30 [==============================] - 1s 16ms/step - loss: 0.5386 - accuracy: 0.7891 - val_loss: 0.6291 - val_accuracy: 0.7396\n",
      "Epoch 24/100\n",
      "30/30 [==============================] - 1s 17ms/step - loss: 0.5252 - accuracy: 0.7979 - val_loss: 0.5921 - val_accuracy: 0.7646\n",
      "Epoch 25/100\n",
      "30/30 [==============================] - 1s 17ms/step - loss: 0.5340 - accuracy: 0.7917 - val_loss: 0.5857 - val_accuracy: 0.7437\n",
      "Epoch 26/100\n",
      "30/30 [==============================] - 1s 16ms/step - loss: 0.5026 - accuracy: 0.8005 - val_loss: 0.6017 - val_accuracy: 0.7458\n",
      "Epoch 27/100\n",
      "30/30 [==============================] - 1s 17ms/step - loss: 0.4961 - accuracy: 0.8010 - val_loss: 0.5639 - val_accuracy: 0.7667\n",
      "Epoch 28/100\n",
      "30/30 [==============================] - 1s 17ms/step - loss: 0.4919 - accuracy: 0.8047 - val_loss: 0.5747 - val_accuracy: 0.7542\n",
      "Epoch 29/100\n",
      "30/30 [==============================] - 1s 16ms/step - loss: 0.4869 - accuracy: 0.8167 - val_loss: 0.5701 - val_accuracy: 0.7521\n",
      "Epoch 30/100\n",
      "30/30 [==============================] - 1s 17ms/step - loss: 0.4910 - accuracy: 0.8010 - val_loss: 0.5704 - val_accuracy: 0.7500\n",
      "Epoch 31/100\n",
      "30/30 [==============================] - 1s 17ms/step - loss: 0.4896 - accuracy: 0.8083 - val_loss: 0.5647 - val_accuracy: 0.7625\n",
      "Epoch 32/100\n",
      "30/30 [==============================] - 1s 18ms/step - loss: 0.4894 - accuracy: 0.8099 - val_loss: 0.5431 - val_accuracy: 0.7646\n",
      "Epoch 33/100\n",
      "30/30 [==============================] - 1s 17ms/step - loss: 0.4732 - accuracy: 0.8167 - val_loss: 0.5368 - val_accuracy: 0.7792\n",
      "Epoch 34/100\n",
      "30/30 [==============================] - 1s 17ms/step - loss: 0.4681 - accuracy: 0.8219 - val_loss: 0.5321 - val_accuracy: 0.7792\n",
      "Epoch 35/100\n",
      "30/30 [==============================] - 1s 17ms/step - loss: 0.4681 - accuracy: 0.8099 - val_loss: 0.5399 - val_accuracy: 0.7688\n",
      "Epoch 36/100\n",
      "30/30 [==============================] - 1s 17ms/step - loss: 0.4568 - accuracy: 0.8188 - val_loss: 0.5374 - val_accuracy: 0.7688\n",
      "Epoch 37/100\n",
      "30/30 [==============================] - 1s 17ms/step - loss: 0.4581 - accuracy: 0.8234 - val_loss: 0.5278 - val_accuracy: 0.7750\n",
      "Epoch 38/100\n",
      "30/30 [==============================] - 1s 17ms/step - loss: 0.4334 - accuracy: 0.8313 - val_loss: 0.5125 - val_accuracy: 0.7875\n",
      "Epoch 39/100\n",
      "30/30 [==============================] - 1s 17ms/step - loss: 0.4345 - accuracy: 0.8354 - val_loss: 0.5160 - val_accuracy: 0.7875\n",
      "Epoch 40/100\n",
      "30/30 [==============================] - 1s 17ms/step - loss: 0.4020 - accuracy: 0.8562 - val_loss: 0.5166 - val_accuracy: 0.7875\n",
      "Epoch 41/100\n",
      "30/30 [==============================] - 1s 17ms/step - loss: 0.4247 - accuracy: 0.8417 - val_loss: 0.5415 - val_accuracy: 0.7688\n",
      "Epoch 42/100\n",
      "30/30 [==============================] - 1s 17ms/step - loss: 0.4261 - accuracy: 0.8396 - val_loss: 0.5108 - val_accuracy: 0.7896\n",
      "Epoch 43/100\n",
      "30/30 [==============================] - 1s 18ms/step - loss: 0.4047 - accuracy: 0.8375 - val_loss: 0.5067 - val_accuracy: 0.7937\n",
      "Epoch 44/100\n",
      "30/30 [==============================] - 1s 17ms/step - loss: 0.4099 - accuracy: 0.8385 - val_loss: 0.5347 - val_accuracy: 0.7750\n",
      "Epoch 45/100\n",
      "30/30 [==============================] - 1s 18ms/step - loss: 0.4252 - accuracy: 0.8375 - val_loss: 0.6091 - val_accuracy: 0.7521\n",
      "Epoch 46/100\n",
      "30/30 [==============================] - 1s 16ms/step - loss: 0.4266 - accuracy: 0.8323 - val_loss: 0.5095 - val_accuracy: 0.7792\n",
      "Epoch 47/100\n",
      "30/30 [==============================] - 1s 17ms/step - loss: 0.4114 - accuracy: 0.8443 - val_loss: 0.5183 - val_accuracy: 0.7833\n",
      "Epoch 48/100\n",
      "30/30 [==============================] - 1s 17ms/step - loss: 0.3923 - accuracy: 0.8536 - val_loss: 0.5001 - val_accuracy: 0.7979\n",
      "Epoch 49/100\n",
      "30/30 [==============================] - 1s 17ms/step - loss: 0.3916 - accuracy: 0.8536 - val_loss: 0.5004 - val_accuracy: 0.7896\n",
      "Epoch 50/100\n",
      "30/30 [==============================] - 1s 17ms/step - loss: 0.4103 - accuracy: 0.8438 - val_loss: 0.4811 - val_accuracy: 0.7979\n",
      "Epoch 51/100\n",
      "30/30 [==============================] - 1s 17ms/step - loss: 0.3745 - accuracy: 0.8609 - val_loss: 0.5045 - val_accuracy: 0.7958\n",
      "Epoch 52/100\n",
      "30/30 [==============================] - 1s 17ms/step - loss: 0.3972 - accuracy: 0.8526 - val_loss: 0.5136 - val_accuracy: 0.7896\n",
      "Epoch 53/100\n",
      "30/30 [==============================] - 1s 17ms/step - loss: 0.3548 - accuracy: 0.8630 - val_loss: 0.4922 - val_accuracy: 0.7958\n",
      "Epoch 54/100\n",
      "30/30 [==============================] - 1s 18ms/step - loss: 0.3652 - accuracy: 0.8531 - val_loss: 0.4814 - val_accuracy: 0.8062\n",
      "Epoch 55/100\n",
      "30/30 [==============================] - 1s 17ms/step - loss: 0.3666 - accuracy: 0.8656 - val_loss: 0.4928 - val_accuracy: 0.7958\n",
      "Epoch 56/100\n",
      "30/30 [==============================] - 1s 17ms/step - loss: 0.3830 - accuracy: 0.8573 - val_loss: 0.4637 - val_accuracy: 0.8000\n",
      "Epoch 57/100\n",
      "30/30 [==============================] - 1s 17ms/step - loss: 0.3821 - accuracy: 0.8562 - val_loss: 0.4723 - val_accuracy: 0.8188\n",
      "Epoch 58/100\n",
      "30/30 [==============================] - 1s 17ms/step - loss: 0.3550 - accuracy: 0.8682 - val_loss: 0.4833 - val_accuracy: 0.7958\n",
      "Epoch 59/100\n",
      "30/30 [==============================] - 1s 17ms/step - loss: 0.3465 - accuracy: 0.8750 - val_loss: 0.4957 - val_accuracy: 0.7812\n",
      "Epoch 60/100\n",
      "30/30 [==============================] - 1s 17ms/step - loss: 0.3560 - accuracy: 0.8526 - val_loss: 0.4987 - val_accuracy: 0.7979\n",
      "Epoch 61/100\n",
      "30/30 [==============================] - 1s 18ms/step - loss: 0.3531 - accuracy: 0.8635 - val_loss: 0.4865 - val_accuracy: 0.8083\n",
      "Epoch 62/100\n",
      "30/30 [==============================] - 1s 17ms/step - loss: 0.3335 - accuracy: 0.8786 - val_loss: 0.4815 - val_accuracy: 0.8083\n",
      "Epoch 63/100\n",
      "30/30 [==============================] - 1s 17ms/step - loss: 0.3455 - accuracy: 0.8708 - val_loss: 0.4576 - val_accuracy: 0.8042\n",
      "Epoch 64/100\n",
      "30/30 [==============================] - 1s 17ms/step - loss: 0.3278 - accuracy: 0.8677 - val_loss: 0.4640 - val_accuracy: 0.8125\n",
      "Epoch 65/100\n",
      "30/30 [==============================] - 1s 17ms/step - loss: 0.3407 - accuracy: 0.8682 - val_loss: 0.4685 - val_accuracy: 0.8042\n",
      "Epoch 66/100\n",
      "30/30 [==============================] - 1s 17ms/step - loss: 0.3428 - accuracy: 0.8792 - val_loss: 0.4665 - val_accuracy: 0.8000\n",
      "Epoch 67/100\n",
      "30/30 [==============================] - 1s 17ms/step - loss: 0.3248 - accuracy: 0.8797 - val_loss: 0.4703 - val_accuracy: 0.8000\n",
      "Epoch 68/100\n",
      "30/30 [==============================] - 1s 17ms/step - loss: 0.3194 - accuracy: 0.8807 - val_loss: 0.4846 - val_accuracy: 0.7958\n",
      "Epoch 69/100\n",
      "30/30 [==============================] - 1s 17ms/step - loss: 0.3151 - accuracy: 0.8813 - val_loss: 0.4561 - val_accuracy: 0.8167\n",
      "Epoch 70/100\n",
      "30/30 [==============================] - 1s 17ms/step - loss: 0.3495 - accuracy: 0.8693 - val_loss: 0.4596 - val_accuracy: 0.8083\n",
      "Epoch 71/100\n",
      "30/30 [==============================] - 1s 17ms/step - loss: 0.3207 - accuracy: 0.8786 - val_loss: 0.5077 - val_accuracy: 0.7917\n",
      "Epoch 72/100\n",
      "30/30 [==============================] - 1s 17ms/step - loss: 0.3177 - accuracy: 0.8734 - val_loss: 0.4664 - val_accuracy: 0.8021\n",
      "Epoch 73/100\n",
      "30/30 [==============================] - 1s 16ms/step - loss: 0.3278 - accuracy: 0.8734 - val_loss: 0.4615 - val_accuracy: 0.8083\n",
      "Epoch 74/100\n",
      "30/30 [==============================] - 1s 17ms/step - loss: 0.3091 - accuracy: 0.8844 - val_loss: 0.4467 - val_accuracy: 0.8146\n",
      "Epoch 75/100\n",
      "30/30 [==============================] - 1s 17ms/step - loss: 0.3359 - accuracy: 0.8766 - val_loss: 0.4748 - val_accuracy: 0.8083\n",
      "Epoch 76/100\n",
      "30/30 [==============================] - 1s 17ms/step - loss: 0.3147 - accuracy: 0.8745 - val_loss: 0.4669 - val_accuracy: 0.8083\n",
      "Epoch 77/100\n",
      "30/30 [==============================] - 1s 17ms/step - loss: 0.3031 - accuracy: 0.8844 - val_loss: 0.4783 - val_accuracy: 0.8021\n",
      "Epoch 78/100\n",
      "30/30 [==============================] - 1s 17ms/step - loss: 0.3194 - accuracy: 0.8833 - val_loss: 0.5117 - val_accuracy: 0.7896\n",
      "Epoch 79/100\n",
      "30/30 [==============================] - 1s 18ms/step - loss: 0.2982 - accuracy: 0.8865 - val_loss: 0.4558 - val_accuracy: 0.8188\n",
      "Epoch 80/100\n",
      "30/30 [==============================] - 1s 16ms/step - loss: 0.3059 - accuracy: 0.8818 - val_loss: 0.4517 - val_accuracy: 0.8146\n",
      "Epoch 81/100\n",
      "30/30 [==============================] - 1s 17ms/step - loss: 0.3000 - accuracy: 0.8844 - val_loss: 0.4939 - val_accuracy: 0.8104\n",
      "Epoch 82/100\n",
      "30/30 [==============================] - 1s 17ms/step - loss: 0.2950 - accuracy: 0.8870 - val_loss: 0.4945 - val_accuracy: 0.8062\n",
      "Epoch 83/100\n",
      "30/30 [==============================] - 1s 18ms/step - loss: 0.2821 - accuracy: 0.8922 - val_loss: 0.4971 - val_accuracy: 0.8083\n",
      "Epoch 84/100\n",
      "30/30 [==============================] - 1s 18ms/step - loss: 0.2970 - accuracy: 0.8839 - val_loss: 0.4736 - val_accuracy: 0.8125\n",
      "Epoch 85/100\n",
      "30/30 [==============================] - 1s 18ms/step - loss: 0.3014 - accuracy: 0.8833 - val_loss: 0.4804 - val_accuracy: 0.8167\n",
      "Epoch 86/100\n",
      "30/30 [==============================] - 1s 25ms/step - loss: 0.2927 - accuracy: 0.8839 - val_loss: 0.4829 - val_accuracy: 0.7979\n",
      "Epoch 87/100\n",
      "30/30 [==============================] - 1s 19ms/step - loss: 0.2807 - accuracy: 0.8953 - val_loss: 0.5108 - val_accuracy: 0.8042\n",
      "Epoch 88/100\n",
      "30/30 [==============================] - 1s 17ms/step - loss: 0.2816 - accuracy: 0.8953 - val_loss: 0.4565 - val_accuracy: 0.8167\n",
      "Epoch 89/100\n",
      "29/30 [============================>.] - ETA: 0s - loss: 0.2775 - accuracy: 0.8847Restoring model weights from the end of the best epoch: 74.\n",
      "30/30 [==============================] - 1s 18ms/step - loss: 0.2744 - accuracy: 0.8865 - val_loss: 0.4618 - val_accuracy: 0.8167\n",
      "Epoch 89: early stopping\n"
     ]
    }
   ],
   "source": [
    "history = model.fit(\n",
    "    train_dataset,\n",
    "    epochs=epochs,\n",
    "    validation_data=val_dataset,\n",
    "    class_weight=class_weight,\n",
    "    callbacks=tf.keras.callbacks.EarlyStopping(verbose=1, patience=patience, restore_best_weights=True),\n",
    ")"
   ],
   "metadata": {
    "collapsed": false,
    "ExecuteTime": {
     "end_time": "2023-06-11T13:52:53.179794700Z",
     "start_time": "2023-06-11T13:52:03.989616400Z"
    }
   }
  },
  {
   "cell_type": "code",
   "execution_count": 12,
   "outputs": [
    {
     "name": "stdout",
     "output_type": "stream",
     "text": [
      "19/19 [==============================] - 0s 4ms/step\n",
      "Classification test set accuracy: 81%\n"
     ]
    }
   ],
   "source": [
    "# Evaluate the model\n",
    "test_features, y_true = test_dataset[0], test_dataset[1]\n",
    "y_pred = np.argmax(model.predict(test_features), axis=1)\n",
    "\n",
    "test_acc = accuracy_score(y_true, y_pred)\n",
    "print(f'Classification test set accuracy: {test_acc:0.00%}')"
   ],
   "metadata": {
    "collapsed": false,
    "ExecuteTime": {
     "end_time": "2023-06-11T13:52:53.415758800Z",
     "start_time": "2023-06-11T13:52:53.179794700Z"
    }
   }
  },
  {
   "cell_type": "raw",
   "source": [
    "# validation on desktop for STM32\n",
    "\n",
    "x_test = np.squeeze(test_features)\n",
    "np.savetxt('../../Dataset/x_test.csv', x_test.reshape(len(x_test), 39 * 33), delimiter=\",\")"
   ],
   "metadata": {
    "collapsed": false
   }
  },
  {
   "cell_type": "raw",
   "source": [
    "y_test = np.squeeze(y_true)\n",
    "# build a csv with 4 rows, each row is a class\n",
    "y_test = np.eye(len(class_dict), dtype=int)[y_test]\n",
    "# convert all the values to int\n",
    "np.savetxt('../../Dataset/y_test.csv', y_test, delimiter=\",\")"
   ],
   "metadata": {
    "collapsed": false
   }
  },
  {
   "cell_type": "code",
   "execution_count": 13,
   "outputs": [
    {
     "data": {
      "text/plain": "<Figure size 720x576 with 2 Axes>",
      "image/png": "[encoded data removed]"
     },
     "metadata": {
      "needs_background": "light"
     },
     "output_type": "display_data"
    }
   ],
   "source": [
    "labels = list(class_dict.keys())\n",
    "plot_confusion_matrix(labels, y_true, y_pred)"
   ],
   "metadata": {
    "collapsed": false,
    "ExecuteTime": {
     "end_time": "2023-06-11T13:52:53.589356700Z",
     "start_time": "2023-06-11T13:52:53.415758800Z"
    }
   }
  },
  {
   "cell_type": "code",
   "execution_count": 14,
   "outputs": [
    {
     "name": "stderr",
     "output_type": "stream",
     "text": [
      "WARNING:absl:Found untraced functions such as _jit_compiled_convolution_op, _jit_compiled_convolution_op, _jit_compiled_convolution_op, _jit_compiled_convolution_op, _update_step_xla while saving (showing 5 of 5). These functions will not be directly callable after loading.\n"
     ]
    },
    {
     "name": "stdout",
     "output_type": "stream",
     "text": [
      "INFO:tensorflow:Assets written to: ../../Models/model\\assets\n"
     ]
    },
    {
     "name": "stderr",
     "output_type": "stream",
     "text": [
      "INFO:tensorflow:Assets written to: ../../Models/model\\assets\n"
     ]
    },
    {
     "name": "stdout",
     "output_type": "stream",
     "text": [
      "Float model is 12584 bytes\n"
     ]
    }
   ],
   "source": [
    "# Compress the model\n",
    "model.save(MODEL_TF)\n",
    "convert_tf_lite(MODEL_TF, MODEL_NO_QUANT_TFLITE)"
   ],
   "metadata": {
    "collapsed": false,
    "ExecuteTime": {
     "end_time": "2023-06-11T13:52:55.333033500Z",
     "start_time": "2023-06-11T13:52:53.589356700Z"
    }
   }
  },
  {
   "cell_type": "code",
   "execution_count": 15,
   "outputs": [
    {
     "name": "stdout",
     "output_type": "stream",
     "text": [
      "Quantized model is 7968 bytes\n"
     ]
    }
   ],
   "source": [
    "def representative_dataset():\n",
    "  for feature, label in train_dataset.take(100):\n",
    "    yield {\n",
    "      \"input_1\": feature.numpy(),\n",
    "      \"label\": label.numpy(),\n",
    "    }\n",
    "convert_tf_lite_quantized(MODEL_TF, MODEL_TFLITE, representative_dataset, mode='8x8')"
   ],
   "metadata": {
    "collapsed": false,
    "ExecuteTime": {
     "end_time": "2023-06-11T13:52:56.357040600Z",
     "start_time": "2023-06-11T13:52:55.333033500Z"
    }
   }
  },
  {
   "cell_type": "code",
   "execution_count": 16,
   "outputs": [
    {
     "data": {
      "text/plain": "                                    Size                            \nModel                                                               \nTensorFlow                 4557571 bytes                            \nTensorFlow Lite             12584 bytes   (reduced by 4544987 bytes)\nTensorFlow Lite Quantized     7968 bytes     (reduced by 4616 bytes)",
      "text/html": "<div>\n<style scoped>\n    .dataframe tbody tr th:only-of-type {\n        vertical-align: middle;\n    }\n\n    .dataframe tbody tr th {\n        vertical-align: top;\n    }\n\n    .dataframe thead th {\n        text-align: right;\n    }\n</style>\n<table border=\"1\" class=\"dataframe\">\n  <thead>\n    <tr style=\"text-align: right;\">\n      <th></th>\n      <th>Size</th>\n      <th></th>\n    </tr>\n    <tr>\n      <th>Model</th>\n      <th></th>\n      <th></th>\n    </tr>\n  </thead>\n  <tbody>\n    <tr>\n      <th>TensorFlow</th>\n      <td>4557571 bytes</td>\n      <td></td>\n    </tr>\n    <tr>\n      <th>TensorFlow Lite</th>\n      <td>12584 bytes</td>\n      <td>(reduced by 4544987 bytes)</td>\n    </tr>\n    <tr>\n      <th>TensorFlow Lite Quantized</th>\n      <td>7968 bytes</td>\n      <td>(reduced by 4616 bytes)</td>\n    </tr>\n  </tbody>\n</table>\n</div>"
     },
     "execution_count": 16,
     "metadata": {},
     "output_type": "execute_result"
    }
   ],
   "source": [
    "compare_size(model, batch_size, MODEL_NO_QUANT_TFLITE, MODEL_TFLITE)"
   ],
   "metadata": {
    "collapsed": false,
    "ExecuteTime": {
     "end_time": "2023-06-11T13:52:56.406169Z",
     "start_time": "2023-06-11T13:52:56.358038800Z"
    }
   }
  },
  {
   "cell_type": "code",
   "execution_count": 17,
   "outputs": [
    {
     "name": "stdout",
     "output_type": "stream",
     "text": [
      "              precision    recall  f1-score   support\n",
      "\n",
      "           0     0.7401    0.9032    0.8136       186\n",
      "           1     0.8358    0.8155    0.8256       206\n",
      "           2     0.8837    0.7308    0.8000       208\n",
      "\n",
      "    accuracy                         0.8133       600\n",
      "   macro avg     0.8199    0.8165    0.8130       600\n",
      "weighted avg     0.8227    0.8133    0.8130       600\n",
      "\n"
     ]
    }
   ],
   "source": [
    "y_pred_float = predict_tflite(MODEL_NO_QUANT_TFLITE, test_features, y_true, model_type=\"Float\", loss=\"categorical_crossentropy\")"
   ],
   "metadata": {
    "collapsed": false,
    "ExecuteTime": {
     "end_time": "2023-06-11T13:52:56.423002500Z",
     "start_time": "2023-06-11T13:52:56.406169Z"
    }
   }
  },
  {
   "cell_type": "code",
   "execution_count": 18,
   "outputs": [
    {
     "name": "stdout",
     "output_type": "stream",
     "text": [
      "              precision    recall  f1-score   support\n",
      "\n",
      "           0     0.7325    0.8978    0.8068       186\n",
      "           1     0.8038    0.8155    0.8096       206\n",
      "           2     0.8834    0.6923    0.7763       208\n",
      "\n",
      "    accuracy                         0.7983       600\n",
      "   macro avg     0.8066    0.8019    0.7976       600\n",
      "weighted avg     0.8093    0.7983    0.7972       600\n",
      "\n"
     ]
    }
   ],
   "source": [
    "y_pred_quant = predict_tflite(MODEL_TFLITE, test_features, y_true, model_type=\"Quantized\", loss=\"categorical_crossentropy\")"
   ],
   "metadata": {
    "collapsed": false,
    "ExecuteTime": {
     "end_time": "2023-06-11T13:52:56.531713600Z",
     "start_time": "2023-06-11T13:52:56.423002500Z"
    }
   }
  },
  {
   "cell_type": "code",
   "execution_count": null,
   "outputs": [],
   "source": [],
   "metadata": {
    "collapsed": false
   }
  },
  {
   "cell_type": "code",
   "execution_count": null,
   "outputs": [],
   "source": [],
   "metadata": {
    "collapsed": false
   }
  }
 ],
 "metadata": {
  "kernelspec": {
   "display_name": "Python 3",
   "language": "python",
   "name": "python3"
  },
  "language_info": {
   "codemirror_mode": {
    "name": "ipython",
    "version": 2
   },
   "file_extension": ".py",
   "mimetype": "text/x-python",
   "name": "python",
   "nbconvert_exporter": "python",
   "pygments_lexer": "ipython2",
   "version": "2.7.6"
  }
 },
 "nbformat": 4,
 "nbformat_minor": 0
}
