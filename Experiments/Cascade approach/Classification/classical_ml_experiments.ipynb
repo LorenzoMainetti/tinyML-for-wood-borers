{
 "cells": [
  {
   "cell_type": "code",
   "execution_count": 1,
   "metadata": {
    "collapsed": true,
    "ExecuteTime": {
     "end_time": "2023-06-24T13:23:03.037021900Z",
     "start_time": "2023-06-24T13:22:46.595848400Z"
    }
   },
   "outputs": [],
   "source": [
    "import sys\n",
    "\n",
    "sys.path.append('../../../')\n",
    "\n",
    "import glob\n",
    "import pickle\n",
    "import numpy as np\n",
    "import pandas as pd\n",
    "import pywt\n",
    "from micromlgen import port\n",
    "import librosa\n",
    "from scipy.stats import skew\n",
    "from sklearn.svm import OneClassSVM, SVC\n",
    "from sklearn.model_selection import train_test_split\n",
    "from sklearn.metrics import classification_report\n",
    "from sklearn.preprocessing import StandardScaler, normalize\n",
    "from sklearn.decomposition import PCA\n",
    "from sklearn_rvm.em_rvm import EMRVC\n",
    "from Pipeline.Cascade.Detection.optimization import detection_report\n",
    "from Pipeline.filtering import butter_bandpass_filter\n",
    "from Pipeline.evaluation import plot_confusion_matrix\n",
    "from Pipeline.Cascade.Classification.sefr import SEFRMultiClass"
   ]
  },
  {
   "cell_type": "code",
   "execution_count": 2,
   "outputs": [
    {
     "data": {
      "text/plain": "Generator(PCG64) at 0x25CCA872260"
     },
     "execution_count": 2,
     "metadata": {},
     "output_type": "execute_result"
    }
   ],
   "source": [
    "# Set seed for experiment reproducibility\n",
    "seed = 1\n",
    "np.random.default_rng(seed)"
   ],
   "metadata": {
    "collapsed": false,
    "ExecuteTime": {
     "end_time": "2023-06-24T13:23:03.052686Z",
     "start_time": "2023-06-24T13:23:03.037021900Z"
    }
   }
  },
  {
   "cell_type": "code",
   "execution_count": null,
   "outputs": [],
   "source": [
    "extract_autocorr = lambda signal: librosa.autocorrelate(signal)\n",
    "(ca, cd) = lambda signal: pywt.dwt(signal, 'db1')"
   ],
   "metadata": {
    "collapsed": false
   }
  },
  {
   "cell_type": "code",
   "execution_count": null,
   "outputs": [],
   "source": [
    "def autocorr(x):\n",
    "    n = x.size\n",
    "    norm = (x - np.mean(x))\n",
    "    result = np.correlate(norm, norm, mode='same')\n",
    "    acorr = result[n//2 + 1:] / (x.var() * np.arange(n-1, n//2, -1))\n",
    "    lag = np.abs(acorr).argmax() + 1\n",
    "    r = acorr[lag-1]\n",
    "    if np.abs(r) > 0.5:\n",
    "      print('Appears to be autocorrelated with r = {}, lag = {}'. format(r, lag))\n",
    "    else:\n",
    "      print('Appears to be not autocorrelated')\n",
    "    return r, lag"
   ],
   "metadata": {
    "collapsed": false
   }
  },
  {
   "cell_type": "code",
   "execution_count": null,
   "outputs": [],
   "source": [],
   "metadata": {
    "collapsed": false
   }
  },
  {
   "cell_type": "code",
   "execution_count": null,
   "outputs": [],
   "source": [],
   "metadata": {
    "collapsed": false
   }
  },
  {
   "cell_type": "code",
   "execution_count": 3,
   "outputs": [],
   "source": [
    "# Generate mfcc features with mean and standard deviation\n",
    "def get_mfcc(signal, sr):\n",
    "    ft1 = librosa.feature.mfcc(y=signal, sr=sr, n_mfcc=30).astype(np.float32)\n",
    "    ft2 = librosa.feature.zero_crossing_rate(y=signal)[0].astype(np.float32)\n",
    "    ft3 = librosa.feature.rms(y=signal)[0].astype(np.float32)\n",
    "    ft4 = librosa.feature.spectral_rolloff(y=signal)[0].astype(np.float32)\n",
    "    ft5 = librosa.feature.spectral_centroid(y=signal)[0].astype(np.float32)\n",
    "    ft6 = librosa.feature.spectral_contrast(y=signal)[0].astype(np.float32)\n",
    "    ft7 = librosa.feature.spectral_bandwidth(y=signal)[0].astype(np.float32)\n",
    "\n",
    "    ft1_trunc = np.hstack((np.mean(ft1, axis=1), np.std(ft1, axis=1), skew(ft1, axis = 1), np.max(ft1, axis = 1), np.median(ft1, axis = 1), np.min(ft1, axis = 1)))\n",
    "    ft2_trunc = np.hstack((np.mean(ft2), np.std(ft2), skew(ft2), np.max(ft2), np.median(ft2), np.min(ft2)))\n",
    "    ft3_trunc = np.hstack((np.mean(ft3), np.std(ft3), skew(ft3), np.max(ft3), np.median(ft3), np.min(ft3)))\n",
    "    ft4_trunc = np.hstack((np.mean(ft4), np.std(ft4), skew(ft4), np.max(ft4), np.median(ft4), np.min(ft4)))\n",
    "    ft5_trunc = np.hstack((np.mean(ft5), np.std(ft5), skew(ft5), np.max(ft5), np.median(ft5), np.min(ft5)))\n",
    "    ft6_trunc = np.hstack((np.mean(ft6), np.std(ft6), skew(ft6), np.max(ft6), np.median(ft6), np.max(ft6)))\n",
    "    ft7_trunc = np.hstack((np.mean(ft7), np.std(ft7), skew(ft7), np.max(ft7), np.median(ft7), np.max(ft7)))\n",
    "    return pd.Series(np.hstack((ft1_trunc, ft2_trunc, ft3_trunc, ft4_trunc, ft5_trunc, ft6_trunc, ft7_trunc)))"
   ],
   "metadata": {
    "collapsed": false,
    "ExecuteTime": {
     "end_time": "2023-06-24T13:23:03.099606500Z",
     "start_time": "2023-06-24T13:23:03.052686Z"
    }
   }
  },
  {
   "cell_type": "code",
   "execution_count": 4,
   "outputs": [],
   "source": [
    "def extract_features(path, one_class=False):\n",
    "    features = []\n",
    "    labels = []\n",
    "\n",
    "    for file in glob.glob(f'{path}', recursive=True):\n",
    "        signal, sr = librosa.load(file, sr=44100)\n",
    "        signal = butter_bandpass_filter(signal, 200, 20000, sr, 2)\n",
    "        features.append(get_mfcc(signal, sr))\n",
    "        if one_class:\n",
    "            if 'background' in file:\n",
    "                labels.append(-1)\n",
    "            else:\n",
    "                labels.append(1)\n",
    "        else:\n",
    "            if 'Background' in file:\n",
    "                labels.append(0)\n",
    "            elif 'Big mandibles' in file:\n",
    "                labels.append(1)\n",
    "            elif 'Small mandibles' in file:\n",
    "                labels.append(2)\n",
    "\n",
    "    return np.asarray(features), np.asarray(labels)\n"
   ],
   "metadata": {
    "collapsed": false,
    "ExecuteTime": {
     "end_time": "2023-06-24T13:23:03.115160900Z",
     "start_time": "2023-06-24T13:23:03.068314500Z"
    }
   }
  },
  {
   "cell_type": "code",
   "execution_count": 6,
   "outputs": [
    {
     "data": {
      "text/plain": "array([[-6.19604065e+02,  3.64511604e+01,  7.64081776e-01, ...,\n         3.01480176e+03,  2.97012769e+03,  3.01480176e+03],\n       [-6.51916016e+02,  4.75715866e+01, -2.06579151e+01, ...,\n         2.67317993e+03,  2.66407593e+03,  2.67317993e+03],\n       [-5.62815063e+02,  1.02959129e+02, -7.19623260e+01, ...,\n         2.10999341e+03,  1.97896021e+03,  2.10999341e+03],\n       ...,\n       [-6.13615234e+02,  2.42212105e+01, -7.03043509e+00, ...,\n         3.00191479e+03,  2.97541821e+03,  3.00191479e+03],\n       [-4.68278412e+02,  4.51767540e+00, -9.62499905e+00, ...,\n         2.94684204e+03,  2.84444556e+03,  2.94684204e+03],\n       [-6.42090149e+02,  7.90605087e+01, -6.63767395e+01, ...,\n         2.21561865e+03,  1.91287109e+03,  2.21561865e+03]])"
     },
     "execution_count": 6,
     "metadata": {},
     "output_type": "execute_result"
    }
   ],
   "source": [
    "features, labels = extract_features(\"../../../Dataset/Final dataset/Generation/Generated dataset/**/*.wav\", one_class=False)\n",
    "features"
   ],
   "metadata": {
    "collapsed": false,
    "ExecuteTime": {
     "end_time": "2023-06-24T13:27:48.836773500Z",
     "start_time": "2023-06-24T13:23:31.431516800Z"
    }
   }
  },
  {
   "cell_type": "code",
   "execution_count": 19,
   "outputs": [
    {
     "data": {
      "text/plain": "array([[ 0.02717879,  0.08137403,  1.03015441, ...,  0.85942507,\n         1.07355306,  0.85942507],\n       [-0.46473224,  0.43221887,  0.33839211, ...,  0.0120385 ,\n         0.37546662,  0.0120385 ],\n       [ 0.89172381,  2.17967287, -1.31833752, ..., -1.38493517,\n        -1.18724291, -1.38493517],\n       ...,\n       [ 0.11835162, -0.30447582,  0.77845272, ...,  0.8274592 ,\n         1.08562045,  0.8274592 ],\n       [ 2.33093192, -0.92611418,  0.69466867, ...,  0.69085226,\n         0.78687936,  0.69085226],\n       [-0.3151451 ,  1.4256813 , -1.13796693, ..., -1.12293372,\n        -1.33798837, -1.12293372]])"
     },
     "execution_count": 19,
     "metadata": {},
     "output_type": "execute_result"
    }
   ],
   "source": [
    "features"
   ],
   "metadata": {
    "collapsed": false,
    "ExecuteTime": {
     "end_time": "2023-06-28T11:34:29.176019300Z",
     "start_time": "2023-06-28T11:34:29.144714400Z"
    }
   }
  },
  {
   "cell_type": "code",
   "execution_count": 7,
   "outputs": [],
   "source": [
    "scaler = StandardScaler()\n",
    "features = scaler.fit_transform(features)"
   ],
   "metadata": {
    "collapsed": false,
    "ExecuteTime": {
     "end_time": "2023-06-24T13:27:48.863475300Z",
     "start_time": "2023-06-24T13:27:48.837774500Z"
    }
   }
  },
  {
   "cell_type": "code",
   "execution_count": 8,
   "outputs": [
    {
     "name": "stdout",
     "output_type": "stream",
     "text": [
      "0.5634463568495978\n"
     ]
    }
   ],
   "source": [
    "# Apply PCA for dimension reduction\n",
    "pca = PCA(n_components=50).fit(features)\n",
    "features_pca = pca.transform(features)\n",
    "\n",
    "print(sum(pca.explained_variance_ratio_))"
   ],
   "metadata": {
    "collapsed": false,
    "ExecuteTime": {
     "end_time": "2023-06-24T13:27:48.935600700Z",
     "start_time": "2023-06-24T13:27:48.855467900Z"
    }
   }
  },
  {
   "cell_type": "markdown",
   "source": [
    "# Multi-class SVM"
   ],
   "metadata": {
    "collapsed": false
   }
  },
  {
   "cell_type": "code",
   "execution_count": 10,
   "outputs": [],
   "source": [
    "X_train, X_test, y_train, y_test = train_test_split(features, labels, test_size=0.2, random_state=seed)"
   ],
   "metadata": {
    "collapsed": false,
    "ExecuteTime": {
     "end_time": "2023-06-24T13:27:48.960637900Z",
     "start_time": "2023-06-24T13:27:48.906842700Z"
    }
   }
  },
  {
   "cell_type": "code",
   "execution_count": 60,
   "outputs": [
    {
     "data": {
      "text/plain": "SVC(gamma='auto')",
      "text/html": "<style>#sk-container-id-6 {color: black;background-color: white;}#sk-container-id-6 pre{padding: 0;}#sk-container-id-6 div.sk-toggleable {background-color: white;}#sk-container-id-6 label.sk-toggleable__label {cursor: pointer;display: block;width: 100%;margin-bottom: 0;padding: 0.3em;box-sizing: border-box;text-align: center;}#sk-container-id-6 label.sk-toggleable__label-arrow:before {content: \"▸\";float: left;margin-right: 0.25em;color: #696969;}#sk-container-id-6 label.sk-toggleable__label-arrow:hover:before {color: black;}#sk-container-id-6 div.sk-estimator:hover label.sk-toggleable__label-arrow:before {color: black;}#sk-container-id-6 div.sk-toggleable__content {max-height: 0;max-width: 0;overflow: hidden;text-align: left;background-color: #f0f8ff;}#sk-container-id-6 div.sk-toggleable__content pre {margin: 0.2em;color: black;border-radius: 0.25em;background-color: #f0f8ff;}#sk-container-id-6 input.sk-toggleable__control:checked~div.sk-toggleable__content {max-height: 200px;max-width: 100%;overflow: auto;}#sk-container-id-6 input.sk-toggleable__control:checked~label.sk-toggleable__label-arrow:before {content: \"▾\";}#sk-container-id-6 div.sk-estimator input.sk-toggleable__control:checked~label.sk-toggleable__label {background-color: #d4ebff;}#sk-container-id-6 div.sk-label input.sk-toggleable__control:checked~label.sk-toggleable__label {background-color: #d4ebff;}#sk-container-id-6 input.sk-hidden--visually {border: 0;clip: rect(1px 1px 1px 1px);clip: rect(1px, 1px, 1px, 1px);height: 1px;margin: -1px;overflow: hidden;padding: 0;position: absolute;width: 1px;}#sk-container-id-6 div.sk-estimator {font-family: monospace;background-color: #f0f8ff;border: 1px dotted black;border-radius: 0.25em;box-sizing: border-box;margin-bottom: 0.5em;}#sk-container-id-6 div.sk-estimator:hover {background-color: #d4ebff;}#sk-container-id-6 div.sk-parallel-item::after {content: \"\";width: 100%;border-bottom: 1px solid gray;flex-grow: 1;}#sk-container-id-6 div.sk-label:hover label.sk-toggleable__label {background-color: #d4ebff;}#sk-container-id-6 div.sk-serial::before {content: \"\";position: absolute;border-left: 1px solid gray;box-sizing: border-box;top: 0;bottom: 0;left: 50%;z-index: 0;}#sk-container-id-6 div.sk-serial {display: flex;flex-direction: column;align-items: center;background-color: white;padding-right: 0.2em;padding-left: 0.2em;position: relative;}#sk-container-id-6 div.sk-item {position: relative;z-index: 1;}#sk-container-id-6 div.sk-parallel {display: flex;align-items: stretch;justify-content: center;background-color: white;position: relative;}#sk-container-id-6 div.sk-item::before, #sk-container-id-6 div.sk-parallel-item::before {content: \"\";position: absolute;border-left: 1px solid gray;box-sizing: border-box;top: 0;bottom: 0;left: 50%;z-index: -1;}#sk-container-id-6 div.sk-parallel-item {display: flex;flex-direction: column;z-index: 1;position: relative;background-color: white;}#sk-container-id-6 div.sk-parallel-item:first-child::after {align-self: flex-end;width: 50%;}#sk-container-id-6 div.sk-parallel-item:last-child::after {align-self: flex-start;width: 50%;}#sk-container-id-6 div.sk-parallel-item:only-child::after {width: 0;}#sk-container-id-6 div.sk-dashed-wrapped {border: 1px dashed gray;margin: 0 0.4em 0.5em 0.4em;box-sizing: border-box;padding-bottom: 0.4em;background-color: white;}#sk-container-id-6 div.sk-label label {font-family: monospace;font-weight: bold;display: inline-block;line-height: 1.2em;}#sk-container-id-6 div.sk-label-container {text-align: center;}#sk-container-id-6 div.sk-container {/* jupyter's `normalize.less` sets `[hidden] { display: none; }` but bootstrap.min.css set `[hidden] { display: none !important; }` so we also need the `!important` here to be able to override the default hidden behavior on the sphinx rendered scikit-learn.org. See: https://github.com/scikit-learn/scikit-learn/issues/21755 */display: inline-block !important;position: relative;}#sk-container-id-6 div.sk-text-repr-fallback {display: none;}</style><div id=\"sk-container-id-6\" class=\"sk-top-container\"><div class=\"sk-text-repr-fallback\"><pre>SVC(gamma=&#x27;auto&#x27;)</pre><b>In a Jupyter environment, please rerun this cell to show the HTML representation or trust the notebook. <br />On GitHub, the HTML representation is unable to render, please try loading this page with nbviewer.org.</b></div><div class=\"sk-container\" hidden><div class=\"sk-item\"><div class=\"sk-estimator sk-toggleable\"><input class=\"sk-toggleable__control sk-hidden--visually\" id=\"sk-estimator-id-6\" type=\"checkbox\" checked><label for=\"sk-estimator-id-6\" class=\"sk-toggleable__label sk-toggleable__label-arrow\">SVC</label><div class=\"sk-toggleable__content\"><pre>SVC(gamma=&#x27;auto&#x27;)</pre></div></div></div></div></div>"
     },
     "execution_count": 60,
     "metadata": {},
     "output_type": "execute_result"
    }
   ],
   "source": [
    "clf = SVC(gamma='auto')\n",
    "clf.fit(X_train, y_train)"
   ],
   "metadata": {
    "collapsed": false,
    "ExecuteTime": {
     "end_time": "2023-06-24T11:07:05.862943Z",
     "start_time": "2023-06-24T11:07:05.142420300Z"
    }
   }
  },
  {
   "cell_type": "code",
   "execution_count": 61,
   "outputs": [
    {
     "name": "stdout",
     "output_type": "stream",
     "text": [
      "              precision    recall  f1-score   support\n",
      "\n",
      "           0       0.67      0.89      0.76       186\n",
      "           1       0.86      0.68      0.76       206\n",
      "           2       0.80      0.74      0.77       208\n",
      "\n",
      "    accuracy                           0.76       600\n",
      "   macro avg       0.78      0.77      0.76       600\n",
      "weighted avg       0.78      0.76      0.76       600\n",
      "\n"
     ]
    }
   ],
   "source": [
    "prediction = clf.predict(X_test)\n",
    "print(classification_report(np.asarray(y_test), prediction))"
   ],
   "metadata": {
    "collapsed": false,
    "ExecuteTime": {
     "end_time": "2023-06-24T11:07:06.189485900Z",
     "start_time": "2023-06-24T11:07:05.974781200Z"
    }
   }
  },
  {
   "cell_type": "code",
   "execution_count": null,
   "outputs": [],
   "source": [
    "pickle.dump(clf, open('../../../Models/baseline/svm/svm_model.sav', 'wb'))\n",
    "pickle.dump(port(clf), open('../../../Models/baseline/svm/svm_model.c', 'wb'))"
   ],
   "metadata": {
    "collapsed": false
   }
  },
  {
   "cell_type": "markdown",
   "source": [
    "# One-class SVM: Background vs Insect Classes"
   ],
   "metadata": {
    "collapsed": false
   }
  },
  {
   "cell_type": "code",
   "execution_count": null,
   "outputs": [],
   "source": [
    "X = features[labels == 1]\n",
    "y = labels[labels == 1]\n",
    "\n",
    "X_train, X_test, y_train, y_test = train_test_split(X, y, test_size=0.2, random_state=seed)"
   ],
   "metadata": {
    "collapsed": false
   }
  },
  {
   "cell_type": "code",
   "execution_count": 48,
   "outputs": [
    {
     "data": {
      "text/plain": "OneClassSVM(gamma='auto')",
      "text/html": "<style>#sk-container-id-4 {color: black;background-color: white;}#sk-container-id-4 pre{padding: 0;}#sk-container-id-4 div.sk-toggleable {background-color: white;}#sk-container-id-4 label.sk-toggleable__label {cursor: pointer;display: block;width: 100%;margin-bottom: 0;padding: 0.3em;box-sizing: border-box;text-align: center;}#sk-container-id-4 label.sk-toggleable__label-arrow:before {content: \"▸\";float: left;margin-right: 0.25em;color: #696969;}#sk-container-id-4 label.sk-toggleable__label-arrow:hover:before {color: black;}#sk-container-id-4 div.sk-estimator:hover label.sk-toggleable__label-arrow:before {color: black;}#sk-container-id-4 div.sk-toggleable__content {max-height: 0;max-width: 0;overflow: hidden;text-align: left;background-color: #f0f8ff;}#sk-container-id-4 div.sk-toggleable__content pre {margin: 0.2em;color: black;border-radius: 0.25em;background-color: #f0f8ff;}#sk-container-id-4 input.sk-toggleable__control:checked~div.sk-toggleable__content {max-height: 200px;max-width: 100%;overflow: auto;}#sk-container-id-4 input.sk-toggleable__control:checked~label.sk-toggleable__label-arrow:before {content: \"▾\";}#sk-container-id-4 div.sk-estimator input.sk-toggleable__control:checked~label.sk-toggleable__label {background-color: #d4ebff;}#sk-container-id-4 div.sk-label input.sk-toggleable__control:checked~label.sk-toggleable__label {background-color: #d4ebff;}#sk-container-id-4 input.sk-hidden--visually {border: 0;clip: rect(1px 1px 1px 1px);clip: rect(1px, 1px, 1px, 1px);height: 1px;margin: -1px;overflow: hidden;padding: 0;position: absolute;width: 1px;}#sk-container-id-4 div.sk-estimator {font-family: monospace;background-color: #f0f8ff;border: 1px dotted black;border-radius: 0.25em;box-sizing: border-box;margin-bottom: 0.5em;}#sk-container-id-4 div.sk-estimator:hover {background-color: #d4ebff;}#sk-container-id-4 div.sk-parallel-item::after {content: \"\";width: 100%;border-bottom: 1px solid gray;flex-grow: 1;}#sk-container-id-4 div.sk-label:hover label.sk-toggleable__label {background-color: #d4ebff;}#sk-container-id-4 div.sk-serial::before {content: \"\";position: absolute;border-left: 1px solid gray;box-sizing: border-box;top: 0;bottom: 0;left: 50%;z-index: 0;}#sk-container-id-4 div.sk-serial {display: flex;flex-direction: column;align-items: center;background-color: white;padding-right: 0.2em;padding-left: 0.2em;position: relative;}#sk-container-id-4 div.sk-item {position: relative;z-index: 1;}#sk-container-id-4 div.sk-parallel {display: flex;align-items: stretch;justify-content: center;background-color: white;position: relative;}#sk-container-id-4 div.sk-item::before, #sk-container-id-4 div.sk-parallel-item::before {content: \"\";position: absolute;border-left: 1px solid gray;box-sizing: border-box;top: 0;bottom: 0;left: 50%;z-index: -1;}#sk-container-id-4 div.sk-parallel-item {display: flex;flex-direction: column;z-index: 1;position: relative;background-color: white;}#sk-container-id-4 div.sk-parallel-item:first-child::after {align-self: flex-end;width: 50%;}#sk-container-id-4 div.sk-parallel-item:last-child::after {align-self: flex-start;width: 50%;}#sk-container-id-4 div.sk-parallel-item:only-child::after {width: 0;}#sk-container-id-4 div.sk-dashed-wrapped {border: 1px dashed gray;margin: 0 0.4em 0.5em 0.4em;box-sizing: border-box;padding-bottom: 0.4em;background-color: white;}#sk-container-id-4 div.sk-label label {font-family: monospace;font-weight: bold;display: inline-block;line-height: 1.2em;}#sk-container-id-4 div.sk-label-container {text-align: center;}#sk-container-id-4 div.sk-container {/* jupyter's `normalize.less` sets `[hidden] { display: none; }` but bootstrap.min.css set `[hidden] { display: none !important; }` so we also need the `!important` here to be able to override the default hidden behavior on the sphinx rendered scikit-learn.org. See: https://github.com/scikit-learn/scikit-learn/issues/21755 */display: inline-block !important;position: relative;}#sk-container-id-4 div.sk-text-repr-fallback {display: none;}</style><div id=\"sk-container-id-4\" class=\"sk-top-container\"><div class=\"sk-text-repr-fallback\"><pre>OneClassSVM(gamma=&#x27;auto&#x27;)</pre><b>In a Jupyter environment, please rerun this cell to show the HTML representation or trust the notebook. <br />On GitHub, the HTML representation is unable to render, please try loading this page with nbviewer.org.</b></div><div class=\"sk-container\" hidden><div class=\"sk-item\"><div class=\"sk-estimator sk-toggleable\"><input class=\"sk-toggleable__control sk-hidden--visually\" id=\"sk-estimator-id-4\" type=\"checkbox\" checked><label for=\"sk-estimator-id-4\" class=\"sk-toggleable__label sk-toggleable__label-arrow\">OneClassSVM</label><div class=\"sk-toggleable__content\"><pre>OneClassSVM(gamma=&#x27;auto&#x27;)</pre></div></div></div></div></div>"
     },
     "execution_count": 48,
     "metadata": {},
     "output_type": "execute_result"
    }
   ],
   "source": [
    "clf = OneClassSVM(gamma='auto')\n",
    "clf.fit(X_train)"
   ],
   "metadata": {
    "collapsed": false
   }
  },
  {
   "cell_type": "code",
   "execution_count": 49,
   "outputs": [
    {
     "name": "stdout",
     "output_type": "stream",
     "text": [
      "              precision    recall  f1-score   support\n",
      "\n",
      "          -1       0.00      0.00      0.00         0\n",
      "           1       1.00      0.40      0.57       120\n",
      "\n",
      "    accuracy                           0.40       120\n",
      "   macro avg       0.50      0.20      0.29       120\n",
      "weighted avg       1.00      0.40      0.57       120\n",
      "\n"
     ]
    },
    {
     "name": "stderr",
     "output_type": "stream",
     "text": [
      "C:\\Users\\loren\\anaconda3\\envs\\tinyML-thesis\\lib\\site-packages\\sklearn\\metrics\\_classification.py:1327: UndefinedMetricWarning: Recall and F-score are ill-defined and being set to 0.0 in labels with no true samples. Use `zero_division` parameter to control this behavior.\n",
      "  _warn_prf(average, modifier, msg_start, len(result))\n",
      "C:\\Users\\loren\\anaconda3\\envs\\tinyML-thesis\\lib\\site-packages\\sklearn\\metrics\\_classification.py:1327: UndefinedMetricWarning: Recall and F-score are ill-defined and being set to 0.0 in labels with no true samples. Use `zero_division` parameter to control this behavior.\n",
      "  _warn_prf(average, modifier, msg_start, len(result))\n",
      "C:\\Users\\loren\\anaconda3\\envs\\tinyML-thesis\\lib\\site-packages\\sklearn\\metrics\\_classification.py:1327: UndefinedMetricWarning: Recall and F-score are ill-defined and being set to 0.0 in labels with no true samples. Use `zero_division` parameter to control this behavior.\n",
      "  _warn_prf(average, modifier, msg_start, len(result))\n"
     ]
    }
   ],
   "source": [
    "prediction = clf.predict(X_test)\n",
    "print(classification_report(y_test, prediction))"
   ],
   "metadata": {
    "collapsed": false
   }
  },
  {
   "cell_type": "code",
   "execution_count": 8,
   "outputs": [],
   "source": [
    "X_test = np.vstack((X_test, features[labels == -1][0:20]))\n",
    "y_test = np.hstack((y_test, labels[labels == -1][0:20]))"
   ],
   "metadata": {
    "collapsed": false
   }
  },
  {
   "cell_type": "code",
   "execution_count": 9,
   "outputs": [],
   "source": [
    "def unison_shuffled_copies(a, b):\n",
    "    assert len(a) == len(b)\n",
    "    p = np.random.permutation(len(a))\n",
    "    return a[p], b[p]"
   ],
   "metadata": {
    "collapsed": false
   }
  },
  {
   "cell_type": "code",
   "execution_count": 10,
   "outputs": [],
   "source": [
    "X_test, y_test = unison_shuffled_copies(X_test, y_test)"
   ],
   "metadata": {
    "collapsed": false
   }
  },
  {
   "cell_type": "code",
   "execution_count": 53,
   "outputs": [
    {
     "name": "stdout",
     "output_type": "stream",
     "text": [
      "              precision    recall  f1-score   support\n",
      "\n",
      "          -1       0.09      0.35      0.14        20\n",
      "           1       0.79      0.40      0.53       120\n",
      "\n",
      "    accuracy                           0.39       140\n",
      "   macro avg       0.44      0.38      0.34       140\n",
      "weighted avg       0.69      0.39      0.47       140\n",
      "\n"
     ]
    }
   ],
   "source": [
    "prediction = clf.predict(X_test)\n",
    "print(classification_report(y_test, prediction))"
   ],
   "metadata": {
    "collapsed": false
   }
  },
  {
   "cell_type": "code",
   "execution_count": 54,
   "outputs": [
    {
     "name": "stdout",
     "output_type": "stream",
     "text": [
      "\n",
      "Evaluation on the test set:\n",
      "False alarm prob: 65.0%\n",
      "Miss detection prob: 60.0%\n",
      "Number of False Positives: 13\n",
      "Number of False Negatives: 72\n",
      "Detector f1-score is 53.038674%\n",
      "\n",
      "Other Metrics:\n",
      "Detector accuracy is 39.285714%\n",
      "Detector precision is 78.688525%\n",
      "Detector recall is 40.000000%\n"
     ]
    }
   ],
   "source": [
    "y_true = y_test.copy()\n",
    "y_pred = prediction.copy()\n",
    "\n",
    "y_true[y_true == -1] = 0\n",
    "y_pred[y_pred == -1] = 0\n",
    "detection_report(y_true, y_pred)"
   ],
   "metadata": {
    "collapsed": false
   }
  },
  {
   "cell_type": "markdown",
   "source": [
    "# One-class SVM: Ensemble"
   ],
   "metadata": {
    "collapsed": false
   }
  },
  {
   "cell_type": "code",
   "execution_count": 20,
   "outputs": [],
   "source": [
    "classes = ['Background', 'Big mandibles', 'Small mandibles']"
   ],
   "metadata": {
    "collapsed": false,
    "ExecuteTime": {
     "end_time": "2023-06-28T17:07:50.003753200Z",
     "start_time": "2023-06-28T17:07:49.987445Z"
    }
   }
  },
  {
   "cell_type": "code",
   "execution_count": 21,
   "outputs": [],
   "source": [
    "ground_truth_list = []\n",
    "for i in range(0, len(classes)):\n",
    "    ground_truth = []\n",
    "    for label in y_train:\n",
    "        if label == i:\n",
    "            ground_truth.append(1)\n",
    "        else:\n",
    "            ground_truth.append(-1)\n",
    "\n",
    "    ground_truth_list.append(np.asarray(ground_truth))"
   ],
   "metadata": {
    "collapsed": false,
    "ExecuteTime": {
     "end_time": "2023-06-28T17:07:50.509671100Z",
     "start_time": "2023-06-28T17:07:50.494015Z"
    }
   }
  },
  {
   "cell_type": "code",
   "execution_count": 49,
   "outputs": [],
   "source": [
    "def train_occ(features, ground_truth_list, classes):\n",
    "    base_occs = []\n",
    "\n",
    "    for index in range(len(classes)):\n",
    "        labels = ground_truth_list[index]\n",
    "\n",
    "        X = features[ground_truth_list[index] == 1]\n",
    "        y = labels[labels == 1]\n",
    "\n",
    "        X_train, X_test, y_train, y_test = train_test_split(X, y, test_size=0.2, random_state=seed)\n",
    "\n",
    "        # nu needs to be tuned\n",
    "        clf = OneClassSVM(gamma='auto', nu=0.3)\n",
    "        clf.fit(X_train)\n",
    "\n",
    "        base_occs.append(clf)\n",
    "\n",
    "        X_test = np.vstack((X_test, features[ground_truth_list[index] == -1]))\n",
    "        y_test = np.hstack((y_test, labels[labels == -1]))\n",
    "\n",
    "        prediction = clf.predict(X_test)\n",
    "\n",
    "        print(f'Class: {classes[index]}')\n",
    "        y_true = y_test.copy()\n",
    "        y_pred = prediction.copy()\n",
    "\n",
    "        y_true[y_true == -1] = 0\n",
    "        y_pred[y_pred == -1] = 0\n",
    "        detection_report(y_true, y_pred)\n",
    "        print('----------------------------------------')\n",
    "    return base_occs"
   ],
   "metadata": {
    "collapsed": false,
    "ExecuteTime": {
     "end_time": "2023-06-28T17:08:55.954238200Z",
     "start_time": "2023-06-28T17:08:55.922620200Z"
    }
   }
  },
  {
   "cell_type": "code",
   "execution_count": 50,
   "outputs": [
    {
     "name": "stdout",
     "output_type": "stream",
     "text": [
      "Class: Background\n",
      "\n",
      "Evaluation on the test set:\n",
      "False alarm prob: 13.18%\n",
      "Miss detection prob: 63.19%\n",
      "Number of False Positives: 209\n",
      "Number of False Negatives: 103\n",
      "Detector f1-score is 27.777778%\n",
      "\n",
      "Other Metrics:\n",
      "Detector accuracy is 82.161235%\n",
      "Detector precision is 22.304833%\n",
      "Detector recall is 36.809816%\n",
      "----------------------------------------\n",
      "Class: Big mandibles\n",
      "\n",
      "Evaluation on the test set:\n",
      "False alarm prob: 22.48%\n",
      "Miss detection prob: 68.55%\n",
      "Number of False Positives: 361\n",
      "Number of False Negatives: 109\n",
      "Detector f1-score is 17.543860%\n",
      "\n",
      "Other Metrics:\n",
      "Detector accuracy is 73.371105%\n",
      "Detector precision is 12.165450%\n",
      "Detector recall is 31.446541%\n",
      "----------------------------------------\n",
      "Class: Small mandibles\n",
      "\n",
      "Evaluation on the test set:\n",
      "False alarm prob: 16.67%\n",
      "Miss detection prob: 57.23%\n",
      "Number of False Positives: 268\n",
      "Number of False Negatives: 91\n",
      "Detector f1-score is 27.474747%\n",
      "\n",
      "Other Metrics:\n",
      "Detector accuracy is 79.683079%\n",
      "Detector precision is 20.238095%\n",
      "Detector recall is 42.767296%\n",
      "----------------------------------------\n"
     ]
    }
   ],
   "source": [
    "base_occs = train_occ(X_train.copy(), ground_truth_list, classes)"
   ],
   "metadata": {
    "collapsed": false,
    "ExecuteTime": {
     "end_time": "2023-06-28T17:08:56.429570900Z",
     "start_time": "2023-06-28T17:08:56.192847500Z"
    }
   }
  },
  {
   "cell_type": "code",
   "execution_count": 51,
   "outputs": [],
   "source": [
    "# Multi class prediction ensembling the scores of the one-class classifiers\n",
    "def predict(X_test, base_occs):\n",
    "    scores = []\n",
    "    for clf in base_occs:\n",
    "        scores.append(clf.decision_function(X_test))\n",
    "\n",
    "    scores = np.asarray(scores)\n",
    "    scores = np.transpose(scores)\n",
    "\n",
    "    predictions = []\n",
    "    for s in scores:\n",
    "        predictions.append(np.argmax(s))\n",
    "\n",
    "    return np.asarray(predictions)"
   ],
   "metadata": {
    "collapsed": false,
    "ExecuteTime": {
     "end_time": "2023-06-28T17:08:56.911085700Z",
     "start_time": "2023-06-28T17:08:56.879738300Z"
    }
   }
  },
  {
   "cell_type": "code",
   "execution_count": 52,
   "outputs": [],
   "source": [
    "prediction = predict(X_test, base_occs)"
   ],
   "metadata": {
    "collapsed": false,
    "ExecuteTime": {
     "end_time": "2023-06-28T17:08:57.838888400Z",
     "start_time": "2023-06-28T17:08:57.762965300Z"
    }
   }
  },
  {
   "cell_type": "code",
   "execution_count": 53,
   "outputs": [
    {
     "name": "stdout",
     "output_type": "stream",
     "text": [
      "              precision    recall  f1-score   support\n",
      "\n",
      "           0       0.65      0.70      0.68       186\n",
      "           1       0.59      0.68      0.63       206\n",
      "           2       0.62      0.47      0.53       208\n",
      "\n",
      "    accuracy                           0.62       600\n",
      "   macro avg       0.62      0.62      0.61       600\n",
      "weighted avg       0.62      0.62      0.61       600\n",
      "\n"
     ]
    }
   ],
   "source": [
    "print(classification_report(np.asarray(y_test), prediction))"
   ],
   "metadata": {
    "collapsed": false,
    "ExecuteTime": {
     "end_time": "2023-06-28T17:08:58.339156300Z",
     "start_time": "2023-06-28T17:08:58.321993900Z"
    }
   }
  },
  {
   "cell_type": "code",
   "execution_count": 54,
   "outputs": [
    {
     "data": {
      "text/plain": "<Figure size 720x576 with 2 Axes>",
      "image/png": "[encoded data removed]"
     },
     "metadata": {
      "needs_background": "light"
     },
     "output_type": "display_data"
    }
   ],
   "source": [
    "plot_confusion_matrix(classes, y_test, prediction)"
   ],
   "metadata": {
    "collapsed": false,
    "ExecuteTime": {
     "end_time": "2023-06-28T17:09:00.055538100Z",
     "start_time": "2023-06-28T17:08:59.893339400Z"
    }
   }
  },
  {
   "cell_type": "markdown",
   "source": [
    "# SEFR"
   ],
   "metadata": {
    "collapsed": false
   }
  },
  {
   "cell_type": "code",
   "execution_count": 70,
   "outputs": [
    {
     "name": "stdout",
     "output_type": "stream",
     "text": [
      "              precision    recall  f1-score   support\n",
      "\n",
      "           0       0.35      0.30      0.32       186\n",
      "           1       0.35      0.57      0.43       206\n",
      "           2       0.39      0.21      0.27       208\n",
      "\n",
      "    accuracy                           0.36       600\n",
      "   macro avg       0.36      0.36      0.34       600\n",
      "weighted avg       0.37      0.36      0.34       600\n",
      "\n"
     ]
    }
   ],
   "source": [
    "sefr = SEFRMultiClass()\n",
    "sefr.fit(X_train, y_train)\n",
    "\n",
    "prediction = sefr.predict(X_test)\n",
    "print(classification_report(np.asarray(y_test), prediction))"
   ],
   "metadata": {
    "collapsed": false,
    "ExecuteTime": {
     "end_time": "2023-06-24T11:08:58.894312600Z",
     "start_time": "2023-06-24T11:08:58.862703200Z"
    }
   }
  },
  {
   "cell_type": "markdown",
   "source": [
    "# RVM: Relevance Vector Machine"
   ],
   "metadata": {
    "collapsed": false
   }
  },
  {
   "cell_type": "code",
   "execution_count": 18,
   "outputs": [
    {
     "name": "stdout",
     "output_type": "stream",
     "text": [
      "              precision    recall  f1-score   support\n",
      "\n",
      "           0       0.57      0.82      0.67       186\n",
      "           1       0.64      0.55      0.60       206\n",
      "           2       0.61      0.45      0.52       208\n",
      "\n",
      "    accuracy                           0.60       600\n",
      "   macro avg       0.61      0.61      0.60       600\n",
      "weighted avg       0.61      0.60      0.59       600\n",
      "\n"
     ]
    }
   ],
   "source": [
    "rvc = EMRVC(gamma='auto')\n",
    "rvc.fit(X_train[0:1500], y_train[0:1500])\n",
    "prediction = rvc.predict(X_test)\n",
    "print(classification_report(np.asarray(y_test), prediction))"
   ],
   "metadata": {
    "collapsed": false,
    "ExecuteTime": {
     "end_time": "2023-06-24T17:46:47.269956800Z",
     "start_time": "2023-06-24T17:20:04.722904300Z"
    }
   }
  },
  {
   "cell_type": "code",
   "execution_count": null,
   "outputs": [],
   "source": [
    "from micromlgen.rvm import port_rvm\n",
    "\n",
    "# NOT WORKING\n",
    "c_code = port_rvm(rvc)\n",
    "print(c_code)"
   ],
   "metadata": {
    "collapsed": false
   }
  },
  {
   "cell_type": "code",
   "execution_count": null,
   "outputs": [],
   "source": [],
   "metadata": {
    "collapsed": false
   }
  }
 ],
 "metadata": {
  "kernelspec": {
   "display_name": "Python 3",
   "language": "python",
   "name": "python3"
  },
  "language_info": {
   "codemirror_mode": {
    "name": "ipython",
    "version": 2
   },
   "file_extension": ".py",
   "mimetype": "text/x-python",
   "name": "python",
   "nbconvert_exporter": "python",
   "pygments_lexer": "ipython2",
   "version": "2.7.6"
  }
 },
 "nbformat": 4,
 "nbformat_minor": 0
}
