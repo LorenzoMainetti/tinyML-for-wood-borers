{
 "cells": [
  {
   "cell_type": "code",
   "execution_count": 98,
   "metadata": {
    "collapsed": true,
    "ExecuteTime": {
     "end_time": "2023-06-28T14:03:10.392485300Z",
     "start_time": "2023-06-28T14:03:10.374294500Z"
    }
   },
   "outputs": [],
   "source": [
    "import numpy as np\n",
    "\n",
    "from sklearn.model_selection import train_test_split\n",
    "from Pipeline.tf_dataset_builder import RawDatasetBuilder\n",
    "from Pipeline.preprocess import BandpassFilter, Normalizer\n",
    "from Pipeline.Cascade.Detection.optimization import GridSearch\n",
    "from Pipeline.Cascade.Detection.detection_algorithms import HilbertDetector, MovingStdDetector, STALTADetector, ECODetector, ECDFOutlierCountDetector\n",
    "from Pipeline.evaluation import detection_report\n",
    "from Pipeline.tf_lite_utils import predict_tflite_mtl"
   ]
  },
  {
   "cell_type": "code",
   "execution_count": 4,
   "outputs": [],
   "source": [
    "seed = 1\n",
    "np.random.seed(seed)"
   ],
   "metadata": {
    "collapsed": false,
    "ExecuteTime": {
     "end_time": "2023-06-23T11:52:20.640432500Z",
     "start_time": "2023-06-23T11:52:20.621872900Z"
    }
   }
  },
  {
   "cell_type": "code",
   "execution_count": 49,
   "outputs": [],
   "source": [
    "DatasetBuilder = RawDatasetBuilder(\n",
    "    #dataset_dir='../../../Dataset/Generated dataset/Deployment/unstandardized/50ms/**/*.wav',\n",
    "    dataset_dir=\"../../../Dataset/Final dataset/Generation/Generated dataset/**/*.wav\",\n",
    "    class_dict={'Background': 0, 'Big mandibles': 1, 'Small mandibles': 2},\n",
    "    seed=seed,\n",
    ")\n",
    "\n",
    "features, labels = DatasetBuilder.get_features_and_labels()"
   ],
   "metadata": {
    "collapsed": false,
    "ExecuteTime": {
     "end_time": "2023-06-23T15:28:22.759940700Z",
     "start_time": "2023-06-23T15:24:42.812466900Z"
    }
   }
  },
  {
   "cell_type": "code",
   "execution_count": 50,
   "outputs": [],
   "source": [
    "bandpass = BandpassFilter(200, 20000, 44100, order=2)\n",
    "features = [bandpass.filter(feature) for feature in features]"
   ],
   "metadata": {
    "collapsed": false,
    "ExecuteTime": {
     "end_time": "2023-06-23T15:28:25.283567600Z",
     "start_time": "2023-06-23T15:28:22.759940700Z"
    }
   }
  },
  {
   "cell_type": "code",
   "execution_count": 55,
   "outputs": [],
   "source": [
    "#remap labels to 0 and 1\n",
    "def remap_labels(labels):\n",
    "    return np.array([1 if label > 0 else 0 for label in labels])\n",
    "\n",
    "labels = remap_labels(labels)"
   ],
   "metadata": {
    "collapsed": false,
    "ExecuteTime": {
     "end_time": "2023-06-23T15:44:25.315558600Z",
     "start_time": "2023-06-23T15:44:25.305017700Z"
    }
   }
  },
  {
   "cell_type": "code",
   "execution_count": 56,
   "outputs": [],
   "source": [
    "X_train, X_test, y_train, y_test = train_test_split(features, labels, test_size=0.2, random_state=seed)\n",
    "X_train, X_val, y_train, y_val = train_test_split(X_train, y_train, test_size=0.2, random_state=seed)"
   ],
   "metadata": {
    "collapsed": false,
    "ExecuteTime": {
     "end_time": "2023-06-23T15:44:26.057296600Z",
     "start_time": "2023-06-23T15:44:26.041667700Z"
    }
   }
  },
  {
   "cell_type": "markdown",
   "source": [
    "# Incremental approach: detection stage"
   ],
   "metadata": {
    "collapsed": false
   }
  },
  {
   "cell_type": "code",
   "execution_count": 57,
   "outputs": [
    {
     "data": {
      "text/plain": "<Figure size 432x288 with 1 Axes>",
      "image/png": "[encoded data removed]"
     },
     "metadata": {
      "needs_background": "light"
     },
     "output_type": "display_data"
    },
    {
     "name": "stdout",
     "output_type": "stream",
     "text": [
      "Best params: {'window_size': 50, 'grace_period': 30, 'factor': 0.0015}\n",
      "\n",
      "Evaluation on the test set:\n",
      "False alarm prob: 19.35%\n",
      "Miss detection prob: 52.42%\n",
      "Number of False Positives: 36\n",
      "Number of False Negatives: 217\n",
      "Detector f1-score is 60.896445%\n",
      "\n",
      "Other Metrics:\n",
      "Detector accuracy is 57.833333%\n",
      "Detector precision is 84.549356%\n",
      "Detector recall is 47.584541%\n"
     ]
    }
   ],
   "source": [
    "# Moving std detector (fixed)\n",
    "params = {\n",
    "    'window_size': [50],\n",
    "    'grace_period': [30],\n",
    "    'factor': [0.00023, 0.000235, 0.00024, 0.000245, 0.00025, 0.000255, 0.00026, 0.000265, 0.00027, 0.000275, 0.00028, 0.000285, 0.00029, 0.000295, 0.0003, 0.00035, 0.0004, 0.0005, 0.00055, 0.0006, 0.0007, 0.0008, 0.00085, 0.0009, 0.00095, 0.001, 0.0015, 0.002, 0.0025, 0.003, 0.0035, 0.004, 0.0045, 0.005, 0.0055, 0.006, 0.0065, 0.007,\n",
    "      0.0075, 0.008, 0.0085, 0.009, 0.0095, 0.01]\n",
    "    }\n",
    "\n",
    "detector = MovingStdDetector(version='fixed')\n",
    "\n",
    "optimizer = GridSearch(detector, params, X_train, y_train)\n",
    "\n",
    "best_params = optimizer.optimize_roc(0.2, visual=True)\n",
    "\n",
    "print(f'Best params: {best_params}')\n",
    "\n",
    "detector.set_params(**best_params)\n",
    "prediction = detector.detect(X_test)\n",
    "detection_report(y_test, prediction)"
   ],
   "metadata": {
    "collapsed": false,
    "ExecuteTime": {
     "end_time": "2023-06-23T15:45:03.697508800Z",
     "start_time": "2023-06-23T15:44:30.564593500Z"
    }
   }
  },
  {
   "cell_type": "code",
   "execution_count": 142,
   "outputs": [
    {
     "data": {
      "text/plain": "<Figure size 432x288 with 1 Axes>",
      "image/png": "[encoded data removed]"
     },
     "metadata": {
      "needs_background": "light"
     },
     "output_type": "display_data"
    },
    {
     "name": "stdout",
     "output_type": "stream",
     "text": [
      "Best params: {'window_size': 500, 'grace_period': 30, 'factor': 5.75}\n",
      "\n",
      "Evaluation on the test set:\n",
      "False alarm prob: 14.52%\n",
      "Miss detection prob: 34.78%\n",
      "Number of False Positives: 27\n",
      "Number of False Negatives: 144\n",
      "Detector f1-score is 75.949367%\n",
      "\n",
      "Other Metrics:\n",
      "Detector accuracy is 71.500000%\n",
      "Detector precision is 90.909091%\n",
      "Detector recall is 65.217391%\n"
     ]
    }
   ],
   "source": [
    "# Moving std detector (adaptive)\n",
    "params = {\n",
    "    'window_size': [500],\n",
    "    'grace_period': [30],\n",
    "    'factor': [4.75, 5, 5.15, 5.25, 5.5, 5.75, 6, 6.15, 6.25, 6.5, 6.75, 7, 7.15, 7.25, 7.5, 7.75, 8.15, 8.25, 8.5, 8.75, 9, 9.15, 9.25, 9.5, 9.75, 10, 10.15, 10.25, 10.5, 10.75, 11]\n",
    "}\n",
    "\n",
    "detector = MovingStdDetector(version='adaptive')\n",
    "\n",
    "optimizer = GridSearch(detector, params, X_train, y_train)\n",
    "\n",
    "best_params = optimizer.optimize_roc(0.2, visual=True)\n",
    "\n",
    "print(f'Best params: {best_params}')\n",
    "\n",
    "detector.set_params(**best_params)\n",
    "prediction = detector.detect(X_test)\n",
    "detection_report(y_test, prediction)"
   ],
   "metadata": {
    "collapsed": false,
    "ExecuteTime": {
     "end_time": "2023-06-29T15:10:04.586767Z",
     "start_time": "2023-06-29T15:09:19.869771900Z"
    }
   }
  },
  {
   "cell_type": "code",
   "execution_count": null,
   "outputs": [],
   "source": [
    "# Hilbert detector\n",
    "params = {'factor': [6, 6.1, 6.2, 6.3, 6.4, 6.5, 6.6, 6.7, 6.8, 6.9, 7, 7.1, 7.2, 7.3, 7.4, 7.5, 7.6, 7.7, 7.8, 7.9, 8, 8.1, 8.2, 8.3, 8.4, 8.5, 8.6, 8.7, 8.8, 8.9, 9, 9.1, 9.2, 9.3, 9.4, 9.5, 9.6, 9.7, 9.8, 9.9, 10, 10.1, 10.2, 10.3, 10.4, 10.5, 10.6, 10.7, 10.8, 10.9, 11, 11.1, 11.2, 11.3, 11.4, 11.5, 11.6, 11.7, 11.8, 11.9, 12]}\n",
    "\n",
    "detector = HilbertDetector()\n",
    "\n",
    "optimizer = GridSearch(detector, params, X_train, y_train)\n",
    "\n",
    "best_params = optimizer.optimize_roc(0.2, visual=True)\n",
    "\n",
    "print(f'Best params: {best_params}')\n",
    "\n",
    "detector.set_params(**best_params)\n",
    "prediction = detector.detect(X_test)\n",
    "detection_report(y_test, prediction)"
   ],
   "metadata": {
    "collapsed": false
   }
  },
  {
   "cell_type": "code",
   "execution_count": 61,
   "outputs": [
    {
     "name": "stdout",
     "output_type": "stream",
     "text": [
      "Best params: {'sta_win': 180, 'lta_win': 440, 'threshold': 0.7}\n",
      "\n",
      "Evaluation on the test set:\n",
      "False alarm prob: 18.82%\n",
      "Miss detection prob: 57.25%\n",
      "Number of False Positives: 35\n",
      "Number of False Negatives: 237\n",
      "Detector f1-score is 56.549521%\n",
      "\n",
      "Other Metrics:\n",
      "Detector accuracy is 54.666667%\n",
      "Detector precision is 83.490566%\n",
      "Detector recall is 42.753623%\n"
     ]
    }
   ],
   "source": [
    "# STA/LTA Detector\n",
    "params = {'sta_win': [100, 120, 140, 160, 180],\n",
    "          'lta_win': [400, 420, 440, 460, 480, 500],\n",
    "          'threshold': [0.5, 0.55, 0.6, 0.65, 0.7, 0.75, 0.8, 0.85, 0.9]}\n",
    "\n",
    "detector = STALTADetector()\n",
    "\n",
    "optimizer = GridSearch(detector, params, X_train, y_train)\n",
    "\n",
    "best_params = optimizer.optimize_roc(0.2, visual=False)\n",
    "\n",
    "print(f'Best params: {best_params}')\n",
    "\n",
    "detector.set_params(**best_params)\n",
    "prediction = detector.detect(X_test)\n",
    "detection_report(y_test, prediction)"
   ],
   "metadata": {
    "collapsed": false,
    "ExecuteTime": {
     "end_time": "2023-06-23T15:52:45.438168200Z",
     "start_time": "2023-06-23T15:51:29.943049400Z"
    }
   }
  },
  {
   "cell_type": "code",
   "execution_count": 135,
   "outputs": [
    {
     "name": "stdout",
     "output_type": "stream",
     "text": [
      "Best params: {'contamination': 1e-05}\n",
      "\n",
      "Evaluation on the test set:\n",
      "False alarm prob: 33.33%\n",
      "Miss detection prob: 43.48%\n",
      "Number of False Positives: 62\n",
      "Number of False Negatives: 180\n",
      "Detector f1-score is 65.915493%\n",
      "\n",
      "Other Metrics:\n",
      "Detector accuracy is 59.666667%\n",
      "Detector precision is 79.054054%\n",
      "Detector recall is 56.521739%\n"
     ]
    }
   ],
   "source": [
    "# ECOD Detector\n",
    "params = {'contamination': [0.00001, 0.00002, 0.0003, 0.00004, 0.00005, 0.00006, 0.00007, 0.00008, 0.00009, 0.0001, 0.00011, 0.00012, 0.00013, 0.00014, 0.00015, 0.00016, 0.00017, 0.00018, 0.00019, 0.0002]}\n",
    "\n",
    "detector = ECODetector(X_train[4])\n",
    "\n",
    "optimizer = GridSearch(detector, params, X_train, y_train)\n",
    "\n",
    "best_params = optimizer.optimize_roc(0.1, visual=False)\n",
    "\n",
    "print(f'Best params: {best_params}')\n",
    "\n",
    "detector.set_params(**best_params)\n",
    "prediction = detector.detect(X_test)\n",
    "detection_report(y_test, prediction)"
   ],
   "metadata": {
    "collapsed": false,
    "ExecuteTime": {
     "end_time": "2023-06-28T14:18:43.774593100Z",
     "start_time": "2023-06-28T14:16:54.973086Z"
    }
   }
  },
  {
   "cell_type": "code",
   "execution_count": 140,
   "outputs": [
    {
     "name": "stdout",
     "output_type": "stream",
     "text": [
      "Best params: {'pfa': 0.0005, 'outliers_count': 200}\n",
      "\n",
      "Evaluation on the test set:\n",
      "False alarm prob: 17.2%\n",
      "Miss detection prob: 84.78%\n",
      "Number of False Positives: 32\n",
      "Number of False Negatives: 351\n",
      "Detector f1-score is 24.754420%\n",
      "\n",
      "Other Metrics:\n",
      "Detector accuracy is 36.166667%\n",
      "Detector precision is 66.315789%\n",
      "Detector recall is 15.217391%\n"
     ]
    }
   ],
   "source": [
    "#ECDF approach\n",
    "\n",
    "ref_noise = X_train[0]\n",
    "\n",
    "params = {'pfa': [0.0005],\n",
    "          'outliers_count': [1, 2, 3, 4, 5, 6, 7, 8, 9, 10, 15, 20, 25, 30, 35, 40, 45, 50, 60, 70, 80, 90, 100, 110, 120, 130, 140, 150, 200, 250, 300, 350, 400, 450, 500, 600, 700, 800, 850]}\n",
    "\n",
    "detector = ECDFOutlierCountDetector(ref_noise)\n",
    "\n",
    "optimizer = GridSearch(detector, params, X_train, y_train)\n",
    "\n",
    "best_params = optimizer.optimize_roc(0.2, visual=False)\n",
    "\n",
    "print(f'Best params: {best_params}')\n",
    "\n",
    "detector.set_params(**best_params)\n",
    "prediction = detector.detect(X_test)\n",
    "detection_report(y_test, prediction)"
   ],
   "metadata": {
    "collapsed": false,
    "ExecuteTime": {
     "end_time": "2023-06-28T14:24:45.935785800Z",
     "start_time": "2023-06-28T14:24:44.836113900Z"
    }
   }
  },
  {
   "cell_type": "markdown",
   "source": [
    "# Novel approach: MTL + Conv1D"
   ],
   "metadata": {
    "collapsed": false
   }
  },
  {
   "cell_type": "code",
   "execution_count": 6,
   "outputs": [],
   "source": [
    "# Standardize data\n",
    "normalizer = Normalizer(mode='mean_std')\n",
    "X_test = [normalizer.normalize(feature) for feature in X_test]\n",
    "X_test = np.array(X_test)\n",
    "X_test = np.expand_dims(X_test, axis=-1)"
   ],
   "metadata": {
    "collapsed": false,
    "ExecuteTime": {
     "end_time": "2023-05-27T09:40:10.903572300Z",
     "start_time": "2023-05-27T09:40:10.840691300Z"
    }
   }
  },
  {
   "cell_type": "code",
   "execution_count": 7,
   "outputs": [
    {
     "name": "stdout",
     "output_type": "stream",
     "text": [
      "Quantized detection report:\n",
      "\n",
      "Evaluation on the test set:\n",
      "False alarm prob: 3.73%\n",
      "Miss detection prob: 13.19%\n",
      "Number of False Positives: 10\n",
      "Number of False Negatives: 57\n",
      "Detector f1-score is 91.799266%\n",
      "\n",
      "Other Metrics:\n",
      "Detector accuracy is 90.428571%\n",
      "Detector precision is 97.402597%\n",
      "Detector recall is 86.805556%\n"
     ]
    }
   ],
   "source": [
    "# HPS\n",
    "y_pred_det, _ = predict_tflite_mtl('../../../Models/mtl_model.tflite', X_test)\n",
    "\n",
    "print(\"Quantized detection report:\")\n",
    "detection_report(y_test, y_pred_det.flatten())"
   ],
   "metadata": {
    "collapsed": false,
    "ExecuteTime": {
     "end_time": "2023-05-27T09:40:11.399004200Z",
     "start_time": "2023-05-27T09:40:11.155524900Z"
    }
   }
  },
  {
   "cell_type": "code",
   "execution_count": 8,
   "outputs": [
    {
     "name": "stdout",
     "output_type": "stream",
     "text": [
      "Quantized detection report:\n",
      "\n",
      "Evaluation on the test set:\n",
      "False alarm prob: 11.19%\n",
      "Miss detection prob: 15.28%\n",
      "Number of False Positives: 30\n",
      "Number of False Negatives: 66\n",
      "Detector f1-score is 88.405797%\n",
      "\n",
      "Other Metrics:\n",
      "Detector accuracy is 86.285714%\n",
      "Detector precision is 92.424242%\n",
      "Detector recall is 84.722222%\n"
     ]
    }
   ],
   "source": [
    "# SPS\n",
    "y_pred_det, _ = predict_tflite_mtl('../../../Models/sps_model.tflite', X_test)\n",
    "\n",
    "print(\"Quantized detection report:\")\n",
    "detection_report(y_test, y_pred_det.flatten())"
   ],
   "metadata": {
    "collapsed": false,
    "ExecuteTime": {
     "end_time": "2023-05-27T09:40:13.527289600Z",
     "start_time": "2023-05-27T09:40:13.043298800Z"
    }
   }
  },
  {
   "cell_type": "code",
   "execution_count": 9,
   "outputs": [
    {
     "name": "stdout",
     "output_type": "stream",
     "text": [
      "Quantized detection report:\n",
      "\n",
      "Evaluation on the test set:\n",
      "False alarm prob: 3.36%\n",
      "Miss detection prob: 30.56%\n",
      "Number of False Positives: 9\n",
      "Number of False Negatives: 132\n",
      "Detector f1-score is 80.971660%\n",
      "\n",
      "Other Metrics:\n",
      "Detector accuracy is 79.857143%\n",
      "Detector precision is 97.087379%\n",
      "Detector recall is 69.444444%\n"
     ]
    }
   ],
   "source": [
    "# Cross-stitch\n",
    "y_pred_det, _ = predict_tflite_mtl('../../../Models/cross_stitch_model.tflite', X_test)\n",
    "\n",
    "print(\"Quantized detection report:\")\n",
    "detection_report(y_test, y_pred_det.flatten())"
   ],
   "metadata": {
    "collapsed": false,
    "ExecuteTime": {
     "end_time": "2023-05-27T09:40:14.750451600Z",
     "start_time": "2023-05-27T09:40:14.257169800Z"
    }
   }
  },
  {
   "cell_type": "code",
   "execution_count": null,
   "outputs": [],
   "source": [],
   "metadata": {
    "collapsed": false
   }
  }
 ],
 "metadata": {
  "kernelspec": {
   "display_name": "Python 3",
   "language": "python",
   "name": "python3"
  },
  "language_info": {
   "codemirror_mode": {
    "name": "ipython",
    "version": 2
   },
   "file_extension": ".py",
   "mimetype": "text/x-python",
   "name": "python",
   "nbconvert_exporter": "python",
   "pygments_lexer": "ipython2",
   "version": "2.7.6"
  }
 },
 "nbformat": 4,
 "nbformat_minor": 0
}
