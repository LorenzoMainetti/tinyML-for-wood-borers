{
 "cells": [
  {
   "cell_type": "code",
   "execution_count": 4,
   "outputs": [],
   "source": [
    "import os\n",
    "import numpy as np\n",
    "import librosa\n",
    "from sklearn.model_selection import train_test_split\n",
    "from Pipeline.filtering import butter_bandpass_filter\n",
    "from Pipeline.Cascade.Detection.optimization import optimize_and_evaluate, GridSearch\n",
    "from Pipeline.evaluation import detection_report\n",
    "from Pipeline.Cascade.Detection.detection_algorithms import ECODetector, USTEnergyDetector, HilbertDetector, ECDFOutlierCountDetector, MovingStdDetector, STALTADetector, SNRDetector"
   ],
   "metadata": {
    "collapsed": false,
    "ExecuteTime": {
     "end_time": "2023-05-21T09:16:17.267643500Z",
     "start_time": "2023-05-21T09:16:17.248721300Z"
    }
   }
  },
  {
   "cell_type": "code",
   "execution_count": 2,
   "outputs": [],
   "source": [
    "seed = 1\n",
    "np.random.seed(seed)"
   ],
   "metadata": {
    "collapsed": false,
    "ExecuteTime": {
     "end_time": "2023-05-21T09:09:57.108732300Z",
     "start_time": "2023-05-21T09:09:57.093633300Z"
    }
   }
  },
  {
   "cell_type": "code",
   "execution_count": 19,
   "outputs": [],
   "source": [
    "def balanced_extraction(dataset_dir, class_dict):\n",
    "    # retrieve the paths of each class\n",
    "    folders_path = dataset_dir.split(\"*\")[0]\n",
    "    paths = []\n",
    "    for key in class_dict.keys():\n",
    "        paths.append(folders_path + key + '/')\n",
    "\n",
    "    # find the lengths of each folder of each class\n",
    "    lengths = []\n",
    "    for path in paths:\n",
    "        lengths.append(len(os.listdir(path)))\n",
    "\n",
    "    # take the minimum of these lengths\n",
    "    min_length = min(lengths)\n",
    "\n",
    "    features = []\n",
    "    labels = []\n",
    "    keys = list(class_dict.keys())\n",
    "    # randomly select min_length files from each folder and generate features and labels\n",
    "    for i, path in enumerate(paths):\n",
    "        files = os.listdir(path)\n",
    "        files = np.random.choice(files, min_length, replace=False)\n",
    "        for file in files:\n",
    "            sample, sr = librosa.load(path+file, sr=44100)\n",
    "            sample = butter_bandpass_filter(sample, 200, 20000, sr, 2)\n",
    "            #sample = (sample - np.mean(sample)) / np.std(sample)\n",
    "            features.append(sample)\n",
    "            #labels.append(class_dict[keys[i]])\n",
    "            if keys[i] == 'Background':\n",
    "                labels.append(0)\n",
    "            else:\n",
    "                labels.append(1)\n",
    "\n",
    "    return features, labels"
   ],
   "metadata": {
    "collapsed": false,
    "ExecuteTime": {
     "end_time": "2023-05-03T17:32:03.818981300Z",
     "start_time": "2023-05-03T17:32:03.800602900Z"
    }
   }
  },
  {
   "cell_type": "code",
   "execution_count": 20,
   "outputs": [],
   "source": [
    "# dataset_dir = '../../../Dataset/NAU dataset/TASCAM/lab/Ponderosa/96 KHz/unprocessed_dataset/**/*.wav'\n",
    "# class_dict = {'clean': 0, 'infested': 1}\n",
    "\n",
    "dataset_dir = '../../../Dataset/Generated dataset/Deployment/unstandardized/50ms/**/*.wav'\n",
    "class_dict = {'Background': 0, 'Big mandibles': 1, 'Small mandibles': 2}\n",
    "\n",
    "features, labels = balanced_extraction(dataset_dir, class_dict)"
   ],
   "metadata": {
    "collapsed": false
   }
  },
  {
   "cell_type": "code",
   "execution_count": 5,
   "outputs": [],
   "source": [
    "X_train, X_test, y_train, y_test = train_test_split(features, labels, test_size=0.15)"
   ],
   "metadata": {
    "collapsed": false
   }
  },
  {
   "cell_type": "code",
   "execution_count": 10,
   "outputs": [
    {
     "name": "stdout",
     "output_type": "stream",
     "text": [
      "Best params: {'contamination': 4e-06}\n",
      "Best f1-score: 0.7899772209567198\n",
      "\n",
      "Evaluation on the test set:\n",
      "False alarm prob: 37.58%\n",
      "Miss detection prob: 6.71%\n",
      "Number of False Positives: 62\n",
      "Number of False Negatives: 11\n",
      "Detector f1-score is 80.738786%\n",
      "\n",
      "Other Metrics:\n",
      "Detector accuracy is 77.811550%\n",
      "Detector precision is 71.162791%\n",
      "Detector recall is 93.292683%\n"
     ]
    }
   ],
   "source": [
    "# ECOD\n",
    "\n",
    "train_signal, sr = librosa.load('../../../Dataset/NAU dataset/TASCAM/lab/Ponderosa/96 KHz/unprocessed_dataset/infested/TASCAM_195_20.wav', sr=44100)\n",
    "train_signal = butter_bandpass_filter(train_signal, 200, 20000, sr, 2)\n",
    "\n",
    "params = {'contamination': [0.000005, 0.000006, 0.000007, 0.000008, 0.000009, 0.00001, 0.00002, 0.00003]}\n",
    "\n",
    "detector = ECODetector(train_signal)\n",
    "\n",
    "_, _ = optimize_and_evaluate(detector, params, X_train, y_train, X_test, y_test)"
   ],
   "metadata": {
    "collapsed": false
   }
  },
  {
   "cell_type": "code",
   "execution_count": 16,
   "outputs": [
    {
     "name": "stdout",
     "output_type": "stream",
     "text": [
      "Best params: {'frame_length': 300, 'hop_length': 150, 'factor': 1.5}\n",
      "Best f1-score: 0.9532317393589069\n",
      "\n",
      "Evaluation on the test set:\n",
      "False alarm prob: 4.24%\n",
      "Miss detection prob: 4.88%\n",
      "Number of False Positives: 7\n",
      "Number of False Negatives: 8\n",
      "Detector f1-score is 95.412844%\n",
      "\n",
      "Other Metrics:\n",
      "Detector accuracy is 95.440729%\n",
      "Detector precision is 95.705521%\n",
      "Detector recall is 95.121951%\n"
     ]
    }
   ],
   "source": [
    "# USTED: mean noise threshold\n",
    "\n",
    "ref_noise = '../../../Dataset/NAU dataset/TASCAM/lab/Ponderosa/96 KHz/original_dataset/clean log/TASCAM_2.wav'\n",
    "ref_noise, sampling_rate = librosa.load(ref_noise, sr=44100)\n",
    "ref_noise = butter_bandpass_filter(ref_noise, 200, 20000, sampling_rate, 2)\n",
    "\n",
    "params = {'frame_length': [50, 100, 200, 300, 400, 450],\n",
    "          'hop_length': [50, 100, 120, 150],\n",
    "          'factor': [1, 1.25, 1.5, 1.75, 2]}\n",
    "\n",
    "detector = USTEnergyDetector(ref_noise, version='mean_noise_thresh')\n",
    "\n",
    "_, _ = optimize_and_evaluate(detector, params, X_train, y_train, X_test, y_test)"
   ],
   "metadata": {
    "collapsed": false
   }
  },
  {
   "cell_type": "code",
   "execution_count": 12,
   "outputs": [
    {
     "name": "stdout",
     "output_type": "stream",
     "text": [
      "Best params: {'frame_length': 100, 'hop_length': 50, 'factor': 6}\n",
      "Best f1-score: 0.9520732364028003\n",
      "\n",
      "Evaluation on the test set:\n",
      "False alarm prob: 2.42%\n",
      "Miss detection prob: 6.71%\n",
      "Number of False Positives: 4\n",
      "Number of False Negatives: 11\n",
      "Detector f1-score is 95.327103%\n",
      "\n",
      "Other Metrics:\n",
      "Detector accuracy is 95.440729%\n",
      "Detector precision is 97.452229%\n",
      "Detector recall is 93.292683%\n"
     ]
    }
   ],
   "source": [
    "# USTED: noise distance threshold\n",
    "\n",
    "ref_noise = '../../../Dataset/NAU dataset/TASCAM/lab/Ponderosa/96 KHz/original_dataset/clean log/TASCAM_2.wav'\n",
    "ref_noise, sampling_rate = librosa.load(ref_noise, sr=44100)\n",
    "ref_noise = butter_bandpass_filter(ref_noise, 200, 20000, sampling_rate, 2)\n",
    "\n",
    "params = {'frame_length': [50, 100, 200, 300, 400, 450],\n",
    "          'hop_length': [50, 100, 120, 150],\n",
    "          'factor': [6, 7, 8, 9, 10]}\n",
    "\n",
    "detector = USTEnergyDetector(ref_noise, version='noise_distance')\n",
    "\n",
    "_, _ = optimize_and_evaluate(detector, params, X_train, y_train, X_test, y_test)"
   ],
   "metadata": {
    "collapsed": false
   }
  },
  {
   "cell_type": "code",
   "execution_count": 48,
   "outputs": [
    {
     "name": "stdout",
     "output_type": "stream",
     "text": [
      "Best params: {'factor': 7.8}\n",
      "Best f1-score: 0.8267622461170848\n",
      "\n",
      "Evaluation on the test set:\n",
      "False alarm prob: 7.88%\n",
      "Miss detection prob: 29.27%\n",
      "Number of False Positives: 13\n",
      "Number of False Negatives: 48\n",
      "Detector f1-score is 79.180887%\n",
      "\n",
      "Other Metrics:\n",
      "Detector accuracy is 81.458967%\n",
      "Detector precision is 89.922481%\n",
      "Detector recall is 70.731707%\n"
     ]
    }
   ],
   "source": [
    "# Hilbert detector\n",
    "\n",
    "params = {'factor': [7.6, 7.7, 7.8, 7.9, 8, 8.1, 8.2, 8.3, 8.4]}\n",
    "\n",
    "detector = HilbertDetector()\n",
    "\n",
    "_, _ = optimize_and_evaluate(detector, params, X_train, y_train, X_test, y_test)"
   ],
   "metadata": {
    "collapsed": false
   }
  },
  {
   "cell_type": "code",
   "execution_count": 14,
   "outputs": [
    {
     "name": "stdout",
     "output_type": "stream",
     "text": [
      "Best params: {'pfa': 0.01, 'outliers_count': 40}\n",
      "Best f1-score: 0.9210381004969631\n",
      "\n",
      "Evaluation on the test set:\n",
      "False alarm prob: 2.42%\n",
      "Miss detection prob: 12.2%\n",
      "Number of False Positives: 4\n",
      "Number of False Negatives: 20\n",
      "Detector f1-score is 92.307692%\n",
      "\n",
      "Other Metrics:\n",
      "Detector accuracy is 92.705167%\n",
      "Detector precision is 97.297297%\n",
      "Detector recall is 87.804878%\n"
     ]
    }
   ],
   "source": [
    "# ECDF + Outlier Count\n",
    "\n",
    "ref_noise = '../../../Dataset/NAU dataset/TASCAM/lab/Ponderosa/96 KHz/original_dataset/clean log/TASCAM_2.wav'\n",
    "ref_noise, sampling_rate = librosa.load(ref_noise, sr=44100)\n",
    "ref_noise = butter_bandpass_filter(ref_noise, 200, 20000, sampling_rate, 2)\n",
    "\n",
    "params = {'pfa': [0.1, 0.01, 0.001, 0.0001],\n",
    "          'outliers_count': [30, 40, 50, 100, 150]}\n",
    "\n",
    "detector = ECDFOutlierCountDetector(ref_noise)\n",
    "\n",
    "_, _ = optimize_and_evaluate(detector, params, X_train, y_train, X_test, y_test)"
   ],
   "metadata": {
    "collapsed": false
   }
  },
  {
   "cell_type": "code",
   "execution_count": 13,
   "outputs": [
    {
     "name": "stdout",
     "output_type": "stream",
     "text": [
      "Best params: {'window_size': 600, 'grace_period': 30, 'factor': 6}\n",
      "Best f1-score: 0.7332185886402754\n",
      "\n",
      "Evaluation on the test set:\n",
      "False alarm prob: 18.18%\n",
      "Miss detection prob: 33.54%\n",
      "Number of False Positives: 30\n",
      "Number of False Negatives: 55\n",
      "Detector f1-score is 71.947195%\n",
      "\n",
      "Other Metrics:\n",
      "Detector accuracy is 74.164134%\n",
      "Detector precision is 78.417266%\n",
      "Detector recall is 66.463415%\n"
     ]
    }
   ],
   "source": [
    "# Moving Standard Deviation Detector: Adaptive\n",
    "\n",
    "params = {'window_size': [300, 400, 450, 500, 550, 600],\n",
    "          'grace_period': [30, 100],\n",
    "          'factor': [5, 5.5, 6, 6.5, 7]}\n",
    "\n",
    "detector = MovingStdDetector(version='adaptive')\n",
    "\n",
    "_, _ = optimize_and_evaluate(detector, params, X_train, y_train, X_test, y_test)"
   ],
   "metadata": {
    "collapsed": false
   }
  },
  {
   "cell_type": "code",
   "execution_count": 11,
   "outputs": [
    {
     "data": {
      "text/plain": "<Figure size 432x288 with 1 Axes>",
      "image/png": "[encoded data removed]"
     },
     "metadata": {
      "needs_background": "light"
     },
     "output_type": "display_data"
    },
    {
     "name": "stdout",
     "output_type": "stream",
     "text": [
      "Best params: {'window_size': 500, 'grace_period': 30, 'factor': 7}\n",
      "\n",
      "Evaluation on the test set:\n",
      "False alarm prob: 1.82%\n",
      "Miss detection prob: 48.78%\n",
      "Number of False Positives: 3\n",
      "Number of False Negatives: 80\n",
      "Detector f1-score is 66.932271%\n",
      "\n",
      "Other Metrics:\n",
      "Detector accuracy is 74.772036%\n",
      "Detector precision is 96.551724%\n",
      "Detector recall is 51.219512%\n"
     ]
    }
   ],
   "source": [
    "params = {\n",
    "    'window_size': [500],\n",
    "    'grace_period': [30],\n",
    "    'factor': [5, 5.15, 5.25, 5.5, 5.75, 6, 6.15, 6.25, 6.5, 6.75, 7]\n",
    "    }\n",
    "\n",
    "detector = MovingStdDetector(version='adaptive')\n",
    "\n",
    "optimizer = GridSearch(detector, params, X_train, y_train)\n",
    "\n",
    "best_params = optimizer.optimize_roc(0.01, visual=True)\n",
    "\n",
    "print(f'Best params: {best_params}')\n",
    "\n",
    "detector.set_params(**best_params)\n",
    "prediction = detector.detect(X_test)\n",
    "detection_report(y_test, prediction)"
   ],
   "metadata": {
    "collapsed": false,
    "ExecuteTime": {
     "start_time": "2023-03-31T17:40:46.586329Z",
     "end_time": "2023-03-31T17:41:02.720305Z"
    }
   }
  },
  {
   "cell_type": "code",
   "execution_count": 7,
   "outputs": [
    {
     "name": "stdout",
     "output_type": "stream",
     "text": [
      "Best params: {'window_size': 50, 'grace_period': 30, 'factor': 0.7}\n",
      "Best f1-score: 0.823445318084346\n",
      "\n",
      "Evaluation on the test set:\n",
      "False alarm prob: 81.25%\n",
      "Miss detection prob: 0.0%\n",
      "Number of False Positives: 130\n",
      "Number of False Negatives: 0\n",
      "Detector f1-score is 81.994460%\n",
      "\n",
      "Other Metrics:\n",
      "Detector accuracy is 71.491228%\n",
      "Detector precision is 69.483568%\n",
      "Detector recall is 100.000000%\n"
     ]
    }
   ],
   "source": [
    "# Moving Standard Deviation Detector: Fixed\n",
    "\n",
    "params = {'window_size': [50, 100, 200, 300, 400, 450, 500],\n",
    "          'grace_period': [30, 100],\n",
    "          'factor': [0.3, 0.4, 0.5, 0.6, 0.7]}\n",
    "\n",
    "detector = MovingStdDetector(version='fixed')\n",
    "\n",
    "_, _ = optimize_and_evaluate(detector, params, X_train, y_train, X_test, y_test)"
   ],
   "metadata": {
    "collapsed": false,
    "ExecuteTime": {
     "end_time": "2023-04-29T15:39:47.719884500Z",
     "start_time": "2023-04-29T15:39:36.075529200Z"
    }
   }
  },
  {
   "cell_type": "code",
   "execution_count": null,
   "outputs": [],
   "source": [
    "params = {\n",
    "    'window_size': [50],\n",
    "    'grace_period': [30],\n",
    "    'factor': [0.9, 1, 1.1, 1.2, 1.21, 1.22, 1.23, 1.24, 1.25, 1.26, 1.27, 1.28, 1.29, 1.3, 1.31, 1.32, 1.33, 1.34, 1.35, 1.36]\n",
    "    }\n",
    "\n",
    "detector = MovingStdDetector(version='fixed')\n",
    "\n",
    "optimizer = GridSearch(detector, params, X_train, y_train)\n",
    "\n",
    "best_params = optimizer.optimize_roc(0.1, visual=True)\n",
    "\n",
    "print(f'Best params: {best_params}')\n",
    "\n",
    "detector.set_params(**best_params)\n",
    "prediction = detector.detect(X_test)\n",
    "detection_report(y_test, prediction)"
   ],
   "metadata": {
    "collapsed": false
   }
  },
  {
   "cell_type": "code",
   "execution_count": 21,
   "outputs": [
    {
     "data": {
      "text/plain": "<Figure size 432x288 with 1 Axes>",
      "image/png": "[encoded data removed]"
     },
     "metadata": {
      "needs_background": "light"
     },
     "output_type": "display_data"
    },
    {
     "name": "stdout",
     "output_type": "stream",
     "text": [
      "Best params: {'window_size': 50, 'grace_period': 30, 'factor': 0.0005}\n",
      "\n",
      "Evaluation on the test set:\n",
      "False alarm prob: 35.62%\n",
      "Miss detection prob: 10.25%\n",
      "Number of False Positives: 57\n",
      "Number of False Negatives: 29\n",
      "Detector f1-score is 85.521886%\n",
      "\n",
      "Other Metrics:\n",
      "Detector accuracy is 80.586907%\n",
      "Detector precision is 81.672026%\n",
      "Detector recall is 89.752650%\n"
     ]
    }
   ],
   "source": [
    "params = {\n",
    "    'window_size': [50],\n",
    "    'grace_period': [30],\n",
    "    'factor': [0.0001, 0.0002, 0.00021, 0.00022, 0.000225, 0.00023, 0.000235, 0.00024, 0.000245, 0.00025, 0.000255, 0.00026, 0.000265, 0.00027, 0.000275, 0.00028, 0.000285, 0.00029, 0.000295, 0.0003, 0.00035, 0.0004, 0.0005]\n",
    "    }\n",
    "\n",
    "detector = MovingStdDetector(version='fixed')\n",
    "\n",
    "optimizer = GridSearch(detector, params, X_train, y_train)\n",
    "\n",
    "best_params = optimizer.optimize_roc(0.01, visual=True)\n",
    "\n",
    "print(f'Best params: {best_params}')\n",
    "\n",
    "detector.set_params(**best_params)\n",
    "prediction = detector.detect(X_test)\n",
    "detection_report(y_test, prediction)"
   ],
   "metadata": {
    "collapsed": false,
    "ExecuteTime": {
     "end_time": "2023-05-03T17:36:19.380483400Z",
     "start_time": "2023-05-03T17:35:54.202488100Z"
    }
   }
  },
  {
   "cell_type": "code",
   "execution_count": 14,
   "outputs": [
    {
     "name": "stdout",
     "output_type": "stream",
     "text": [
      "Best params: {'sta_win': 200, 'lta_win': 420, 'threshold': 0.7}\n",
      "Best f1-score: 0.7079741379310345\n",
      "\n",
      "Evaluation on the test set:\n",
      "False alarm prob: 30.91%\n",
      "Miss detection prob: 32.93%\n",
      "Number of False Positives: 51\n",
      "Number of False Negatives: 54\n",
      "Detector f1-score is 67.692308%\n",
      "\n",
      "Other Metrics:\n",
      "Detector accuracy is 68.085106%\n",
      "Detector precision is 68.322981%\n",
      "Detector recall is 67.073171%\n"
     ]
    }
   ],
   "source": [
    "# STA/LTA Detector\n",
    "\n",
    "params = {'sta_win': [120, 140, 160, 180, 200],\n",
    "          'lta_win': [400, 420, 440, 460, 480, 500],\n",
    "          'threshold': [0.5, 0.55, 0.6, 0.65, 0.7]}\n",
    "\n",
    "detector = STALTADetector()\n",
    "\n",
    "_, _ = optimize_and_evaluate(detector, params, X_train, y_train, X_test, y_test)"
   ],
   "metadata": {
    "collapsed": false
   }
  },
  {
   "cell_type": "code",
   "execution_count": 13,
   "outputs": [
    {
     "name": "stdout",
     "output_type": "stream",
     "text": [
      "Best params: {'frame_length': 300, 'hop_length': 100, 'snr': 5}\n",
      "Best f1-score: 0.9435569755058573\n",
      "\n",
      "Evaluation on the test set:\n",
      "False alarm prob: 6.06%\n",
      "Miss detection prob: 5.49%\n",
      "Number of False Positives: 10\n",
      "Number of False Negatives: 9\n",
      "Detector f1-score is 94.224924%\n",
      "\n",
      "Other Metrics:\n",
      "Detector accuracy is 94.224924%\n",
      "Detector precision is 93.939394%\n",
      "Detector recall is 94.512195%\n"
     ]
    }
   ],
   "source": [
    "# SNR Detector\n",
    "\n",
    "ref_noise = '../../../Dataset/NAU dataset/TASCAM/lab/Ponderosa/96 KHz/unprocessed_dataset/clean/TASCAM_0_21.wav'\n",
    "ref_noise, sr = librosa.load(ref_noise, sr=None)\n",
    "ref_noise = butter_bandpass_filter(ref_noise, 200, 20000, sr, 2)\n",
    "\n",
    "params = {'frame_length': [50, 100, 200, 300, 400, 450],\n",
    "          'hop_length': [50, 100, 120, 150],\n",
    "          'snr': [4, 5, 10, 15, 20]}\n",
    "\n",
    "detector = SNRDetector(ref_noise)\n",
    "\n",
    "_, _ = optimize_and_evaluate(detector, params, X_train, y_train, X_test, y_test)"
   ],
   "metadata": {
    "collapsed": false
   }
  },
  {
   "cell_type": "markdown",
   "source": [
    "# CNN"
   ],
   "metadata": {
    "collapsed": false
   }
  },
  {
   "cell_type": "code",
   "execution_count": 25,
   "outputs": [],
   "source": [
    "import tensorflow as tf\n",
    "from Pipeline.tf_dataset_builder import DatasetBuilder\n",
    "from Pipeline.preprocess import SpectrogramExtractor, FrequencySelector"
   ],
   "metadata": {
    "collapsed": false
   }
  },
  {
   "cell_type": "code",
   "execution_count": 26,
   "outputs": [],
   "source": [
    "tf.random.set_seed(seed)"
   ],
   "metadata": {
    "collapsed": false
   }
  },
  {
   "cell_type": "code",
   "execution_count": 27,
   "outputs": [],
   "source": [
    "# Set hyperparameters\n",
    "batch_size = 64\n",
    "learning_rate = 0.001\n",
    "epochs = 100\n",
    "class_weight = {0: 1.0, 1: 1.0}\n",
    "patience = 15"
   ],
   "metadata": {
    "collapsed": false
   }
  },
  {
   "cell_type": "code",
   "execution_count": 28,
   "outputs": [],
   "source": [
    "def extract_features(data, sample_rate=44100, nfft=128, win_length=128, hop_length=96, min_freq=500, max_freq=14000):\n",
    "    features = []\n",
    "    for signal in data:\n",
    "        spectrogram_extractor = SpectrogramExtractor(nfft, win_length, hop_length, mode=\"spectrogram\")\n",
    "        selector = FrequencySelector(min_freq, max_freq)\n",
    "\n",
    "        spectrogram = spectrogram_extractor.extract(signal, sample_rate, log=True).astype(np.float32)\n",
    "        spectrogram, _ = selector.select(spectrogram, nfft, sample_rate)\n",
    "\n",
    "        features.append(spectrogram)\n",
    "\n",
    "    return  features"
   ],
   "metadata": {
    "collapsed": false
   }
  },
  {
   "cell_type": "code",
   "execution_count": 29,
   "outputs": [],
   "source": [
    "features_train = extract_features(X_train)\n",
    "features_test = extract_features(X_test)\n",
    "features_test = np.expand_dims(features_test, axis=-1).astype(np.float32)"
   ],
   "metadata": {
    "collapsed": false
   }
  },
  {
   "cell_type": "code",
   "execution_count": 30,
   "outputs": [],
   "source": [
    "features_train, features_val, y_train, y_val = train_test_split(features_train, y_train, test_size=0.15)\n",
    "\n",
    "dataset_builder = DatasetBuilder(batch_size=batch_size)\n",
    "train_ds = dataset_builder.build_dataset(features_train, y_train)\n",
    "valid_ds = dataset_builder.build_dataset(features_val, y_val)"
   ],
   "metadata": {
    "collapsed": false
   }
  },
  {
   "cell_type": "code",
   "execution_count": 31,
   "outputs": [
    {
     "name": "stdout",
     "output_type": "stream",
     "text": [
      "Model: \"sequential\"\n",
      "_________________________________________________________________\n",
      " Layer (type)                Output Shape              Param #   \n",
      "=================================================================\n",
      " conv2d (Conv2D)             (None, 39, 45, 8)         80        \n",
      "                                                                 \n",
      " max_pooling2d (MaxPooling2D  (None, 20, 23, 8)        0         \n",
      " )                                                               \n",
      "                                                                 \n",
      " conv2d_1 (Conv2D)           (None, 20, 23, 8)         584       \n",
      "                                                                 \n",
      " max_pooling2d_1 (MaxPooling  (None, 10, 12, 8)        0         \n",
      " 2D)                                                             \n",
      "                                                                 \n",
      " dropout (Dropout)           (None, 10, 12, 8)         0         \n",
      "                                                                 \n",
      " flatten (Flatten)           (None, 960)               0         \n",
      "                                                                 \n",
      " dense (Dense)               (None, 1)                 961       \n",
      "                                                                 \n",
      "=================================================================\n",
      "Total params: 1,625\n",
      "Trainable params: 1,625\n",
      "Non-trainable params: 0\n",
      "_________________________________________________________________\n"
     ]
    }
   ],
   "source": [
    "model = tf.keras.models.Sequential([\n",
    "    tf.keras.layers.Input(shape=(39, 45, 1)),\n",
    "    tf.keras.layers.Conv2D(8, kernel_size=3, activation='relu', padding='same'),\n",
    "    tf.keras.layers.MaxPooling2D(pool_size=2, strides=2, padding='same'),\n",
    "    tf.keras.layers.Conv2D(8, kernel_size=3, activation='relu', padding='same'),\n",
    "    tf.keras.layers.MaxPooling2D(pool_size=2, strides=2, padding='same'),\n",
    "    tf.keras.layers.Dropout(0.25),\n",
    "    tf.keras.layers.Flatten(),\n",
    "    tf.keras.layers.Dense(1, activation='sigmoid'),\n",
    "])\n",
    "\n",
    "model.summary()"
   ],
   "metadata": {
    "collapsed": false
   }
  },
  {
   "cell_type": "code",
   "execution_count": 32,
   "outputs": [],
   "source": [
    "model.compile(\n",
    "    optimizer=tf.keras.optimizers.Adam(learning_rate=learning_rate),\n",
    "    loss=tf.keras.losses.BinaryCrossentropy(),\n",
    "    metrics=['accuracy']\n",
    ")"
   ],
   "metadata": {
    "collapsed": false
   }
  },
  {
   "cell_type": "code",
   "execution_count": 33,
   "outputs": [
    {
     "name": "stdout",
     "output_type": "stream",
     "text": [
      "Epoch 1/100\n",
      "25/25 [==============================] - 1s 21ms/step - loss: 4.3483 - accuracy: 0.4877 - val_loss: 0.7840 - val_accuracy: 0.5286\n",
      "Epoch 2/100\n",
      "25/25 [==============================] - 0s 17ms/step - loss: 1.3740 - accuracy: 0.5022 - val_loss: 0.7468 - val_accuracy: 0.5000\n",
      "Epoch 3/100\n",
      "25/25 [==============================] - 0s 16ms/step - loss: 0.8085 - accuracy: 0.4991 - val_loss: 0.7059 - val_accuracy: 0.5036\n",
      "Epoch 4/100\n",
      "25/25 [==============================] - 0s 17ms/step - loss: 0.7247 - accuracy: 0.5060 - val_loss: 0.7020 - val_accuracy: 0.4786\n",
      "Epoch 5/100\n",
      "25/25 [==============================] - 0s 16ms/step - loss: 0.7031 - accuracy: 0.5287 - val_loss: 0.6986 - val_accuracy: 0.4964\n",
      "Epoch 6/100\n",
      "25/25 [==============================] - 0s 18ms/step - loss: 0.6940 - accuracy: 0.5148 - val_loss: 0.6954 - val_accuracy: 0.5036\n",
      "Epoch 7/100\n",
      "25/25 [==============================] - 0s 17ms/step - loss: 0.6899 - accuracy: 0.5287 - val_loss: 0.6837 - val_accuracy: 0.5357\n",
      "Epoch 8/100\n",
      "25/25 [==============================] - 0s 16ms/step - loss: 0.6732 - accuracy: 0.5831 - val_loss: 0.6882 - val_accuracy: 0.5250\n",
      "Epoch 9/100\n",
      "25/25 [==============================] - 0s 17ms/step - loss: 0.6664 - accuracy: 0.5881 - val_loss: 0.6718 - val_accuracy: 0.5786\n",
      "Epoch 10/100\n",
      "25/25 [==============================] - 0s 16ms/step - loss: 0.6611 - accuracy: 0.5888 - val_loss: 0.6674 - val_accuracy: 0.5857\n",
      "Epoch 11/100\n",
      "25/25 [==============================] - 0s 15ms/step - loss: 0.6434 - accuracy: 0.6241 - val_loss: 0.6777 - val_accuracy: 0.5393\n",
      "Epoch 12/100\n",
      "25/25 [==============================] - 0s 16ms/step - loss: 0.6400 - accuracy: 0.6229 - val_loss: 0.6437 - val_accuracy: 0.6643\n",
      "Epoch 13/100\n",
      "25/25 [==============================] - 0s 16ms/step - loss: 0.6308 - accuracy: 0.6393 - val_loss: 0.6500 - val_accuracy: 0.6250\n",
      "Epoch 14/100\n",
      "25/25 [==============================] - 0s 16ms/step - loss: 0.6253 - accuracy: 0.6443 - val_loss: 0.6411 - val_accuracy: 0.6464\n",
      "Epoch 15/100\n",
      "25/25 [==============================] - 0s 16ms/step - loss: 0.6031 - accuracy: 0.6627 - val_loss: 0.6186 - val_accuracy: 0.6857\n",
      "Epoch 16/100\n",
      "25/25 [==============================] - 0s 15ms/step - loss: 0.5946 - accuracy: 0.6785 - val_loss: 0.5958 - val_accuracy: 0.7393\n",
      "Epoch 17/100\n",
      "25/25 [==============================] - 0s 16ms/step - loss: 0.5787 - accuracy: 0.7063 - val_loss: 0.6189 - val_accuracy: 0.6464\n",
      "Epoch 18/100\n",
      "25/25 [==============================] - 0s 16ms/step - loss: 0.5808 - accuracy: 0.6892 - val_loss: 0.5688 - val_accuracy: 0.7536\n",
      "Epoch 19/100\n",
      "25/25 [==============================] - 0s 16ms/step - loss: 0.5279 - accuracy: 0.7581 - val_loss: 0.5445 - val_accuracy: 0.7464\n",
      "Epoch 20/100\n",
      "25/25 [==============================] - 0s 16ms/step - loss: 0.5309 - accuracy: 0.7296 - val_loss: 0.5592 - val_accuracy: 0.7214\n",
      "Epoch 21/100\n",
      "25/25 [==============================] - 0s 16ms/step - loss: 0.5037 - accuracy: 0.7543 - val_loss: 0.5039 - val_accuracy: 0.7786\n",
      "Epoch 22/100\n",
      "25/25 [==============================] - 0s 16ms/step - loss: 0.4768 - accuracy: 0.7979 - val_loss: 0.4924 - val_accuracy: 0.7786\n",
      "Epoch 23/100\n",
      "25/25 [==============================] - 0s 17ms/step - loss: 0.4615 - accuracy: 0.7871 - val_loss: 0.4720 - val_accuracy: 0.7857\n",
      "Epoch 24/100\n",
      "25/25 [==============================] - 0s 17ms/step - loss: 0.4393 - accuracy: 0.8162 - val_loss: 0.4503 - val_accuracy: 0.8214\n",
      "Epoch 25/100\n",
      "25/25 [==============================] - 0s 16ms/step - loss: 0.4411 - accuracy: 0.7903 - val_loss: 0.4454 - val_accuracy: 0.8000\n",
      "Epoch 26/100\n",
      "25/25 [==============================] - 0s 17ms/step - loss: 0.4115 - accuracy: 0.8263 - val_loss: 0.4390 - val_accuracy: 0.8143\n",
      "Epoch 27/100\n",
      "25/25 [==============================] - 0s 16ms/step - loss: 0.4286 - accuracy: 0.8029 - val_loss: 0.4189 - val_accuracy: 0.8286\n",
      "Epoch 28/100\n",
      "25/25 [==============================] - 0s 16ms/step - loss: 0.4100 - accuracy: 0.8238 - val_loss: 0.4035 - val_accuracy: 0.8107\n",
      "Epoch 29/100\n",
      "25/25 [==============================] - 0s 16ms/step - loss: 0.3879 - accuracy: 0.8256 - val_loss: 0.3945 - val_accuracy: 0.8214\n",
      "Epoch 30/100\n",
      "25/25 [==============================] - 0s 15ms/step - loss: 0.3816 - accuracy: 0.8395 - val_loss: 0.3859 - val_accuracy: 0.8286\n",
      "Epoch 31/100\n",
      "25/25 [==============================] - 0s 16ms/step - loss: 0.3700 - accuracy: 0.8402 - val_loss: 0.3804 - val_accuracy: 0.8214\n",
      "Epoch 32/100\n",
      "25/25 [==============================] - 0s 15ms/step - loss: 0.3643 - accuracy: 0.8452 - val_loss: 0.3842 - val_accuracy: 0.8321\n",
      "Epoch 33/100\n",
      "25/25 [==============================] - 0s 16ms/step - loss: 0.3498 - accuracy: 0.8528 - val_loss: 0.3582 - val_accuracy: 0.8429\n",
      "Epoch 34/100\n",
      "25/25 [==============================] - 0s 17ms/step - loss: 0.3343 - accuracy: 0.8591 - val_loss: 0.3567 - val_accuracy: 0.8357\n",
      "Epoch 35/100\n",
      "25/25 [==============================] - 0s 16ms/step - loss: 0.3323 - accuracy: 0.8585 - val_loss: 0.3566 - val_accuracy: 0.8357\n",
      "Epoch 36/100\n",
      "25/25 [==============================] - 0s 17ms/step - loss: 0.3318 - accuracy: 0.8636 - val_loss: 0.3475 - val_accuracy: 0.8536\n",
      "Epoch 37/100\n",
      "25/25 [==============================] - 0s 17ms/step - loss: 0.3238 - accuracy: 0.8585 - val_loss: 0.3547 - val_accuracy: 0.8429\n",
      "Epoch 38/100\n",
      "25/25 [==============================] - 0s 16ms/step - loss: 0.3137 - accuracy: 0.8667 - val_loss: 0.3389 - val_accuracy: 0.8464\n",
      "Epoch 39/100\n",
      "25/25 [==============================] - 0s 16ms/step - loss: 0.3020 - accuracy: 0.8699 - val_loss: 0.3300 - val_accuracy: 0.8536\n",
      "Epoch 40/100\n",
      "25/25 [==============================] - 0s 16ms/step - loss: 0.3031 - accuracy: 0.8686 - val_loss: 0.3382 - val_accuracy: 0.8607\n",
      "Epoch 41/100\n",
      "25/25 [==============================] - 0s 16ms/step - loss: 0.3020 - accuracy: 0.8711 - val_loss: 0.3606 - val_accuracy: 0.8536\n",
      "Epoch 42/100\n",
      "25/25 [==============================] - 0s 18ms/step - loss: 0.3204 - accuracy: 0.8667 - val_loss: 0.3439 - val_accuracy: 0.8500\n",
      "Epoch 43/100\n",
      "25/25 [==============================] - 1s 27ms/step - loss: 0.3035 - accuracy: 0.8699 - val_loss: 0.3118 - val_accuracy: 0.8571\n",
      "Epoch 44/100\n",
      "25/25 [==============================] - 1s 19ms/step - loss: 0.2809 - accuracy: 0.8869 - val_loss: 0.3071 - val_accuracy: 0.8714\n",
      "Epoch 45/100\n",
      "25/25 [==============================] - 0s 16ms/step - loss: 0.2854 - accuracy: 0.8825 - val_loss: 0.3084 - val_accuracy: 0.8607\n",
      "Epoch 46/100\n",
      "25/25 [==============================] - 0s 17ms/step - loss: 0.2771 - accuracy: 0.8869 - val_loss: 0.3270 - val_accuracy: 0.8643\n",
      "Epoch 47/100\n",
      "25/25 [==============================] - 0s 17ms/step - loss: 0.2851 - accuracy: 0.8806 - val_loss: 0.3149 - val_accuracy: 0.8464\n",
      "Epoch 48/100\n",
      "25/25 [==============================] - 0s 16ms/step - loss: 0.2699 - accuracy: 0.8907 - val_loss: 0.3057 - val_accuracy: 0.8679\n",
      "Epoch 49/100\n",
      "25/25 [==============================] - 0s 17ms/step - loss: 0.2752 - accuracy: 0.8882 - val_loss: 0.3072 - val_accuracy: 0.8643\n",
      "Epoch 50/100\n",
      "25/25 [==============================] - 0s 16ms/step - loss: 0.2594 - accuracy: 0.8857 - val_loss: 0.3366 - val_accuracy: 0.8286\n",
      "Epoch 51/100\n",
      "25/25 [==============================] - 0s 16ms/step - loss: 0.2659 - accuracy: 0.8939 - val_loss: 0.3027 - val_accuracy: 0.8786\n",
      "Epoch 52/100\n",
      "25/25 [==============================] - 0s 17ms/step - loss: 0.2727 - accuracy: 0.8787 - val_loss: 0.3288 - val_accuracy: 0.8679\n",
      "Epoch 53/100\n",
      "25/25 [==============================] - 0s 16ms/step - loss: 0.2446 - accuracy: 0.9033 - val_loss: 0.3085 - val_accuracy: 0.8643\n",
      "Epoch 54/100\n",
      "25/25 [==============================] - 0s 16ms/step - loss: 0.2558 - accuracy: 0.9002 - val_loss: 0.3061 - val_accuracy: 0.8643\n",
      "Epoch 55/100\n",
      "25/25 [==============================] - 0s 15ms/step - loss: 0.2404 - accuracy: 0.9103 - val_loss: 0.2884 - val_accuracy: 0.8857\n",
      "Epoch 56/100\n",
      "25/25 [==============================] - 0s 16ms/step - loss: 0.2458 - accuracy: 0.9109 - val_loss: 0.3073 - val_accuracy: 0.8643\n",
      "Epoch 57/100\n",
      "25/25 [==============================] - 0s 16ms/step - loss: 0.2278 - accuracy: 0.9210 - val_loss: 0.2981 - val_accuracy: 0.8857\n",
      "Epoch 58/100\n",
      "25/25 [==============================] - 0s 15ms/step - loss: 0.2348 - accuracy: 0.9097 - val_loss: 0.2836 - val_accuracy: 0.8750\n",
      "Epoch 59/100\n",
      "25/25 [==============================] - 0s 16ms/step - loss: 0.2238 - accuracy: 0.9179 - val_loss: 0.3137 - val_accuracy: 0.8643\n",
      "Epoch 60/100\n",
      "25/25 [==============================] - 0s 16ms/step - loss: 0.2344 - accuracy: 0.9021 - val_loss: 0.3015 - val_accuracy: 0.8607\n",
      "Epoch 61/100\n",
      "25/25 [==============================] - 0s 16ms/step - loss: 0.2375 - accuracy: 0.9040 - val_loss: 0.3401 - val_accuracy: 0.8429\n",
      "Epoch 62/100\n",
      "25/25 [==============================] - 0s 15ms/step - loss: 0.2396 - accuracy: 0.9059 - val_loss: 0.2827 - val_accuracy: 0.8857\n",
      "Epoch 63/100\n",
      "25/25 [==============================] - 0s 16ms/step - loss: 0.2250 - accuracy: 0.9084 - val_loss: 0.2902 - val_accuracy: 0.8857\n",
      "Epoch 64/100\n",
      "25/25 [==============================] - 0s 17ms/step - loss: 0.2243 - accuracy: 0.9154 - val_loss: 0.3033 - val_accuracy: 0.8821\n",
      "Epoch 65/100\n",
      "25/25 [==============================] - 0s 16ms/step - loss: 0.2076 - accuracy: 0.9128 - val_loss: 0.2795 - val_accuracy: 0.8857\n",
      "Epoch 66/100\n",
      "25/25 [==============================] - 0s 16ms/step - loss: 0.2148 - accuracy: 0.9135 - val_loss: 0.3030 - val_accuracy: 0.8679\n",
      "Epoch 67/100\n",
      "25/25 [==============================] - 0s 16ms/step - loss: 0.2115 - accuracy: 0.9172 - val_loss: 0.2920 - val_accuracy: 0.8821\n",
      "Epoch 68/100\n",
      "25/25 [==============================] - 0s 17ms/step - loss: 0.2117 - accuracy: 0.9166 - val_loss: 0.2889 - val_accuracy: 0.8857\n",
      "Epoch 69/100\n",
      "25/25 [==============================] - 0s 17ms/step - loss: 0.2069 - accuracy: 0.9141 - val_loss: 0.2844 - val_accuracy: 0.8893\n",
      "Epoch 70/100\n",
      "25/25 [==============================] - 0s 16ms/step - loss: 0.1989 - accuracy: 0.9223 - val_loss: 0.3059 - val_accuracy: 0.8821\n",
      "Epoch 71/100\n",
      "25/25 [==============================] - 0s 16ms/step - loss: 0.2064 - accuracy: 0.9160 - val_loss: 0.2950 - val_accuracy: 0.8821\n",
      "Epoch 72/100\n",
      "25/25 [==============================] - 0s 16ms/step - loss: 0.1961 - accuracy: 0.9337 - val_loss: 0.2795 - val_accuracy: 0.8893\n",
      "Epoch 73/100\n",
      "25/25 [==============================] - 0s 17ms/step - loss: 0.1975 - accuracy: 0.9261 - val_loss: 0.3076 - val_accuracy: 0.8643\n",
      "Epoch 74/100\n",
      "25/25 [==============================] - 0s 16ms/step - loss: 0.1990 - accuracy: 0.9267 - val_loss: 0.3005 - val_accuracy: 0.8857\n",
      "Epoch 75/100\n",
      "25/25 [==============================] - 0s 16ms/step - loss: 0.2127 - accuracy: 0.9116 - val_loss: 0.2907 - val_accuracy: 0.8929\n",
      "Epoch 76/100\n",
      "25/25 [==============================] - 0s 16ms/step - loss: 0.1980 - accuracy: 0.9223 - val_loss: 0.2933 - val_accuracy: 0.8857\n",
      "Epoch 77/100\n",
      "25/25 [==============================] - 0s 16ms/step - loss: 0.2085 - accuracy: 0.9172 - val_loss: 0.3417 - val_accuracy: 0.8643\n",
      "Epoch 78/100\n",
      "25/25 [==============================] - 0s 16ms/step - loss: 0.1958 - accuracy: 0.9229 - val_loss: 0.3042 - val_accuracy: 0.8786\n",
      "Epoch 79/100\n",
      "25/25 [==============================] - 0s 16ms/step - loss: 0.1951 - accuracy: 0.9318 - val_loss: 0.2790 - val_accuracy: 0.8893\n",
      "Epoch 80/100\n",
      "25/25 [==============================] - 0s 17ms/step - loss: 0.1802 - accuracy: 0.9286 - val_loss: 0.3402 - val_accuracy: 0.8750\n",
      "Epoch 81/100\n",
      "25/25 [==============================] - 0s 16ms/step - loss: 0.1893 - accuracy: 0.9267 - val_loss: 0.3096 - val_accuracy: 0.8750\n",
      "Epoch 82/100\n",
      "25/25 [==============================] - 0s 16ms/step - loss: 0.1952 - accuracy: 0.9242 - val_loss: 0.3229 - val_accuracy: 0.8714\n",
      "Epoch 83/100\n",
      "25/25 [==============================] - 0s 15ms/step - loss: 0.1864 - accuracy: 0.9324 - val_loss: 0.3261 - val_accuracy: 0.8786\n",
      "Epoch 84/100\n",
      "25/25 [==============================] - 0s 17ms/step - loss: 0.1884 - accuracy: 0.9267 - val_loss: 0.3201 - val_accuracy: 0.8714\n",
      "Epoch 85/100\n",
      "25/25 [==============================] - 0s 16ms/step - loss: 0.1802 - accuracy: 0.9387 - val_loss: 0.3452 - val_accuracy: 0.8893\n",
      "Epoch 86/100\n",
      "25/25 [==============================] - 0s 17ms/step - loss: 0.1849 - accuracy: 0.9274 - val_loss: 0.2939 - val_accuracy: 0.8857\n",
      "Epoch 87/100\n",
      "25/25 [==============================] - 0s 16ms/step - loss: 0.1784 - accuracy: 0.9349 - val_loss: 0.3221 - val_accuracy: 0.8714\n",
      "Epoch 88/100\n",
      "25/25 [==============================] - 0s 16ms/step - loss: 0.1786 - accuracy: 0.9343 - val_loss: 0.2975 - val_accuracy: 0.8857\n",
      "Epoch 89/100\n",
      "25/25 [==============================] - 0s 16ms/step - loss: 0.1803 - accuracy: 0.9324 - val_loss: 0.2854 - val_accuracy: 0.8821\n",
      "Epoch 90/100\n",
      "25/25 [==============================] - 0s 17ms/step - loss: 0.1916 - accuracy: 0.9191 - val_loss: 0.3064 - val_accuracy: 0.8714\n",
      "Epoch 91/100\n",
      "25/25 [==============================] - 0s 16ms/step - loss: 0.1737 - accuracy: 0.9274 - val_loss: 0.3158 - val_accuracy: 0.8857\n",
      "Epoch 92/100\n",
      "25/25 [==============================] - 0s 16ms/step - loss: 0.1750 - accuracy: 0.9311 - val_loss: 0.2847 - val_accuracy: 0.8857\n",
      "Epoch 93/100\n",
      "25/25 [==============================] - 0s 16ms/step - loss: 0.1755 - accuracy: 0.9292 - val_loss: 0.3920 - val_accuracy: 0.8679\n",
      "Epoch 94/100\n",
      "25/25 [==============================] - 0s 17ms/step - loss: 0.1778 - accuracy: 0.9337 - val_loss: 0.3023 - val_accuracy: 0.8786\n",
      "Epoch 94: early stopping\n"
     ]
    },
    {
     "data": {
      "text/plain": "<keras.callbacks.History at 0x1c191086800>"
     },
     "execution_count": 33,
     "metadata": {},
     "output_type": "execute_result"
    }
   ],
   "source": [
    "model.fit(\n",
    "    train_ds,\n",
    "    epochs=epochs,\n",
    "    validation_data=valid_ds,\n",
    "    class_weight=class_weight,\n",
    "    callbacks=tf.keras.callbacks.EarlyStopping(verbose=1, patience=patience),\n",
    ")"
   ],
   "metadata": {
    "collapsed": false
   }
  },
  {
   "cell_type": "code",
   "execution_count": 56,
   "outputs": [
    {
     "name": "stdout",
     "output_type": "stream",
     "text": [
      "11/11 [==============================] - 0s 6ms/step\n",
      "\n",
      "Evaluation on the test set:\n",
      "False alarm prob: 6.06%\n",
      "Miss detection prob: 10.98%\n",
      "Number of False Positives: 10\n",
      "Number of False Negatives: 18\n",
      "Detector f1-score is 91.250000%\n",
      "\n",
      "Other Metrics:\n",
      "Detector accuracy is 91.489362%\n",
      "Detector precision is 93.589744%\n",
      "Detector recall is 89.024390%\n"
     ]
    }
   ],
   "source": [
    "# Evaluate the model\n",
    "predictions = model.predict(features_test)\n",
    "y_pred = np.squeeze(np.rint(predictions), axis=-1)\n",
    "\n",
    "detection_report(y_test, y_pred)"
   ],
   "metadata": {
    "collapsed": false
   }
  }
 ],
 "metadata": {
  "kernelspec": {
   "display_name": "Python 3",
   "language": "python",
   "name": "python3"
  },
  "language_info": {
   "codemirror_mode": {
    "name": "ipython",
    "version": 2
   },
   "file_extension": ".py",
   "mimetype": "text/x-python",
   "name": "python",
   "nbconvert_exporter": "python",
   "pygments_lexer": "ipython2",
   "version": "2.7.6"
  }
 },
 "nbformat": 4,
 "nbformat_minor": 0
}
