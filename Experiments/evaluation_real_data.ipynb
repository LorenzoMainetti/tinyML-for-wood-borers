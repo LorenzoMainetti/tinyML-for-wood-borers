{
 "cells": [
  {
   "cell_type": "code",
   "execution_count": null,
   "outputs": [],
   "source": [
    "import sys\n",
    "\n",
    "sys.path.append('../../')\n",
    "\n",
    "import numpy as np\n",
    "import pandas as pd\n",
    "import matplotlib.pyplot as plt\n",
    "from sklearn.metrics import classification_report\n",
    "\n",
    "from Pipeline.tf_dataset_builder import RawDatasetBuilder\n",
    "from Pipeline.preprocess import Normalizer, BandpassFilter\n",
    "from Pipeline.Cascade.Detection.detection_algorithms import MovingStdDetector\n",
    "from Pipeline.evaluation import detection_report\n",
    "from Pipeline.tf_lite_utils import predict_tflite_mtl"
   ],
   "metadata": {
    "collapsed": false
   }
  },
  {
   "cell_type": "code",
   "execution_count": 2,
   "outputs": [],
   "source": [
    "seed = 1\n",
    "np.random.seed(seed)"
   ],
   "metadata": {
    "collapsed": false,
    "ExecuteTime": {
     "end_time": "2023-06-29T14:30:15.650946400Z",
     "start_time": "2023-06-29T14:30:15.634856400Z"
    }
   }
  },
  {
   "cell_type": "code",
   "execution_count": 3,
   "outputs": [],
   "source": [
    "treeVibes = False\n",
    "\n",
    "if treeVibes:\n",
    "    sample_rate = 8000\n",
    "    #dataset_dir = '../Dataset/TreeVibes/lab/lab/**/*.wav'\n",
    "    dataset_dir = '../Dataset/TreeVibes/field/field/train/**/**/*.wav'\n",
    "else:\n",
    "    sample_rate = 44100\n",
    "    #dataset_dir = '../Dataset/NAU dataset/TASCAM/lab/Ponderosa/96 KHz/original_dataset/**/*.wav'\n",
    "    #dataset_dir = '../Dataset/NAU dataset/TASCAM/lab/Ponderosa/96 KHz/unprocessed_dataset/**/*.wav'\n",
    "    dataset_dir = '../Dataset/Final dataset/Evaluation/Collected dataset/**/*.wav'\n"
   ],
   "metadata": {
    "collapsed": false,
    "ExecuteTime": {
     "end_time": "2023-06-29T14:30:15.671086400Z",
     "start_time": "2023-06-29T14:30:15.650946400Z"
    }
   }
  },
  {
   "cell_type": "code",
   "execution_count": 4,
   "outputs": [],
   "source": [
    "DatasetBuilder = RawDatasetBuilder(\n",
    "    dataset_dir=dataset_dir,\n",
    "    class_dict={'clean': 0, 'infested': 1},\n",
    "    seed=seed,\n",
    "    sample_rate=sample_rate,\n",
    "    balanced=False   # False\n",
    ")"
   ],
   "metadata": {
    "collapsed": false,
    "ExecuteTime": {
     "end_time": "2023-06-29T14:30:15.682595800Z",
     "start_time": "2023-06-29T14:30:15.671086400Z"
    }
   }
  },
  {
   "cell_type": "code",
   "execution_count": 5,
   "outputs": [],
   "source": [
    "X_test, y_test = DatasetBuilder.get_features_and_labels()"
   ],
   "metadata": {
    "collapsed": false,
    "ExecuteTime": {
     "end_time": "2023-06-29T14:31:47.589281300Z",
     "start_time": "2023-06-29T14:30:36.991154700Z"
    }
   }
  },
  {
   "cell_type": "markdown",
   "source": [
    "# Novel approach: multi-task HPS detector\n",
    "- Load the tflite quantized multi-task network, pretrained on the custom generated dataset\n",
    "- Split the test set (TreeVibes field) into 2205 samples windows\n",
    "- Standardize the test set\n",
    "- Predict on the test set\n",
    "- Reaggregate the predictions and compute the detection report"
   ],
   "metadata": {
    "collapsed": false
   }
  },
  {
   "cell_type": "code",
   "execution_count": 75,
   "outputs": [],
   "source": [
    "X_test_windowed = []\n",
    "original_indices = []\n",
    "split_start = []\n",
    "for j, x in enumerate(X_test):\n",
    "    splits = []\n",
    "    for i in range(0, len(x), 2205):\n",
    "        if len(x[i:i + 2205]) < 2205:\n",
    "            break\n",
    "        splits.append(x[i:i + 2205])\n",
    "        split_start.append(i)\n",
    "\n",
    "    X_test_windowed.extend(splits)\n",
    "    # add j to the list as many times as the splits\n",
    "    original_indices.extend([j] * len(splits))"
   ],
   "metadata": {
    "collapsed": false,
    "ExecuteTime": {
     "end_time": "2023-06-29T15:25:25.540911900Z",
     "start_time": "2023-06-29T15:25:25.493938Z"
    }
   }
  },
  {
   "cell_type": "code",
   "execution_count": 76,
   "outputs": [],
   "source": [
    "original_indices = np.array(original_indices)\n",
    "split_num = np.array(split_start)"
   ],
   "metadata": {
    "collapsed": false,
    "ExecuteTime": {
     "end_time": "2023-06-29T15:25:26.357127Z",
     "start_time": "2023-06-29T15:25:26.320505300Z"
    }
   }
  },
  {
   "cell_type": "code",
   "execution_count": 77,
   "outputs": [],
   "source": [
    "if not treeVibes:\n",
    "    bandpass = BandpassFilter(200, 20000, sample_rate, order=2)\n",
    "    X_test_windowed = [bandpass.filter(feature) for feature in X_test_windowed]\n",
    "\n",
    "normalizer = Normalizer(mode='mean_std')\n",
    "X_test_windowed = [normalizer.normalize(feature) for feature in X_test_windowed]"
   ],
   "metadata": {
    "collapsed": false,
    "ExecuteTime": {
     "end_time": "2023-06-29T15:26:25.311835800Z",
     "start_time": "2023-06-29T15:25:26.800082500Z"
    }
   }
  },
  {
   "cell_type": "code",
   "execution_count": 78,
   "outputs": [],
   "source": [
    "X_test_windowed = np.array(X_test_windowed)\n",
    "X_test_windowed = np.expand_dims(X_test_windowed, axis=-1)"
   ],
   "metadata": {
    "collapsed": false,
    "ExecuteTime": {
     "end_time": "2023-06-29T15:27:01.669608100Z",
     "start_time": "2023-06-29T15:26:25.327483200Z"
    }
   }
  },
  {
   "cell_type": "code",
   "execution_count": 79,
   "outputs": [],
   "source": [
    "y_pred_det, y_pred_class = predict_tflite_mtl('../../Models/mtl_model.tflite', X_test_windowed)"
   ],
   "metadata": {
    "collapsed": false,
    "ExecuteTime": {
     "end_time": "2023-06-29T15:27:27.490306100Z",
     "start_time": "2023-06-29T15:27:01.707337700Z"
    }
   }
  },
  {
   "cell_type": "code",
   "execution_count": 80,
   "outputs": [],
   "source": [
    "prediction_df = pd.DataFrame({'prediction': y_pred_det.flatten(), 'original_index': original_indices, 'split_start': split_start})\n",
    "# keep only predictions = 1\n",
    "anomaly_df = prediction_df[prediction_df['prediction'] == 1]"
   ],
   "metadata": {
    "collapsed": false,
    "ExecuteTime": {
     "end_time": "2023-06-29T15:27:27.712121600Z",
     "start_time": "2023-06-29T15:27:27.524767500Z"
    }
   }
  },
  {
   "cell_type": "code",
   "execution_count": 81,
   "outputs": [
    {
     "data": {
      "text/plain": "       prediction  original_index  split_start\n184             1               0       405720\n270             1               1       154350\n370             1               1       374850\n589             1               2       416745\n2220            1              11        44100\n...           ...             ...          ...\n49734           1             248       295470\n49777           1             248       390285\n50054           1             250       119070\n50576           1             252       388080\n50807           1             254        15435\n\n[552 rows x 3 columns]",
      "text/html": "<div>\n<style scoped>\n    .dataframe tbody tr th:only-of-type {\n        vertical-align: middle;\n    }\n\n    .dataframe tbody tr th {\n        vertical-align: top;\n    }\n\n    .dataframe thead th {\n        text-align: right;\n    }\n</style>\n<table border=\"1\" class=\"dataframe\">\n  <thead>\n    <tr style=\"text-align: right;\">\n      <th></th>\n      <th>prediction</th>\n      <th>original_index</th>\n      <th>split_start</th>\n    </tr>\n  </thead>\n  <tbody>\n    <tr>\n      <th>184</th>\n      <td>1</td>\n      <td>0</td>\n      <td>405720</td>\n    </tr>\n    <tr>\n      <th>270</th>\n      <td>1</td>\n      <td>1</td>\n      <td>154350</td>\n    </tr>\n    <tr>\n      <th>370</th>\n      <td>1</td>\n      <td>1</td>\n      <td>374850</td>\n    </tr>\n    <tr>\n      <th>589</th>\n      <td>1</td>\n      <td>2</td>\n      <td>416745</td>\n    </tr>\n    <tr>\n      <th>2220</th>\n      <td>1</td>\n      <td>11</td>\n      <td>44100</td>\n    </tr>\n    <tr>\n      <th>...</th>\n      <td>...</td>\n      <td>...</td>\n      <td>...</td>\n    </tr>\n    <tr>\n      <th>49734</th>\n      <td>1</td>\n      <td>248</td>\n      <td>295470</td>\n    </tr>\n    <tr>\n      <th>49777</th>\n      <td>1</td>\n      <td>248</td>\n      <td>390285</td>\n    </tr>\n    <tr>\n      <th>50054</th>\n      <td>1</td>\n      <td>250</td>\n      <td>119070</td>\n    </tr>\n    <tr>\n      <th>50576</th>\n      <td>1</td>\n      <td>252</td>\n      <td>388080</td>\n    </tr>\n    <tr>\n      <th>50807</th>\n      <td>1</td>\n      <td>254</td>\n      <td>15435</td>\n    </tr>\n  </tbody>\n</table>\n<p>552 rows × 3 columns</p>\n</div>"
     },
     "execution_count": 81,
     "metadata": {},
     "output_type": "execute_result"
    }
   ],
   "source": [
    "anomaly_df"
   ],
   "metadata": {
    "collapsed": false,
    "ExecuteTime": {
     "end_time": "2023-06-29T15:27:27.838144500Z",
     "start_time": "2023-06-29T15:27:27.732195200Z"
    }
   }
  },
  {
   "cell_type": "code",
   "execution_count": 82,
   "outputs": [
    {
     "data": {
      "text/plain": "<Figure size 1440x720 with 1 Axes>",
      "image/png": "[encoded data removed]"
     },
     "metadata": {
      "needs_background": "light"
     },
     "output_type": "display_data"
    }
   ],
   "source": [
    "index = 4\n",
    "\n",
    "plt.figure(figsize=(20, 10))\n",
    "plt.title('Label:' + str(y_test[index]))\n",
    "plt.plot(X_test[index], alpha=0.8)\n",
    "# highlight in red the anomalies\n",
    "for i, row in anomaly_df[anomaly_df['original_index'] == index].iterrows():\n",
    "    plt.axvspan(row['split_start'], (row['split_start'] + 2205), color='red', alpha=0.5)"
   ],
   "metadata": {
    "collapsed": false,
    "ExecuteTime": {
     "end_time": "2023-06-29T15:27:31.712754600Z",
     "start_time": "2023-06-29T15:27:27.868171500Z"
    }
   }
  },
  {
   "cell_type": "raw",
   "source": [
    "# compute aggregated prediction\n",
    "aggregated_pred = []\n",
    "for i in range(len(X_test)):\n",
    "    # get all the predictions for the current index\n",
    "    current_index_df = anomaly_df[anomaly_df['original_index'] == i]\n",
    "    # if there are no predictions for the current index, append 0\n",
    "    if len(current_index_df) == 0:\n",
    "        aggregated_pred.append(0)\n",
    "    # else append 1 if there is at least one prediction\n",
    "    else:\n",
    "        aggregated_pred.append(1)"
   ],
   "metadata": {
    "collapsed": false
   }
  },
  {
   "cell_type": "code",
   "execution_count": 83,
   "outputs": [],
   "source": [
    "# compute aggregated prediction\n",
    "aggregated_pred = []\n",
    "for i in range(len(X_test)):\n",
    "    # get all the predictions for the current index\n",
    "    current_index_df = anomaly_df[anomaly_df['original_index'] == i]\n",
    "    # if there are less than 5 predictions for the current index, append 0\n",
    "    if len(current_index_df) < 1:\n",
    "        aggregated_pred.append(0)\n",
    "    # else append 1 if there is at least one prediction\n",
    "    else:\n",
    "        aggregated_pred.append(1)\n"
   ],
   "metadata": {
    "collapsed": false,
    "ExecuteTime": {
     "end_time": "2023-06-29T15:27:31.917071600Z",
     "start_time": "2023-06-29T15:27:31.729133200Z"
    }
   }
  },
  {
   "cell_type": "code",
   "execution_count": 84,
   "outputs": [
    {
     "name": "stdout",
     "output_type": "stream",
     "text": [
      "Quantized detection report:\n",
      "\n",
      "Evaluation on the test set:\n",
      "False alarm prob: 38.86%\n",
      "Miss detection prob: 20.45%\n",
      "Number of False Positives: 82\n",
      "Number of False Negatives: 9\n",
      "Detector f1-score is 43.478261%\n",
      "\n",
      "Other Metrics:\n",
      "Detector accuracy is 64.313725%\n",
      "Detector precision is 29.914530%\n",
      "Detector recall is 79.545455%\n"
     ]
    }
   ],
   "source": [
    "print(\"Quantized detection report:\")\n",
    "detection_report(y_test, aggregated_pred)"
   ],
   "metadata": {
    "collapsed": false,
    "ExecuteTime": {
     "end_time": "2023-06-29T15:27:32.183412Z",
     "start_time": "2023-06-29T15:27:31.932697Z"
    }
   }
  },
  {
   "cell_type": "code",
   "execution_count": 444,
   "outputs": [],
   "source": [],
   "metadata": {
    "collapsed": false,
    "ExecuteTime": {
     "end_time": "2023-06-21T21:39:59.410781100Z",
     "start_time": "2023-06-21T21:39:59.315831500Z"
    }
   }
  },
  {
   "cell_type": "code",
   "execution_count": 85,
   "outputs": [
    {
     "data": {
      "text/plain": "       prediction  original_index  split_start\n184             2               0       405720\n270             1               1       154350\n271             1               1       156555\n370             1               1       374850\n589             1               2       416745\n...           ...             ...          ...\n49777           1             248       390285\n50054           1             250       119070\n50344           1             251       317520\n50576           1             252       388080\n50807           1             254        15435\n\n[549 rows x 3 columns]",
      "text/html": "<div>\n<style scoped>\n    .dataframe tbody tr th:only-of-type {\n        vertical-align: middle;\n    }\n\n    .dataframe tbody tr th {\n        vertical-align: top;\n    }\n\n    .dataframe thead th {\n        text-align: right;\n    }\n</style>\n<table border=\"1\" class=\"dataframe\">\n  <thead>\n    <tr style=\"text-align: right;\">\n      <th></th>\n      <th>prediction</th>\n      <th>original_index</th>\n      <th>split_start</th>\n    </tr>\n  </thead>\n  <tbody>\n    <tr>\n      <th>184</th>\n      <td>2</td>\n      <td>0</td>\n      <td>405720</td>\n    </tr>\n    <tr>\n      <th>270</th>\n      <td>1</td>\n      <td>1</td>\n      <td>154350</td>\n    </tr>\n    <tr>\n      <th>271</th>\n      <td>1</td>\n      <td>1</td>\n      <td>156555</td>\n    </tr>\n    <tr>\n      <th>370</th>\n      <td>1</td>\n      <td>1</td>\n      <td>374850</td>\n    </tr>\n    <tr>\n      <th>589</th>\n      <td>1</td>\n      <td>2</td>\n      <td>416745</td>\n    </tr>\n    <tr>\n      <th>...</th>\n      <td>...</td>\n      <td>...</td>\n      <td>...</td>\n    </tr>\n    <tr>\n      <th>49777</th>\n      <td>1</td>\n      <td>248</td>\n      <td>390285</td>\n    </tr>\n    <tr>\n      <th>50054</th>\n      <td>1</td>\n      <td>250</td>\n      <td>119070</td>\n    </tr>\n    <tr>\n      <th>50344</th>\n      <td>1</td>\n      <td>251</td>\n      <td>317520</td>\n    </tr>\n    <tr>\n      <th>50576</th>\n      <td>1</td>\n      <td>252</td>\n      <td>388080</td>\n    </tr>\n    <tr>\n      <th>50807</th>\n      <td>1</td>\n      <td>254</td>\n      <td>15435</td>\n    </tr>\n  </tbody>\n</table>\n<p>549 rows × 3 columns</p>\n</div>"
     },
     "execution_count": 85,
     "metadata": {},
     "output_type": "execute_result"
    }
   ],
   "source": [
    "# Classification\n",
    "\n",
    "prediction_df = pd.DataFrame(\n",
    "    {'prediction': y_pred_class, 'original_index': original_indices, 'split_start': split_start})\n",
    "# keep only predictions = 1\n",
    "anomaly_df = prediction_df[prediction_df['prediction'] != 0]\n",
    "anomaly_df"
   ],
   "metadata": {
    "collapsed": false,
    "ExecuteTime": {
     "end_time": "2023-06-29T15:27:32.406919400Z",
     "start_time": "2023-06-29T15:27:32.182701200Z"
    }
   }
  },
  {
   "cell_type": "code",
   "execution_count": 106,
   "outputs": [],
   "source": [
    "# compute aggregated prediction per class 1 and 2\n",
    "aggregated_pred = []\n",
    "for i in range(len(X_test)):\n",
    "    # get all the predictions for the current index\n",
    "    current_index_df = anomaly_df[anomaly_df['original_index'] == i]\n",
    "    # if there are no predictions for the current index, append 0\n",
    "    if len(current_index_df) == 0:\n",
    "        aggregated_pred.append(0)\n",
    "    else:\n",
    "        # if the majority of the predictions is 1, append 1\n",
    "        if current_index_df['prediction'].value_counts().index[0] == 1:\n",
    "            aggregated_pred.append(1)\n",
    "        # else append 2\n",
    "        else:\n",
    "            aggregated_pred.append(2)"
   ],
   "metadata": {
    "collapsed": false,
    "ExecuteTime": {
     "end_time": "2023-06-29T15:34:01.725710500Z",
     "start_time": "2023-06-29T15:34:01.616330700Z"
    }
   }
  },
  {
   "cell_type": "code",
   "execution_count": 107,
   "outputs": [],
   "source": [
    "aggregated_pred_df = pd.DataFrame({'prediction': aggregated_pred, 'label': y_test})"
   ],
   "metadata": {
    "collapsed": false,
    "ExecuteTime": {
     "end_time": "2023-06-29T15:34:03.872010200Z",
     "start_time": "2023-06-29T15:34:03.793479300Z"
    }
   }
  },
  {
   "cell_type": "code",
   "execution_count": 108,
   "outputs": [
    {
     "data": {
      "text/plain": "     prediction  label\n211           1      1\n212           1      1\n213           0      1\n214           1      1\n215           1      1\n216           1      1\n217           1      1\n218           1      1\n219           1      1\n220           1      1\n221           1      1\n222           1      1\n223           1      1\n224           1      1\n225           1      1\n226           0      1\n227           1      1\n228           1      1\n229           1      1\n230           1      1\n231           1      1\n232           1      1\n233           1      1\n234           1      1\n235           1      1\n236           0      1\n237           1      1\n238           1      1\n239           0      1\n240           0      1\n241           1      1\n242           1      1\n243           1      1\n244           0      1\n245           1      1\n246           1      1\n247           1      1\n248           1      1\n249           0      1\n250           1      1\n251           1      1\n252           1      1\n253           0      1\n254           1      1",
      "text/html": "<div>\n<style scoped>\n    .dataframe tbody tr th:only-of-type {\n        vertical-align: middle;\n    }\n\n    .dataframe tbody tr th {\n        vertical-align: top;\n    }\n\n    .dataframe thead th {\n        text-align: right;\n    }\n</style>\n<table border=\"1\" class=\"dataframe\">\n  <thead>\n    <tr style=\"text-align: right;\">\n      <th></th>\n      <th>prediction</th>\n      <th>label</th>\n    </tr>\n  </thead>\n  <tbody>\n    <tr>\n      <th>211</th>\n      <td>1</td>\n      <td>1</td>\n    </tr>\n    <tr>\n      <th>212</th>\n      <td>1</td>\n      <td>1</td>\n    </tr>\n    <tr>\n      <th>213</th>\n      <td>0</td>\n      <td>1</td>\n    </tr>\n    <tr>\n      <th>214</th>\n      <td>1</td>\n      <td>1</td>\n    </tr>\n    <tr>\n      <th>215</th>\n      <td>1</td>\n      <td>1</td>\n    </tr>\n    <tr>\n      <th>216</th>\n      <td>1</td>\n      <td>1</td>\n    </tr>\n    <tr>\n      <th>217</th>\n      <td>1</td>\n      <td>1</td>\n    </tr>\n    <tr>\n      <th>218</th>\n      <td>1</td>\n      <td>1</td>\n    </tr>\n    <tr>\n      <th>219</th>\n      <td>1</td>\n      <td>1</td>\n    </tr>\n    <tr>\n      <th>220</th>\n      <td>1</td>\n      <td>1</td>\n    </tr>\n    <tr>\n      <th>221</th>\n      <td>1</td>\n      <td>1</td>\n    </tr>\n    <tr>\n      <th>222</th>\n      <td>1</td>\n      <td>1</td>\n    </tr>\n    <tr>\n      <th>223</th>\n      <td>1</td>\n      <td>1</td>\n    </tr>\n    <tr>\n      <th>224</th>\n      <td>1</td>\n      <td>1</td>\n    </tr>\n    <tr>\n      <th>225</th>\n      <td>1</td>\n      <td>1</td>\n    </tr>\n    <tr>\n      <th>226</th>\n      <td>0</td>\n      <td>1</td>\n    </tr>\n    <tr>\n      <th>227</th>\n      <td>1</td>\n      <td>1</td>\n    </tr>\n    <tr>\n      <th>228</th>\n      <td>1</td>\n      <td>1</td>\n    </tr>\n    <tr>\n      <th>229</th>\n      <td>1</td>\n      <td>1</td>\n    </tr>\n    <tr>\n      <th>230</th>\n      <td>1</td>\n      <td>1</td>\n    </tr>\n    <tr>\n      <th>231</th>\n      <td>1</td>\n      <td>1</td>\n    </tr>\n    <tr>\n      <th>232</th>\n      <td>1</td>\n      <td>1</td>\n    </tr>\n    <tr>\n      <th>233</th>\n      <td>1</td>\n      <td>1</td>\n    </tr>\n    <tr>\n      <th>234</th>\n      <td>1</td>\n      <td>1</td>\n    </tr>\n    <tr>\n      <th>235</th>\n      <td>1</td>\n      <td>1</td>\n    </tr>\n    <tr>\n      <th>236</th>\n      <td>0</td>\n      <td>1</td>\n    </tr>\n    <tr>\n      <th>237</th>\n      <td>1</td>\n      <td>1</td>\n    </tr>\n    <tr>\n      <th>238</th>\n      <td>1</td>\n      <td>1</td>\n    </tr>\n    <tr>\n      <th>239</th>\n      <td>0</td>\n      <td>1</td>\n    </tr>\n    <tr>\n      <th>240</th>\n      <td>0</td>\n      <td>1</td>\n    </tr>\n    <tr>\n      <th>241</th>\n      <td>1</td>\n      <td>1</td>\n    </tr>\n    <tr>\n      <th>242</th>\n      <td>1</td>\n      <td>1</td>\n    </tr>\n    <tr>\n      <th>243</th>\n      <td>1</td>\n      <td>1</td>\n    </tr>\n    <tr>\n      <th>244</th>\n      <td>0</td>\n      <td>1</td>\n    </tr>\n    <tr>\n      <th>245</th>\n      <td>1</td>\n      <td>1</td>\n    </tr>\n    <tr>\n      <th>246</th>\n      <td>1</td>\n      <td>1</td>\n    </tr>\n    <tr>\n      <th>247</th>\n      <td>1</td>\n      <td>1</td>\n    </tr>\n    <tr>\n      <th>248</th>\n      <td>1</td>\n      <td>1</td>\n    </tr>\n    <tr>\n      <th>249</th>\n      <td>0</td>\n      <td>1</td>\n    </tr>\n    <tr>\n      <th>250</th>\n      <td>1</td>\n      <td>1</td>\n    </tr>\n    <tr>\n      <th>251</th>\n      <td>1</td>\n      <td>1</td>\n    </tr>\n    <tr>\n      <th>252</th>\n      <td>1</td>\n      <td>1</td>\n    </tr>\n    <tr>\n      <th>253</th>\n      <td>0</td>\n      <td>1</td>\n    </tr>\n    <tr>\n      <th>254</th>\n      <td>1</td>\n      <td>1</td>\n    </tr>\n  </tbody>\n</table>\n</div>"
     },
     "execution_count": 108,
     "metadata": {},
     "output_type": "execute_result"
    }
   ],
   "source": [
    "aggregated_pred_df[aggregated_pred_df['label'] == 1]"
   ],
   "metadata": {
    "collapsed": false,
    "ExecuteTime": {
     "end_time": "2023-06-29T15:34:04.172474900Z",
     "start_time": "2023-06-29T15:34:04.078546800Z"
    }
   }
  },
  {
   "cell_type": "code",
   "execution_count": 126,
   "outputs": [
    {
     "data": {
      "text/plain": "<Figure size 576x360 with 2 Axes>",
      "image/png": "[encoded data removed]"
     },
     "metadata": {
      "needs_background": "light"
     },
     "output_type": "display_data"
    }
   ],
   "source": [
    "from sklearn.metrics import confusion_matrix\n",
    "import seaborn as sns\n",
    "\n",
    "cm = confusion_matrix(y_test , aggregated_pred)\n",
    "\n",
    "plt.figure(figsize=(8, 5))\n",
    "sns.heatmap(cm[0:2],\n",
    "            xticklabels=['background', 'big mandibles', 'small mandibles'],\n",
    "            yticklabels=['clean', 'infested'],\n",
    "            annot=True, fmt='g', cmap=\"rocket\")\n",
    "plt.xlabel('Prediction')\n",
    "plt.ylabel('Label')\n",
    "plt.show()"
   ],
   "metadata": {
    "collapsed": false,
    "ExecuteTime": {
     "end_time": "2023-06-29T16:56:57.736644700Z",
     "start_time": "2023-06-29T16:56:57.390482100Z"
    }
   }
  },
  {
   "cell_type": "markdown",
   "source": [
    "# Cascade Approach"
   ],
   "metadata": {
    "collapsed": false
   }
  },
  {
   "cell_type": "code",
   "execution_count": 42,
   "outputs": [],
   "source": [
    "X_test_windowed = []\n",
    "original_indices = []\n",
    "split_start = []\n",
    "for j, x in enumerate(X_test):\n",
    "    splits = []\n",
    "    for i in range(0, len(x), 2205):\n",
    "        if len(x[i:i + 2205]) < 2205:\n",
    "            break\n",
    "        splits.append(x[i:i + 2205])\n",
    "        split_start.append(i)\n",
    "\n",
    "    X_test_windowed.extend(splits)\n",
    "    # add j to the list as many times as the splits\n",
    "    original_indices.extend([j] * len(splits))\n",
    "\n",
    "original_indices = np.array(original_indices)\n",
    "split_num = np.array(split_start)\n",
    "\n",
    "\n",
    "bandpass = BandpassFilter(200, 20000, sample_rate, order=2)\n",
    "X_test_windowed = [bandpass.filter(feature) for feature in X_test_windowed]\n",
    "\n",
    "X_test_windowed = np.array(X_test_windowed)"
   ],
   "metadata": {
    "collapsed": false,
    "ExecuteTime": {
     "end_time": "2023-06-29T14:52:44.123647300Z",
     "start_time": "2023-06-29T14:52:04.837854900Z"
    }
   }
  },
  {
   "cell_type": "code",
   "execution_count": 71,
   "outputs": [],
   "source": [
    "# Moving std detector (adaptive)\n",
    "detector = MovingStdDetector(version='fixed')\n",
    "detector.set_params(window_size=50, grace_period=30, factor=0.0015)\n",
    "y_pred_det_cascade = detector.detect(X_test_windowed)"
   ],
   "metadata": {
    "collapsed": false,
    "ExecuteTime": {
     "end_time": "2023-06-29T15:11:00.247791400Z",
     "start_time": "2023-06-29T15:10:40.668129100Z"
    }
   }
  },
  {
   "cell_type": "code",
   "execution_count": 72,
   "outputs": [
    {
     "data": {
      "text/plain": "       prediction  original_index  split_start\n370          True               1       374850\n15462        True              77       136710\n15626        True              78        57330\n15627        True              78        59535\n17944        True              89       317520\n...           ...             ...          ...\n46919        True             234       262395\n46936        True             234       299880\n47696        True             238       211680\n48303        True             241       227115\n49271        True             246       156555\n\n[94 rows x 3 columns]",
      "text/html": "<div>\n<style scoped>\n    .dataframe tbody tr th:only-of-type {\n        vertical-align: middle;\n    }\n\n    .dataframe tbody tr th {\n        vertical-align: top;\n    }\n\n    .dataframe thead th {\n        text-align: right;\n    }\n</style>\n<table border=\"1\" class=\"dataframe\">\n  <thead>\n    <tr style=\"text-align: right;\">\n      <th></th>\n      <th>prediction</th>\n      <th>original_index</th>\n      <th>split_start</th>\n    </tr>\n  </thead>\n  <tbody>\n    <tr>\n      <th>370</th>\n      <td>True</td>\n      <td>1</td>\n      <td>374850</td>\n    </tr>\n    <tr>\n      <th>15462</th>\n      <td>True</td>\n      <td>77</td>\n      <td>136710</td>\n    </tr>\n    <tr>\n      <th>15626</th>\n      <td>True</td>\n      <td>78</td>\n      <td>57330</td>\n    </tr>\n    <tr>\n      <th>15627</th>\n      <td>True</td>\n      <td>78</td>\n      <td>59535</td>\n    </tr>\n    <tr>\n      <th>17944</th>\n      <td>True</td>\n      <td>89</td>\n      <td>317520</td>\n    </tr>\n    <tr>\n      <th>...</th>\n      <td>...</td>\n      <td>...</td>\n      <td>...</td>\n    </tr>\n    <tr>\n      <th>46919</th>\n      <td>True</td>\n      <td>234</td>\n      <td>262395</td>\n    </tr>\n    <tr>\n      <th>46936</th>\n      <td>True</td>\n      <td>234</td>\n      <td>299880</td>\n    </tr>\n    <tr>\n      <th>47696</th>\n      <td>True</td>\n      <td>238</td>\n      <td>211680</td>\n    </tr>\n    <tr>\n      <th>48303</th>\n      <td>True</td>\n      <td>241</td>\n      <td>227115</td>\n    </tr>\n    <tr>\n      <th>49271</th>\n      <td>True</td>\n      <td>246</td>\n      <td>156555</td>\n    </tr>\n  </tbody>\n</table>\n<p>94 rows × 3 columns</p>\n</div>"
     },
     "execution_count": 72,
     "metadata": {},
     "output_type": "execute_result"
    }
   ],
   "source": [
    "prediction_df = pd.DataFrame(\n",
    "    {'prediction': y_pred_det_cascade, 'original_index': original_indices, 'split_start': split_start})\n",
    "# keep only predictions = 1\n",
    "anomaly_df = prediction_df[prediction_df['prediction'] != 0]\n",
    "anomaly_df"
   ],
   "metadata": {
    "collapsed": false,
    "ExecuteTime": {
     "end_time": "2023-06-29T15:11:00.294764200Z",
     "start_time": "2023-06-29T15:11:00.247791400Z"
    }
   }
  },
  {
   "cell_type": "code",
   "execution_count": 74,
   "outputs": [
    {
     "name": "stdout",
     "output_type": "stream",
     "text": [
      "Cascade detection report:\n",
      "\n",
      "Evaluation on the test set:\n",
      "False alarm prob: 4.74%\n",
      "Miss detection prob: 56.82%\n",
      "Number of False Positives: 10\n",
      "Number of False Negatives: 25\n",
      "Detector f1-score is 52.054795%\n",
      "\n",
      "Other Metrics:\n",
      "Detector accuracy is 86.274510%\n",
      "Detector precision is 65.517241%\n",
      "Detector recall is 43.181818%\n"
     ]
    }
   ],
   "source": [
    "# compute aggregated prediction\n",
    "aggregated_pred = []\n",
    "for i in range(len(X_test)):\n",
    "    # get all the predictions for the current index\n",
    "    current_index_df = anomaly_df[anomaly_df['original_index'] == i]\n",
    "    # if there are less than 5 predictions for the current index, append 0\n",
    "    if len(current_index_df) < 1:\n",
    "        aggregated_pred.append(0)\n",
    "    # else append 1 if there is at least one prediction\n",
    "    else:\n",
    "        aggregated_pred.append(1)\n",
    "\n",
    "print(\"Cascade detection report:\")\n",
    "detection_report(y_test, aggregated_pred)"
   ],
   "metadata": {
    "collapsed": false,
    "ExecuteTime": {
     "end_time": "2023-06-29T15:11:05.682247800Z",
     "start_time": "2023-06-29T15:11:05.667730500Z"
    }
   }
  },
  {
   "cell_type": "code",
   "execution_count": null,
   "outputs": [],
   "source": [],
   "metadata": {
    "collapsed": false
   }
  }
 ],
 "metadata": {
  "kernelspec": {
   "display_name": "Python 3",
   "language": "python",
   "name": "python3"
  },
  "language_info": {
   "codemirror_mode": {
    "name": "ipython",
    "version": 2
   },
   "file_extension": ".py",
   "mimetype": "text/x-python",
   "name": "python",
   "nbconvert_exporter": "python",
   "pygments_lexer": "ipython2",
   "version": "2.7.6"
  }
 },
 "nbformat": 4,
 "nbformat_minor": 0
}
